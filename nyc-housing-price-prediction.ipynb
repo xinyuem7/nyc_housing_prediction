{
 "cells": [
  {
   "cell_type": "code",
   "execution_count": 1,
   "id": "9a460c62",
   "metadata": {
    "execution": {
     "iopub.execute_input": "2022-07-19T21:22:41.846736Z",
     "iopub.status.busy": "2022-07-19T21:22:41.845742Z",
     "iopub.status.idle": "2022-07-19T21:22:55.857155Z",
     "shell.execute_reply": "2022-07-19T21:22:55.855819Z"
    },
    "papermill": {
     "duration": 14.028237,
     "end_time": "2022-07-19T21:22:55.860183",
     "exception": false,
     "start_time": "2022-07-19T21:22:41.831946",
     "status": "completed"
    },
    "tags": []
   },
   "outputs": [
    {
     "name": "stdout",
     "output_type": "stream",
     "text": [
      "Collecting openpyxl\r\n",
      "  Downloading openpyxl-3.0.10-py2.py3-none-any.whl (242 kB)\r\n",
      "\u001b[2K     \u001b[90m━━━━━━━━━━━━━━━━━━━━━━━━━━━━━━━━━━━━━━━\u001b[0m \u001b[32m242.1/242.1 kB\u001b[0m \u001b[31m1.5 MB/s\u001b[0m eta \u001b[36m0:00:00\u001b[0m\r\n",
      "\u001b[?25hCollecting et-xmlfile\r\n",
      "  Downloading et_xmlfile-1.1.0-py3-none-any.whl (4.7 kB)\r\n",
      "Installing collected packages: et-xmlfile, openpyxl\r\n",
      "Successfully installed et-xmlfile-1.1.0 openpyxl-3.0.10\r\n",
      "\u001b[33mWARNING: Running pip as the 'root' user can result in broken permissions and conflicting behaviour with the system package manager. It is recommended to use a virtual environment instead: https://pip.pypa.io/warnings/venv\u001b[0m\u001b[33m\r\n",
      "\u001b[0m"
     ]
    }
   ],
   "source": [
    "!pip install openpyxl"
   ]
  },
  {
   "cell_type": "code",
   "execution_count": 2,
   "id": "b1a441c9",
   "metadata": {
    "_cell_guid": "b1076dfc-b9ad-4769-8c92-a6c4dae69d19",
    "_uuid": "8f2839f25d086af736a60e9eeb907d3b93b6e0e5",
    "execution": {
     "iopub.execute_input": "2022-07-19T21:22:55.876598Z",
     "iopub.status.busy": "2022-07-19T21:22:55.876191Z",
     "iopub.status.idle": "2022-07-19T21:23:39.652374Z",
     "shell.execute_reply": "2022-07-19T21:23:39.650929Z"
    },
    "papermill": {
     "duration": 43.794996,
     "end_time": "2022-07-19T21:23:39.662356",
     "exception": false,
     "start_time": "2022-07-19T21:22:55.867360",
     "status": "completed"
    },
    "tags": []
   },
   "outputs": [
    {
     "name": "stdout",
     "output_type": "stream",
     "text": [
      "/kaggle/input/nyu-properties-price-june-2021-to-may-2022/rollingsales_queens.xlsx\n",
      "/kaggle/input/nyu-properties-price-june-2021-to-may-2022/rollingsales_statenisland.xlsx\n",
      "/kaggle/input/nyu-properties-price-june-2021-to-may-2022/rollingsales_bronx.xlsx\n",
      "/kaggle/input/nyu-properties-price-june-2021-to-may-2022/rollingsales_brooklyn.xlsx\n",
      "/kaggle/input/nyu-properties-price-june-2021-to-may-2022/rollingsales_manhattan.xlsx\n"
     ]
    },
    {
     "data": {
      "text/html": [
       "<div>\n",
       "<style scoped>\n",
       "    .dataframe tbody tr th:only-of-type {\n",
       "        vertical-align: middle;\n",
       "    }\n",
       "\n",
       "    .dataframe tbody tr th {\n",
       "        vertical-align: top;\n",
       "    }\n",
       "\n",
       "    .dataframe thead th {\n",
       "        text-align: right;\n",
       "    }\n",
       "</style>\n",
       "<table border=\"1\" class=\"dataframe\">\n",
       "  <thead>\n",
       "    <tr style=\"text-align: right;\">\n",
       "      <th></th>\n",
       "      <th>BOROUGH</th>\n",
       "      <th>BLOCK</th>\n",
       "      <th>LOT</th>\n",
       "      <th>EASEMENT</th>\n",
       "      <th>ZIP CODE</th>\n",
       "      <th>RESIDENTIAL UNITS</th>\n",
       "      <th>COMMERCIAL UNITS</th>\n",
       "      <th>TOTAL UNITS</th>\n",
       "      <th>LAND SQUARE FEET</th>\n",
       "      <th>GROSS SQUARE FEET</th>\n",
       "      <th>YEAR BUILT</th>\n",
       "      <th>TAX CLASS AT TIME OF SALE</th>\n",
       "      <th>SALE PRICE</th>\n",
       "    </tr>\n",
       "  </thead>\n",
       "  <tbody>\n",
       "    <tr>\n",
       "      <th>count</th>\n",
       "      <td>98270.000000</td>\n",
       "      <td>98270.000000</td>\n",
       "      <td>98270.000000</td>\n",
       "      <td>0.0</td>\n",
       "      <td>98268.000000</td>\n",
       "      <td>74209.000000</td>\n",
       "      <td>55050.000000</td>\n",
       "      <td>77365.000000</td>\n",
       "      <td>5.189400e+04</td>\n",
       "      <td>5.189400e+04</td>\n",
       "      <td>90962.000000</td>\n",
       "      <td>98270.00000</td>\n",
       "      <td>9.827000e+04</td>\n",
       "    </tr>\n",
       "    <tr>\n",
       "      <th>mean</th>\n",
       "      <td>2.931668</td>\n",
       "      <td>4074.654116</td>\n",
       "      <td>407.336837</td>\n",
       "      <td>NaN</td>\n",
       "      <td>10838.035800</td>\n",
       "      <td>3.034605</td>\n",
       "      <td>0.342343</td>\n",
       "      <td>3.154411</td>\n",
       "      <td>6.000338e+03</td>\n",
       "      <td>5.901244e+03</td>\n",
       "      <td>1953.229810</td>\n",
       "      <td>1.66130</td>\n",
       "      <td>1.573321e+06</td>\n",
       "    </tr>\n",
       "    <tr>\n",
       "      <th>std</th>\n",
       "      <td>1.301492</td>\n",
       "      <td>3536.717583</td>\n",
       "      <td>671.622219</td>\n",
       "      <td>NaN</td>\n",
       "      <td>568.321101</td>\n",
       "      <td>21.624886</td>\n",
       "      <td>10.410163</td>\n",
       "      <td>22.955828</td>\n",
       "      <td>9.983351e+04</td>\n",
       "      <td>4.415590e+04</td>\n",
       "      <td>36.261037</td>\n",
       "      <td>0.78476</td>\n",
       "      <td>1.133458e+07</td>\n",
       "    </tr>\n",
       "    <tr>\n",
       "      <th>min</th>\n",
       "      <td>1.000000</td>\n",
       "      <td>1.000000</td>\n",
       "      <td>1.000000</td>\n",
       "      <td>NaN</td>\n",
       "      <td>10001.000000</td>\n",
       "      <td>0.000000</td>\n",
       "      <td>0.000000</td>\n",
       "      <td>0.000000</td>\n",
       "      <td>0.000000e+00</td>\n",
       "      <td>0.000000e+00</td>\n",
       "      <td>1800.000000</td>\n",
       "      <td>1.00000</td>\n",
       "      <td>0.000000e+00</td>\n",
       "    </tr>\n",
       "    <tr>\n",
       "      <th>25%</th>\n",
       "      <td>2.000000</td>\n",
       "      <td>1216.250000</td>\n",
       "      <td>23.000000</td>\n",
       "      <td>NaN</td>\n",
       "      <td>10303.000000</td>\n",
       "      <td>1.000000</td>\n",
       "      <td>0.000000</td>\n",
       "      <td>1.000000</td>\n",
       "      <td>2.000000e+03</td>\n",
       "      <td>1.368000e+03</td>\n",
       "      <td>1925.000000</td>\n",
       "      <td>1.00000</td>\n",
       "      <td>0.000000e+00</td>\n",
       "    </tr>\n",
       "    <tr>\n",
       "      <th>50%</th>\n",
       "      <td>3.000000</td>\n",
       "      <td>3060.000000</td>\n",
       "      <td>53.000000</td>\n",
       "      <td>NaN</td>\n",
       "      <td>11208.000000</td>\n",
       "      <td>1.000000</td>\n",
       "      <td>0.000000</td>\n",
       "      <td>1.000000</td>\n",
       "      <td>2.500000e+03</td>\n",
       "      <td>1.962500e+03</td>\n",
       "      <td>1950.000000</td>\n",
       "      <td>2.00000</td>\n",
       "      <td>6.109500e+05</td>\n",
       "    </tr>\n",
       "    <tr>\n",
       "      <th>75%</th>\n",
       "      <td>4.000000</td>\n",
       "      <td>6099.000000</td>\n",
       "      <td>1007.000000</td>\n",
       "      <td>NaN</td>\n",
       "      <td>11355.000000</td>\n",
       "      <td>2.000000</td>\n",
       "      <td>0.000000</td>\n",
       "      <td>2.000000</td>\n",
       "      <td>4.000000e+03</td>\n",
       "      <td>2.851750e+03</td>\n",
       "      <td>1980.000000</td>\n",
       "      <td>2.00000</td>\n",
       "      <td>1.100000e+06</td>\n",
       "    </tr>\n",
       "    <tr>\n",
       "      <th>max</th>\n",
       "      <td>5.000000</td>\n",
       "      <td>16350.000000</td>\n",
       "      <td>9114.000000</td>\n",
       "      <td>NaN</td>\n",
       "      <td>11697.000000</td>\n",
       "      <td>800.000000</td>\n",
       "      <td>2261.000000</td>\n",
       "      <td>2261.000000</td>\n",
       "      <td>5.799632e+06</td>\n",
       "      <td>2.400000e+06</td>\n",
       "      <td>2022.000000</td>\n",
       "      <td>4.00000</td>\n",
       "      <td>1.033000e+09</td>\n",
       "    </tr>\n",
       "  </tbody>\n",
       "</table>\n",
       "</div>"
      ],
      "text/plain": [
       "            BOROUGH         BLOCK           LOT  EASEMENT      ZIP CODE  \\\n",
       "count  98270.000000  98270.000000  98270.000000       0.0  98268.000000   \n",
       "mean       2.931668   4074.654116    407.336837       NaN  10838.035800   \n",
       "std        1.301492   3536.717583    671.622219       NaN    568.321101   \n",
       "min        1.000000      1.000000      1.000000       NaN  10001.000000   \n",
       "25%        2.000000   1216.250000     23.000000       NaN  10303.000000   \n",
       "50%        3.000000   3060.000000     53.000000       NaN  11208.000000   \n",
       "75%        4.000000   6099.000000   1007.000000       NaN  11355.000000   \n",
       "max        5.000000  16350.000000   9114.000000       NaN  11697.000000   \n",
       "\n",
       "       RESIDENTIAL UNITS  COMMERCIAL UNITS   TOTAL UNITS  LAND SQUARE FEET  \\\n",
       "count       74209.000000      55050.000000  77365.000000      5.189400e+04   \n",
       "mean            3.034605          0.342343      3.154411      6.000338e+03   \n",
       "std            21.624886         10.410163     22.955828      9.983351e+04   \n",
       "min             0.000000          0.000000      0.000000      0.000000e+00   \n",
       "25%             1.000000          0.000000      1.000000      2.000000e+03   \n",
       "50%             1.000000          0.000000      1.000000      2.500000e+03   \n",
       "75%             2.000000          0.000000      2.000000      4.000000e+03   \n",
       "max           800.000000       2261.000000   2261.000000      5.799632e+06   \n",
       "\n",
       "       GROSS SQUARE FEET    YEAR BUILT  TAX CLASS AT TIME OF SALE  \\\n",
       "count       5.189400e+04  90962.000000                98270.00000   \n",
       "mean        5.901244e+03   1953.229810                    1.66130   \n",
       "std         4.415590e+04     36.261037                    0.78476   \n",
       "min         0.000000e+00   1800.000000                    1.00000   \n",
       "25%         1.368000e+03   1925.000000                    1.00000   \n",
       "50%         1.962500e+03   1950.000000                    2.00000   \n",
       "75%         2.851750e+03   1980.000000                    2.00000   \n",
       "max         2.400000e+06   2022.000000                    4.00000   \n",
       "\n",
       "         SALE PRICE  \n",
       "count  9.827000e+04  \n",
       "mean   1.573321e+06  \n",
       "std    1.133458e+07  \n",
       "min    0.000000e+00  \n",
       "25%    0.000000e+00  \n",
       "50%    6.109500e+05  \n",
       "75%    1.100000e+06  \n",
       "max    1.033000e+09  "
      ]
     },
     "execution_count": 2,
     "metadata": {},
     "output_type": "execute_result"
    }
   ],
   "source": [
    "# import Python packages\n",
    "import numpy as np\n",
    "import pandas as pd\n",
    "import seaborn as sns\n",
    "from sklearn.model_selection import train_test_split\n",
    "import matplotlib.pyplot as plt\n",
    "\n",
    "import os\n",
    "for dirname, _, filenames in os.walk('/kaggle/input'):\n",
    "    for filename in filenames:\n",
    "        print(os.path.join(dirname, filename))\n",
    "\n",
    "# import dataset\n",
    "queens = pd.read_excel(\"../input/nyu-properties-price-june-2021-to-may-2022/rollingsales_queens.xlsx\")\n",
    "brooklyn = pd.read_excel(\"../input/nyu-properties-price-june-2021-to-may-2022/rollingsales_brooklyn.xlsx\")\n",
    "manhattan = pd.read_excel(\"../input/nyu-properties-price-june-2021-to-may-2022/rollingsales_manhattan.xlsx\")\n",
    "bronx = pd.read_excel(\"../input/nyu-properties-price-june-2021-to-may-2022/rollingsales_bronx.xlsx\")\n",
    "statenisland = pd.read_excel(\"../input/nyu-properties-price-june-2021-to-may-2022/rollingsales_statenisland.xlsx\")\n",
    "\n",
    "all_data = pd.concat([queens, brooklyn, manhattan, bronx, statenisland])\n",
    "all_data.describe()"
   ]
  },
  {
   "cell_type": "code",
   "execution_count": 3,
   "id": "f4981626",
   "metadata": {
    "execution": {
     "iopub.execute_input": "2022-07-19T21:23:39.679027Z",
     "iopub.status.busy": "2022-07-19T21:23:39.678044Z",
     "iopub.status.idle": "2022-07-19T21:23:39.924472Z",
     "shell.execute_reply": "2022-07-19T21:23:39.922940Z"
    },
    "papermill": {
     "duration": 0.258533,
     "end_time": "2022-07-19T21:23:39.928044",
     "exception": false,
     "start_time": "2022-07-19T21:23:39.669511",
     "status": "completed"
    },
    "tags": []
   },
   "outputs": [
    {
     "name": "stdout",
     "output_type": "stream",
     "text": [
      "<class 'pandas.core.frame.DataFrame'>\n",
      "Int64Index: 98270 entries, 0 to 9087\n",
      "Data columns (total 21 columns):\n",
      " #   Column                          Non-Null Count  Dtype         \n",
      "---  ------                          --------------  -----         \n",
      " 0   BOROUGH                         98270 non-null  int64         \n",
      " 1   NEIGHBORHOOD                    98270 non-null  object        \n",
      " 2   BUILDING CLASS CATEGORY         98270 non-null  object        \n",
      " 3   TAX CLASS AT PRESENT            98210 non-null  object        \n",
      " 4   BLOCK                           98270 non-null  int64         \n",
      " 5   LOT                             98270 non-null  int64         \n",
      " 6   EASEMENT                        0 non-null      float64       \n",
      " 7   BUILDING CLASS AT PRESENT       98210 non-null  object        \n",
      " 8   ADDRESS                         98270 non-null  object        \n",
      " 9   APARTMENT NUMBER                25280 non-null  object        \n",
      " 10  ZIP CODE                        98268 non-null  float64       \n",
      " 11  RESIDENTIAL UNITS               74209 non-null  float64       \n",
      " 12  COMMERCIAL UNITS                55050 non-null  float64       \n",
      " 13  TOTAL UNITS                     77365 non-null  float64       \n",
      " 14  LAND SQUARE FEET                51894 non-null  float64       \n",
      " 15  GROSS SQUARE FEET               51894 non-null  float64       \n",
      " 16  YEAR BUILT                      90962 non-null  float64       \n",
      " 17  TAX CLASS AT TIME OF SALE       98270 non-null  int64         \n",
      " 18  BUILDING CLASS AT TIME OF SALE  98270 non-null  object        \n",
      " 19  SALE PRICE                      98270 non-null  int64         \n",
      " 20  SALE DATE                       98270 non-null  datetime64[ns]\n",
      "dtypes: datetime64[ns](1), float64(8), int64(5), object(7)\n",
      "memory usage: 16.5+ MB\n"
     ]
    }
   ],
   "source": [
    "# data cleaning for all_data\n",
    "all_data.head()\n",
    "all_data.info()\n",
    "all_data.describe()\n",
    "\n",
    "# According to all_data.info(), the following columns have NaN:\n",
    "# TAX CLASS AT PRESENT\n",
    "# EASEMENT (all values are missing, will not be using this column)\n",
    "# BUILDING CLASS AT PRESENT \n",
    "# APARTMENT NUMBER\n",
    "# ZIP CODE\n",
    "# RESIDENTIAL UNITS\n",
    "# COMMERCIAL UNITS\n",
    "# TOTAL UNITS\n",
    "# LAND SQUARE FEET\n",
    "# GROSS SQUARE FEET\n",
    "# YEAR BUILT\n",
    "\n",
    "# According to all_data.describe(), the following columns have values equal to 0 which they should not have:\n",
    "# Land square feet\n",
    "# Gross square feet\n",
    "# Sale price\n",
    "\n",
    "# drop column EASEMENT and rows with NaN\n",
    "# too many NULL value for APARTMENT NUMBER, dropping this column\n",
    "all_data.dropna(subset = ['LAND SQUARE FEET', 'GROSS SQUARE FEET', 'YEAR BUILT', 'SALE PRICE'], inplace = True)\n",
    "all_data = all_data.drop(columns = ['EASEMENT', 'COMMERCIAL UNITS', 'APARTMENT NUMBER'])\n",
    "\n",
    "# in this case, the target property is residential properties\n",
    "# thus, according to the glossary for TAX CLASS AT TIME OF SALE\n",
    "# dropping rows with TAX CLASS AT TIME OF SALE = 3 or 4\n",
    "# dropping column COMMERCIAL UNITS\n",
    "all_data = all_data.loc[(all_data['TAX CLASS AT TIME OF SALE'] == 1) | (all_data['TAX CLASS AT TIME OF SALE'] == 2)]\n",
    "all_data.head()\n",
    "\n",
    "# # drop unreasonable data\n",
    "# # drop rows with LAND SQUARE FEET, GROSS SQUARE FEET, YEAR BUILT, or SALE PRICE equals to 0\n",
    "# all_data = all_data.loc[~((all_data['LAND SQUARE FEET'] == 0) | (all_data['GROSS SQUARE FEET'] == 0) | (all_data['YEAR BUILT'] == 0) | (all_data['SALE PRICE'] == 0))]\n",
    "\n",
    "all_data.describe()\n",
    "\n",
    "# split all_data into training and testing datasets for linear regression\n",
    "training_data, testing_data = train_test_split(all_data, test_size = 0.2, random_state = 25)"
   ]
  },
  {
   "cell_type": "code",
   "execution_count": 4,
   "id": "2249cb42",
   "metadata": {
    "execution": {
     "iopub.execute_input": "2022-07-19T21:23:39.945957Z",
     "iopub.status.busy": "2022-07-19T21:23:39.945581Z",
     "iopub.status.idle": "2022-07-19T21:23:39.989352Z",
     "shell.execute_reply": "2022-07-19T21:23:39.987484Z"
    },
    "papermill": {
     "duration": 0.056137,
     "end_time": "2022-07-19T21:23:39.992225",
     "exception": false,
     "start_time": "2022-07-19T21:23:39.936088",
     "status": "completed"
    },
    "tags": []
   },
   "outputs": [
    {
     "name": "stdout",
     "output_type": "stream",
     "text": [
      "<class 'pandas.core.frame.DataFrame'>\n",
      "Int64Index: 37816 entries, 17931 to 20964\n",
      "Data columns (total 18 columns):\n",
      " #   Column                          Non-Null Count  Dtype         \n",
      "---  ------                          --------------  -----         \n",
      " 0   BOROUGH                         37816 non-null  int64         \n",
      " 1   NEIGHBORHOOD                    37816 non-null  object        \n",
      " 2   BUILDING CLASS CATEGORY         37816 non-null  object        \n",
      " 3   TAX CLASS AT PRESENT            37816 non-null  object        \n",
      " 4   BLOCK                           37816 non-null  int64         \n",
      " 5   LOT                             37816 non-null  int64         \n",
      " 6   BUILDING CLASS AT PRESENT       37816 non-null  object        \n",
      " 7   ADDRESS                         37816 non-null  object        \n",
      " 8   ZIP CODE                        37816 non-null  float64       \n",
      " 9   RESIDENTIAL UNITS               37816 non-null  float64       \n",
      " 10  TOTAL UNITS                     37816 non-null  float64       \n",
      " 11  LAND SQUARE FEET                37816 non-null  float64       \n",
      " 12  GROSS SQUARE FEET               37816 non-null  float64       \n",
      " 13  YEAR BUILT                      37816 non-null  float64       \n",
      " 14  TAX CLASS AT TIME OF SALE       37816 non-null  int64         \n",
      " 15  BUILDING CLASS AT TIME OF SALE  37816 non-null  object        \n",
      " 16  SALE PRICE                      37816 non-null  int64         \n",
      " 17  SALE DATE                       37816 non-null  datetime64[ns]\n",
      "dtypes: datetime64[ns](1), float64(6), int64(5), object(6)\n",
      "memory usage: 5.5+ MB\n"
     ]
    }
   ],
   "source": [
    "# Step 1: understand the dataset\n",
    "\n",
    "# shape of the training dataset and teh testing dataset\n",
    "# training_data\n",
    "# testing_data\n",
    "\n",
    "# # understand the nature of teh training data\n",
    "# training_data.info()\n",
    "training_data.info()"
   ]
  },
  {
   "cell_type": "code",
   "execution_count": 5,
   "id": "fc43c652",
   "metadata": {
    "execution": {
     "iopub.execute_input": "2022-07-19T21:23:40.009537Z",
     "iopub.status.busy": "2022-07-19T21:23:40.009116Z",
     "iopub.status.idle": "2022-07-19T21:23:40.070130Z",
     "shell.execute_reply": "2022-07-19T21:23:40.068959Z"
    },
    "papermill": {
     "duration": 0.072977,
     "end_time": "2022-07-19T21:23:40.072920",
     "exception": false,
     "start_time": "2022-07-19T21:23:39.999943",
     "status": "completed"
    },
    "tags": []
   },
   "outputs": [],
   "source": [
    "# The following variables may need feature engineering:\n",
    "# NEIGHBORHOOD\n",
    "# BUILDING CLASS CATEGORY\n",
    "# ADDRESS\n",
    "# ZIP CODE\n",
    "\n",
    "# After reading the glossary of terms, I decided to include the following columns for now:\n",
    "# BOROUGH OR BLOCK OR LOT OR ZIP CODE OR NEIGHBORHOOD - ZIP CODE √\n",
    "# BUILDING CLASS AT TIME OF SALE √\n",
    "# TAX CLASS AT TIME OF SALE √\n",
    "# RESIDENTIAL UNITS √\n",
    "# COMMERCIAL UNITS x\n",
    "# TOTAL UNITS (Maybe) x\n",
    "# LAND SQUARE FEET √\n",
    "# GROSS SQUARE FEET x\n",
    "# YEAR BUILT (need feature engineering)\n",
    "\n",
    "# drop rows with LAND SQUARE FEET, GROSS SQUARE FEET, YEAR BUILT, or SALE PRICE equals to 0\n",
    "training_data = training_data.loc[(training_data['LAND SQUARE FEET'] > 0) & (training_data['GROSS SQUARE FEET'] > 0) & (training_data['YEAR BUILT'] > 0)]\n",
    "\n",
    "# drop rows with LAND SQUARE FEET, GROSS SQUARE FEET, YEAR BUILT\n",
    "training_data.describe()\n",
    "\n",
    "# training_data.describe().columns\n",
    "df_num = training_data[['LAND SQUARE FEET', 'GROSS SQUARE FEET', 'RESIDENTIAL UNITS', 'TOTAL UNITS', 'YEAR BUILT']]\n",
    "df_cat = training_data[['BOROUGH', 'BLOCK', 'LOT', 'ZIP CODE', 'NEIGHBORHOOD', 'BUILDING CLASS AT TIME OF SALE', 'TAX CLASS AT TIME OF SALE']]"
   ]
  },
  {
   "cell_type": "code",
   "execution_count": 6,
   "id": "0c625c23",
   "metadata": {
    "execution": {
     "iopub.execute_input": "2022-07-19T21:23:40.091011Z",
     "iopub.status.busy": "2022-07-19T21:23:40.090178Z",
     "iopub.status.idle": "2022-07-19T21:23:40.432237Z",
     "shell.execute_reply": "2022-07-19T21:23:40.431078Z"
    },
    "papermill": {
     "duration": 0.353993,
     "end_time": "2022-07-19T21:23:40.434705",
     "exception": false,
     "start_time": "2022-07-19T21:23:40.080712",
     "status": "completed"
    },
    "tags": []
   },
   "outputs": [
    {
     "name": "stdout",
     "output_type": "stream",
     "text": [
      "                   LAND SQUARE FEET  GROSS SQUARE FEET  RESIDENTIAL UNITS  \\\n",
      "LAND SQUARE FEET           1.000000           0.434825           0.430717   \n",
      "GROSS SQUARE FEET          0.434825           1.000000           0.977459   \n",
      "RESIDENTIAL UNITS          0.430717           0.977459           1.000000   \n",
      "TOTAL UNITS                0.431599           0.978102           0.999885   \n",
      "YEAR BUILT                 0.102285           0.140938           0.135908   \n",
      "\n",
      "                   TOTAL UNITS  YEAR BUILT  \n",
      "LAND SQUARE FEET      0.431599    0.102285  \n",
      "GROSS SQUARE FEET     0.978102    0.140938  \n",
      "RESIDENTIAL UNITS     0.999885    0.135908  \n",
      "TOTAL UNITS           1.000000    0.134558  \n",
      "YEAR BUILT            0.134558    1.000000  \n"
     ]
    },
    {
     "data": {
      "text/plain": [
       "<AxesSubplot:>"
      ]
     },
     "execution_count": 6,
     "metadata": {},
     "output_type": "execute_result"
    },
    {
     "data": {
      "image/png": "[encoded data removed]",
      "text/plain": [
       "<Figure size 432x288 with 2 Axes>"
      ]
     },
     "metadata": {
      "needs_background": "light"
     },
     "output_type": "display_data"
    }
   ],
   "source": [
    "# use heatmap to see if any numerical variables are highly correlated\n",
    "print(df_num.corr())\n",
    "sns.heatmap(df_num.corr())"
   ]
  },
  {
   "cell_type": "code",
   "execution_count": 7,
   "id": "6887e41d",
   "metadata": {
    "execution": {
     "iopub.execute_input": "2022-07-19T21:23:40.453718Z",
     "iopub.status.busy": "2022-07-19T21:23:40.453317Z",
     "iopub.status.idle": "2022-07-19T21:23:40.460262Z",
     "shell.execute_reply": "2022-07-19T21:23:40.459078Z"
    },
    "papermill": {
     "duration": 0.019144,
     "end_time": "2022-07-19T21:23:40.462510",
     "exception": false,
     "start_time": "2022-07-19T21:23:40.443366",
     "status": "completed"
    },
    "tags": []
   },
   "outputs": [],
   "source": [
    "# it shows that TOTAL UNITS, RESIDENTIAL UNITS, GROSS SQUARE FEET are highly corelated\n",
    "# so TOTAL UNITS and GROSS SQUARE FEET will not be included in the model\n",
    "df_num = df_num.drop(columns = ['TOTAL UNITS', 'GROSS SQUARE FEET'])"
   ]
  },
  {
   "cell_type": "code",
   "execution_count": 8,
   "id": "c3d07b85",
   "metadata": {
    "execution": {
     "iopub.execute_input": "2022-07-19T21:23:40.481373Z",
     "iopub.status.busy": "2022-07-19T21:23:40.480693Z",
     "iopub.status.idle": "2022-07-19T21:23:41.211999Z",
     "shell.execute_reply": "2022-07-19T21:23:41.211136Z"
    },
    "papermill": {
     "duration": 0.743754,
     "end_time": "2022-07-19T21:23:41.214468",
     "exception": false,
     "start_time": "2022-07-19T21:23:40.470714",
     "status": "completed"
    },
    "tags": []
   },
   "outputs": [
    {
     "data": {
      "image/png": "[encoded data removed]",
      "text/plain": [
       "<Figure size 432x288 with 1 Axes>"
      ]
     },
     "metadata": {
      "needs_background": "light"
     },
     "output_type": "display_data"
    },
    {
     "data": {
      "image/png": "[encoded data removed]",
      "text/plain": [
       "<Figure size 432x288 with 1 Axes>"
      ]
     },
     "metadata": {
      "needs_background": "light"
     },
     "output_type": "display_data"
    },
    {
     "data": {
      "image/png": "[encoded data removed]",
      "text/plain": [
       "<Figure size 432x288 with 1 Axes>"
      ]
     },
     "metadata": {
      "needs_background": "light"
     },
     "output_type": "display_data"
    }
   ],
   "source": [
    "# plot the distribution of the numeric variables\n",
    "for i in df_num.columns:\n",
    "    plt.hist(df_num[i])\n",
    "    plt.title(i)\n",
    "    plt.show()"
   ]
  },
  {
   "cell_type": "code",
   "execution_count": 9,
   "id": "6460b950",
   "metadata": {
    "execution": {
     "iopub.execute_input": "2022-07-19T21:23:41.235201Z",
     "iopub.status.busy": "2022-07-19T21:23:41.234133Z",
     "iopub.status.idle": "2022-07-19T21:23:41.254360Z",
     "shell.execute_reply": "2022-07-19T21:23:41.253166Z"
    },
    "papermill": {
     "duration": 0.033491,
     "end_time": "2022-07-19T21:23:41.257121",
     "exception": false,
     "start_time": "2022-07-19T21:23:41.223630",
     "status": "completed"
    },
    "tags": []
   },
   "outputs": [
    {
     "data": {
      "text/plain": [
       "array([3., 1., 2., 4., 6., 9., 5., 8., 7.])"
      ]
     },
     "execution_count": 9,
     "metadata": {},
     "output_type": "execute_result"
    }
   ],
   "source": [
    "# need to exclude outliers \n",
    "# in this case, outlier is defined as any value that is outside of the outter fence (Q3 + 3 * IQR)\n",
    "# for LAND SQUARE FEET: 4000 + (3 * 2000) = 10000\n",
    "# for GROSS SQUARE FEET: 2914 + (3 * 1474) = 7336\n",
    "# for RESIDENTIAL UNITS: < 10\n",
    "# for COMMERCIAL UNITS: < 8\n",
    "training_data = training_data.loc[(training_data['LAND SQUARE FEET'] < 10000) & (training_data['RESIDENTIAL UNITS'] < 10)]\n",
    "training_data['RESIDENTIAL UNITS'].unique()"
   ]
  },
  {
   "cell_type": "code",
   "execution_count": 10,
   "id": "a3621c9e",
   "metadata": {
    "execution": {
     "iopub.execute_input": "2022-07-19T21:23:41.277984Z",
     "iopub.status.busy": "2022-07-19T21:23:41.277584Z",
     "iopub.status.idle": "2022-07-19T21:23:41.883046Z",
     "shell.execute_reply": "2022-07-19T21:23:41.882203Z"
    },
    "papermill": {
     "duration": 0.61889,
     "end_time": "2022-07-19T21:23:41.885220",
     "exception": false,
     "start_time": "2022-07-19T21:23:41.266330",
     "status": "completed"
    },
    "tags": []
   },
   "outputs": [
    {
     "data": {
      "image/png": "[encoded data removed]",
      "text/plain": [
       "<Figure size 432x288 with 1 Axes>"
      ]
     },
     "metadata": {
      "needs_background": "light"
     },
     "output_type": "display_data"
    },
    {
     "data": {
      "image/png": "[encoded data removed]",
      "text/plain": [
       "<Figure size 432x288 with 1 Axes>"
      ]
     },
     "metadata": {
      "needs_background": "light"
     },
     "output_type": "display_data"
    },
    {
     "data": {
      "image/png": "[encoded data removed]",
      "text/plain": [
       "<Figure size 432x288 with 1 Axes>"
      ]
     },
     "metadata": {
      "needs_background": "light"
     },
     "output_type": "display_data"
    }
   ],
   "source": [
    "df_num = training_data[['LAND SQUARE FEET', 'RESIDENTIAL UNITS', 'YEAR BUILT']]\n",
    "# df_cat = training_data[['BOROUGH', 'BLOCK', 'LOT', 'ZIP CODE', 'NEIGHBORHOOD', 'BUILDING CLASS AT TIME OF SALE', 'TAX CLASS AT TIME OF SALE', 'RESIDENTIAL UNITS', 'COMMERCIAL UNITS', 'TOTAL UNITS', 'YEAR BUILT']]\n",
    "for i in df_num.columns:\n",
    "    plt.hist(df_num[i])\n",
    "    plt.title(i)\n",
    "    plt.show()"
   ]
  },
  {
   "cell_type": "code",
   "execution_count": 11,
   "id": "e990f323",
   "metadata": {
    "execution": {
     "iopub.execute_input": "2022-07-19T21:23:41.909114Z",
     "iopub.status.busy": "2022-07-19T21:23:41.907875Z",
     "iopub.status.idle": "2022-07-19T21:23:41.917356Z",
     "shell.execute_reply": "2022-07-19T21:23:41.916102Z"
    },
    "papermill": {
     "duration": 0.024564,
     "end_time": "2022-07-19T21:23:41.920362",
     "exception": false,
     "start_time": "2022-07-19T21:23:41.895798",
     "status": "completed"
    },
    "tags": []
   },
   "outputs": [],
   "source": [
    "# LAND SQUARE FEET, GROSS SQUARE FEET, RESIDENTIAL UNITS, COMMERCIAL UNITS are right skewed\n",
    "# use log transformation to normalize them\n",
    "training_data['LAND SQUARE FEET'] = np.log(training_data['LAND SQUARE FEET'])\n",
    "# training_data['GROSS SQUARE FEET'] = np.log(training_data['GROSS SQUARE FEET'])\n",
    "training_data['RESIDENTIAL UNITS'] = np.log(training_data['RESIDENTIAL UNITS'].add(1))\n",
    "# training_data['COMMERCIAL UNITS'] = np.log(training_data['COMMERCIAL UNITS'].add(1))"
   ]
  },
  {
   "cell_type": "code",
   "execution_count": 12,
   "id": "b4c55628",
   "metadata": {
    "execution": {
     "iopub.execute_input": "2022-07-19T21:23:41.942034Z",
     "iopub.status.busy": "2022-07-19T21:23:41.941649Z",
     "iopub.status.idle": "2022-07-19T21:23:42.570648Z",
     "shell.execute_reply": "2022-07-19T21:23:42.569442Z"
    },
    "papermill": {
     "duration": 0.642798,
     "end_time": "2022-07-19T21:23:42.573052",
     "exception": false,
     "start_time": "2022-07-19T21:23:41.930254",
     "status": "completed"
    },
    "tags": []
   },
   "outputs": [
    {
     "data": {
      "image/png": "[encoded data removed]",
      "text/plain": [
       "<Figure size 432x288 with 1 Axes>"
      ]
     },
     "metadata": {
      "needs_background": "light"
     },
     "output_type": "display_data"
    },
    {
     "data": {
      "image/png": "[encoded data removed]",
      "text/plain": [
       "<Figure size 432x288 with 1 Axes>"
      ]
     },
     "metadata": {
      "needs_background": "light"
     },
     "output_type": "display_data"
    },
    {
     "data": {
      "image/png": "[encoded data removed]",
      "text/plain": [
       "<Figure size 432x288 with 1 Axes>"
      ]
     },
     "metadata": {
      "needs_background": "light"
     },
     "output_type": "display_data"
    },
    {
     "data": {
      "text/html": [
       "<div>\n",
       "<style scoped>\n",
       "    .dataframe tbody tr th:only-of-type {\n",
       "        vertical-align: middle;\n",
       "    }\n",
       "\n",
       "    .dataframe tbody tr th {\n",
       "        vertical-align: top;\n",
       "    }\n",
       "\n",
       "    .dataframe thead th {\n",
       "        text-align: right;\n",
       "    }\n",
       "</style>\n",
       "<table border=\"1\" class=\"dataframe\">\n",
       "  <thead>\n",
       "    <tr style=\"text-align: right;\">\n",
       "      <th></th>\n",
       "      <th>BOROUGH</th>\n",
       "      <th>NEIGHBORHOOD</th>\n",
       "      <th>BUILDING CLASS CATEGORY</th>\n",
       "      <th>TAX CLASS AT PRESENT</th>\n",
       "      <th>BLOCK</th>\n",
       "      <th>LOT</th>\n",
       "      <th>BUILDING CLASS AT PRESENT</th>\n",
       "      <th>ADDRESS</th>\n",
       "      <th>ZIP CODE</th>\n",
       "      <th>RESIDENTIAL UNITS</th>\n",
       "      <th>TOTAL UNITS</th>\n",
       "      <th>LAND SQUARE FEET</th>\n",
       "      <th>GROSS SQUARE FEET</th>\n",
       "      <th>YEAR BUILT</th>\n",
       "      <th>TAX CLASS AT TIME OF SALE</th>\n",
       "      <th>BUILDING CLASS AT TIME OF SALE</th>\n",
       "      <th>SALE PRICE</th>\n",
       "      <th>SALE DATE</th>\n",
       "    </tr>\n",
       "  </thead>\n",
       "  <tbody>\n",
       "    <tr>\n",
       "      <th>17931</th>\n",
       "      <td>4</td>\n",
       "      <td>LONG ISLAND CITY</td>\n",
       "      <td>03 THREE FAMILY DWELLINGS</td>\n",
       "      <td>1</td>\n",
       "      <td>606</td>\n",
       "      <td>117</td>\n",
       "      <td>C0</td>\n",
       "      <td>35-17 33 STREET</td>\n",
       "      <td>11106.0</td>\n",
       "      <td>1.386294</td>\n",
       "      <td>3.0</td>\n",
       "      <td>7.573531</td>\n",
       "      <td>2813.0</td>\n",
       "      <td>2001.0</td>\n",
       "      <td>1</td>\n",
       "      <td>C0</td>\n",
       "      <td>0</td>\n",
       "      <td>2021-07-30</td>\n",
       "    </tr>\n",
       "    <tr>\n",
       "      <th>20010</th>\n",
       "      <td>3</td>\n",
       "      <td>MARINE PARK</td>\n",
       "      <td>01 ONE FAMILY DWELLINGS</td>\n",
       "      <td>1</td>\n",
       "      <td>8557</td>\n",
       "      <td>56</td>\n",
       "      <td>A1</td>\n",
       "      <td>2226 COLEMAN STREET</td>\n",
       "      <td>11234.0</td>\n",
       "      <td>0.693147</td>\n",
       "      <td>1.0</td>\n",
       "      <td>7.638680</td>\n",
       "      <td>924.0</td>\n",
       "      <td>1920.0</td>\n",
       "      <td>1</td>\n",
       "      <td>A1</td>\n",
       "      <td>800000</td>\n",
       "      <td>2021-08-05</td>\n",
       "    </tr>\n",
       "    <tr>\n",
       "      <th>19425</th>\n",
       "      <td>4</td>\n",
       "      <td>MASPETH</td>\n",
       "      <td>02 TWO FAMILY DWELLINGS</td>\n",
       "      <td>1</td>\n",
       "      <td>2762</td>\n",
       "      <td>98</td>\n",
       "      <td>B1</td>\n",
       "      <td>6301 ELIOT AVE</td>\n",
       "      <td>11379.0</td>\n",
       "      <td>1.098612</td>\n",
       "      <td>2.0</td>\n",
       "      <td>7.600902</td>\n",
       "      <td>2080.0</td>\n",
       "      <td>1930.0</td>\n",
       "      <td>1</td>\n",
       "      <td>B1</td>\n",
       "      <td>0</td>\n",
       "      <td>2021-11-06</td>\n",
       "    </tr>\n",
       "    <tr>\n",
       "      <th>25210</th>\n",
       "      <td>4</td>\n",
       "      <td>SO. JAMAICA-BAISLEY PARK</td>\n",
       "      <td>01 ONE FAMILY DWELLINGS</td>\n",
       "      <td>1</td>\n",
       "      <td>12208</td>\n",
       "      <td>50</td>\n",
       "      <td>A9</td>\n",
       "      <td>118-30 154TH STREET</td>\n",
       "      <td>11434.0</td>\n",
       "      <td>0.693147</td>\n",
       "      <td>1.0</td>\n",
       "      <td>7.207860</td>\n",
       "      <td>786.0</td>\n",
       "      <td>1925.0</td>\n",
       "      <td>1</td>\n",
       "      <td>A9</td>\n",
       "      <td>500000</td>\n",
       "      <td>2021-07-09</td>\n",
       "    </tr>\n",
       "    <tr>\n",
       "      <th>5413</th>\n",
       "      <td>4</td>\n",
       "      <td>EAST ELMHURST</td>\n",
       "      <td>01 ONE FAMILY DWELLINGS</td>\n",
       "      <td>1</td>\n",
       "      <td>1637</td>\n",
       "      <td>49</td>\n",
       "      <td>A5</td>\n",
       "      <td>23-41 100TH STREET</td>\n",
       "      <td>11369.0</td>\n",
       "      <td>0.693147</td>\n",
       "      <td>1.0</td>\n",
       "      <td>7.840706</td>\n",
       "      <td>1104.0</td>\n",
       "      <td>1950.0</td>\n",
       "      <td>1</td>\n",
       "      <td>A5</td>\n",
       "      <td>530000</td>\n",
       "      <td>2021-10-04</td>\n",
       "    </tr>\n",
       "  </tbody>\n",
       "</table>\n",
       "</div>"
      ],
      "text/plain": [
       "       BOROUGH              NEIGHBORHOOD    BUILDING CLASS CATEGORY  \\\n",
       "17931        4          LONG ISLAND CITY  03 THREE FAMILY DWELLINGS   \n",
       "20010        3               MARINE PARK    01 ONE FAMILY DWELLINGS   \n",
       "19425        4                   MASPETH    02 TWO FAMILY DWELLINGS   \n",
       "25210        4  SO. JAMAICA-BAISLEY PARK    01 ONE FAMILY DWELLINGS   \n",
       "5413         4             EAST ELMHURST    01 ONE FAMILY DWELLINGS   \n",
       "\n",
       "      TAX CLASS AT PRESENT  BLOCK  LOT BUILDING CLASS AT PRESENT  \\\n",
       "17931                    1    606  117                        C0   \n",
       "20010                    1   8557   56                        A1   \n",
       "19425                    1   2762   98                        B1   \n",
       "25210                    1  12208   50                        A9   \n",
       "5413                     1   1637   49                        A5   \n",
       "\n",
       "                   ADDRESS  ZIP CODE  RESIDENTIAL UNITS  TOTAL UNITS  \\\n",
       "17931      35-17 33 STREET   11106.0           1.386294          3.0   \n",
       "20010  2226 COLEMAN STREET   11234.0           0.693147          1.0   \n",
       "19425       6301 ELIOT AVE   11379.0           1.098612          2.0   \n",
       "25210  118-30 154TH STREET   11434.0           0.693147          1.0   \n",
       "5413    23-41 100TH STREET   11369.0           0.693147          1.0   \n",
       "\n",
       "       LAND SQUARE FEET  GROSS SQUARE FEET  YEAR BUILT  \\\n",
       "17931          7.573531             2813.0      2001.0   \n",
       "20010          7.638680              924.0      1920.0   \n",
       "19425          7.600902             2080.0      1930.0   \n",
       "25210          7.207860              786.0      1925.0   \n",
       "5413           7.840706             1104.0      1950.0   \n",
       "\n",
       "       TAX CLASS AT TIME OF SALE BUILDING CLASS AT TIME OF SALE  SALE PRICE  \\\n",
       "17931                          1                             C0           0   \n",
       "20010                          1                             A1      800000   \n",
       "19425                          1                             B1           0   \n",
       "25210                          1                             A9      500000   \n",
       "5413                           1                             A5      530000   \n",
       "\n",
       "       SALE DATE  \n",
       "17931 2021-07-30  \n",
       "20010 2021-08-05  \n",
       "19425 2021-11-06  \n",
       "25210 2021-07-09  \n",
       "5413  2021-10-04  "
      ]
     },
     "execution_count": 12,
     "metadata": {},
     "output_type": "execute_result"
    }
   ],
   "source": [
    "df_num = training_data[['LAND SQUARE FEET', 'RESIDENTIAL UNITS', 'YEAR BUILT']]\n",
    "df_cat = training_data[['BOROUGH', 'BLOCK', 'LOT', 'ZIP CODE', 'NEIGHBORHOOD', 'BUILDING CLASS AT TIME OF SALE', 'TAX CLASS AT TIME OF SALE']]\n",
    "for i in df_num.columns:\n",
    "    plt.hist(df_num[i])\n",
    "    plt.title(i)\n",
    "    plt.show()\n",
    "training_data.head()"
   ]
  },
  {
   "cell_type": "code",
   "execution_count": 13,
   "id": "22c30f17",
   "metadata": {
    "execution": {
     "iopub.execute_input": "2022-07-19T21:23:42.597565Z",
     "iopub.status.busy": "2022-07-19T21:23:42.597163Z",
     "iopub.status.idle": "2022-07-19T21:23:42.878002Z",
     "shell.execute_reply": "2022-07-19T21:23:42.876946Z"
    },
    "papermill": {
     "duration": 0.296536,
     "end_time": "2022-07-19T21:23:42.880903",
     "exception": false,
     "start_time": "2022-07-19T21:23:42.584367",
     "status": "completed"
    },
    "tags": []
   },
   "outputs": [
    {
     "name": "stdout",
     "output_type": "stream",
     "text": [
      "                            BOROUGH     BLOCK       LOT  ZIP CODE  \\\n",
      "BOROUGH                    1.000000  0.119429 -0.000418  0.004428   \n",
      "BLOCK                      0.119429  1.000000  0.027659  0.452184   \n",
      "LOT                       -0.000418  0.027659  1.000000 -0.104607   \n",
      "ZIP CODE                   0.004428  0.452184 -0.104607  1.000000   \n",
      "TAX CLASS AT TIME OF SALE -0.192983 -0.191304 -0.043803 -0.022566   \n",
      "\n",
      "                           TAX CLASS AT TIME OF SALE  \n",
      "BOROUGH                                    -0.192983  \n",
      "BLOCK                                      -0.191304  \n",
      "LOT                                        -0.043803  \n",
      "ZIP CODE                                   -0.022566  \n",
      "TAX CLASS AT TIME OF SALE                   1.000000  \n"
     ]
    },
    {
     "data": {
      "text/plain": [
       "<AxesSubplot:>"
      ]
     },
     "execution_count": 13,
     "metadata": {},
     "output_type": "execute_result"
    },
    {
     "data": {
      "image/png": "[encoded data removed]",
      "text/plain": [
       "<Figure size 432x288 with 2 Axes>"
      ]
     },
     "metadata": {
      "needs_background": "light"
     },
     "output_type": "display_data"
    }
   ],
   "source": [
    "# for categorical variable\n",
    "print(df_cat.corr())\n",
    "sns.heatmap(df_cat.corr())"
   ]
  },
  {
   "cell_type": "code",
   "execution_count": 14,
   "id": "1da4b33e",
   "metadata": {
    "execution": {
     "iopub.execute_input": "2022-07-19T21:23:42.909453Z",
     "iopub.status.busy": "2022-07-19T21:23:42.907640Z",
     "iopub.status.idle": "2022-07-19T21:23:43.165720Z",
     "shell.execute_reply": "2022-07-19T21:23:43.164575Z"
    },
    "papermill": {
     "duration": 0.275736,
     "end_time": "2022-07-19T21:23:43.168474",
     "exception": false,
     "start_time": "2022-07-19T21:23:42.892738",
     "status": "completed"
    },
    "tags": []
   },
   "outputs": [],
   "source": [
    "# choosing variables to include: BOROUGH, NEIGHBORHOOD, BLOCK, LOT, ZIP CODE\n",
    "len(df_cat['NEIGHBORHOOD'].unique()) # 240\n",
    "len(df_cat['BLOCK'].unique()) # 10632\n",
    "len(df_cat['LOT'].unique()) # 716\n",
    "len(df_cat['ZIP CODE'].unique()) # 172\n",
    "\n",
    "# aftering doing research, a new variable will be created based on ZIP CODE\n",
    "area_dic = {\n",
    "    'Central Bronx': [10453, 10457, 10460],\n",
    "    'Bronx Park and Fordham': [10458, 10467, 10468],\n",
    "    'High Bridge and Morrisania': [10451, 10452, 10456],\n",
    "    'Hunts Point and Mott Haven': [10454, 10455, 10459, 10474],\n",
    "    'Kingsbridge and Riverdale': [10463, 10471],\n",
    "    'Northeast Bronx': [10466, 10469, 10470, 10475],\n",
    "    'Southeast Bronx': [10461, 10462,10464, 10465, 10472, 10473],\n",
    "    'Central Brooklyn': [11212, 11213, 11216, 11233, 11238],\n",
    "    'Southwest Brooklyn': [11209, 11214, 11228],\n",
    "    'Borough Park': [11204, 11218, 11219, 11230],\n",
    "    'Canarsie and Flatlands': [11234, 11236, 11239],\n",
    "    'Southern Brooklyn': [11223, 11224, 11229, 11235],\n",
    "    'Northwest Brooklyn': [11201, 11205, 11215, 11217, 11231],\n",
    "    'Flatbush': [11203, 11210, 11225, 11226],\n",
    "    'East New York and New Lots': [11207, 11208],\n",
    "    'Greenpoint': [11211, 11222],\n",
    "    'Sunset Park': [11220, 11232],\n",
    "    'Bushwick and Williamsburg': [11206, 11221, 11237],\n",
    "    'Central Harlem': [10026, 10027, 10030, 10037, 10039],\n",
    "    'Chelsea and Clinton': [10001, 10011, 10018, 10019, 10020, 10036],\n",
    "    'East Harlem': [10029, 10035],\n",
    "    'Gramercy Park and Murray Hill': [10010, 10016, 10017, 10022],\n",
    "    'Greenwich Village and Soho': [10012, 10013, 10014],\n",
    "    'Lower Manhattan': [10004, 10005, 10006, 10007, 10038, 10280],\n",
    "    'Lower East Side': [10002, 10003, 10009],\n",
    "    'Upper East Side': [10021, 10028, 10044, 10065, 10075, 10128],\n",
    "    'Upper West Side': [10023, 10024, 10025],\n",
    "    'Inwood and Washington Heights': [10031, 10032, 10033, 10034, 10040],\n",
    "    'Northeast Queens': [11361, 11362, 11363, 11364],\n",
    "    'North Queens': [11354, 11355, 11356, 11357, 11358, 11359, 11360],\n",
    "    'Central Queens': [11365, 11366, 11367],\n",
    "    'Jamaica': [11412, 11423, 11432, 11433, 11434, 11435, 11436],\n",
    "    'West Central Queens': [11374, 11375, 11379, 11385],\n",
    "    'Northwest Queens': [11101, 11102, 11103, 11104, 11105, 11106],\n",
    "    'Rockaways': [11691, 11692, 11693, 11694, 11695, 11697],\n",
    "    'Southeast Queens': [11004, 11005, 11411, 11413, 11422, 11426, 11427, 11428, 11429],\n",
    "    'Southwest Queens': [11414, 11415, 11416, 11417, 11418, 11419, 11420, 11421],\n",
    "    'West Queens': [11368, 11369, 11370, 11372, 11373, 11377, 11378],\n",
    "    'Port Richmond': [10302, 10303, 10310],\n",
    "    'South Shore': [10306, 10307, 10308, 10309, 10312],\n",
    "    'Stapleton and St. George': [10301, 10304, 10305],\n",
    "    'Mid-Island': [10314]\n",
    "}\n",
    "\n",
    "def get_area(zip_code):\n",
    "    for key, value in area_dic.items():\n",
    "        if zip_code in value:\n",
    "            return key\n",
    "    return 'NA'\n",
    "\n",
    "training_data['AREA'] = [get_area(x) for x in training_data['ZIP CODE']]"
   ]
  },
  {
   "cell_type": "code",
   "execution_count": 15,
   "id": "0f84b54d",
   "metadata": {
    "execution": {
     "iopub.execute_input": "2022-07-19T21:23:43.194433Z",
     "iopub.status.busy": "2022-07-19T21:23:43.193563Z",
     "iopub.status.idle": "2022-07-19T21:23:43.770791Z",
     "shell.execute_reply": "2022-07-19T21:23:43.769587Z"
    },
    "papermill": {
     "duration": 0.592967,
     "end_time": "2022-07-19T21:23:43.773483",
     "exception": false,
     "start_time": "2022-07-19T21:23:43.180516",
     "status": "completed"
    },
    "tags": []
   },
   "outputs": [
    {
     "data": {
      "image/png": "[encoded data removed]",
      "text/plain": [
       "<Figure size 432x288 with 1 Axes>"
      ]
     },
     "metadata": {
      "needs_background": "light"
     },
     "output_type": "display_data"
    },
    {
     "data": {
      "image/png": "[encoded data removed]",
      "text/plain": [
       "<Figure size 432x288 with 1 Axes>"
      ]
     },
     "metadata": {
      "needs_background": "light"
     },
     "output_type": "display_data"
    }
   ],
   "source": [
    "# next, exploring BUILDING CLASS AT TIME OF SALE and TAX CLASS AT TIME OF SALE\n",
    "df_cat = training_data[['ZIP CODE', 'BUILDING CLASS AT TIME OF SALE', 'TAX CLASS AT TIME OF SALE']]\n",
    "df_cat['BUILDING CLASS AT TIME OF SALE'].unique()\n",
    "df_cat['TAX CLASS AT TIME OF SALE'].unique()\n",
    "\n",
    "building_class_mean_sale_price = training_data.groupby('BUILDING CLASS AT TIME OF SALE').agg({'SALE PRICE': 'mean'})\n",
    "tax_class_mean_sale_price = training_data.groupby('TAX CLASS AT TIME OF SALE').agg({'SALE PRICE': 'mean'})\n",
    "plt.bar(building_class_mean_sale_price.index, building_class_mean_sale_price['SALE PRICE'])\n",
    "plt.title('Building class vs mean sale price')\n",
    "plt.show()\n",
    "\n",
    "plt.bar(tax_class_mean_sale_price.index, tax_class_mean_sale_price['SALE PRICE'])\n",
    "plt.title('Tax class vs mean sale price')\n",
    "plt.show()"
   ]
  },
  {
   "cell_type": "code",
   "execution_count": 16,
   "id": "eb2c2322",
   "metadata": {
    "execution": {
     "iopub.execute_input": "2022-07-19T21:23:43.799987Z",
     "iopub.status.busy": "2022-07-19T21:23:43.799533Z",
     "iopub.status.idle": "2022-07-19T21:23:43.864902Z",
     "shell.execute_reply": "2022-07-19T21:23:43.863237Z"
    },
    "papermill": {
     "duration": 0.081653,
     "end_time": "2022-07-19T21:23:43.867671",
     "exception": false,
     "start_time": "2022-07-19T21:23:43.786018",
     "status": "completed"
    },
    "tags": []
   },
   "outputs": [
    {
     "name": "stdout",
     "output_type": "stream",
     "text": [
      "<class 'pandas.core.frame.DataFrame'>\n",
      "Int64Index: 47271 entries, 0 to 9085\n",
      "Data columns (total 18 columns):\n",
      " #   Column                          Non-Null Count  Dtype         \n",
      "---  ------                          --------------  -----         \n",
      " 0   BOROUGH                         47271 non-null  int64         \n",
      " 1   NEIGHBORHOOD                    47271 non-null  object        \n",
      " 2   BUILDING CLASS CATEGORY         47271 non-null  object        \n",
      " 3   TAX CLASS AT PRESENT            47271 non-null  object        \n",
      " 4   BLOCK                           47271 non-null  int64         \n",
      " 5   LOT                             47271 non-null  int64         \n",
      " 6   BUILDING CLASS AT PRESENT       47271 non-null  object        \n",
      " 7   ADDRESS                         47271 non-null  object        \n",
      " 8   ZIP CODE                        47271 non-null  float64       \n",
      " 9   RESIDENTIAL UNITS               47271 non-null  float64       \n",
      " 10  TOTAL UNITS                     47271 non-null  float64       \n",
      " 11  LAND SQUARE FEET                47271 non-null  float64       \n",
      " 12  GROSS SQUARE FEET               47271 non-null  float64       \n",
      " 13  YEAR BUILT                      47271 non-null  float64       \n",
      " 14  TAX CLASS AT TIME OF SALE       47271 non-null  int64         \n",
      " 15  BUILDING CLASS AT TIME OF SALE  47271 non-null  object        \n",
      " 16  SALE PRICE                      47271 non-null  int64         \n",
      " 17  SALE DATE                       47271 non-null  datetime64[ns]\n",
      "dtypes: datetime64[ns](1), float64(6), int64(5), object(6)\n",
      "memory usage: 6.9+ MB\n",
      "<class 'pandas.core.frame.DataFrame'>\n",
      "Int64Index: 47271 entries, 0 to 9085\n",
      "Data columns (total 7 columns):\n",
      " #   Column                          Non-Null Count  Dtype  \n",
      "---  ------                          --------------  -----  \n",
      " 0   ZIP CODE                        47271 non-null  float64\n",
      " 1   RESIDENTIAL UNITS               47271 non-null  float64\n",
      " 2   LAND SQUARE FEET                47271 non-null  float64\n",
      " 3   YEAR BUILT                      47271 non-null  float64\n",
      " 4   TAX CLASS AT TIME OF SALE       47271 non-null  int64  \n",
      " 5   BUILDING CLASS AT TIME OF SALE  47271 non-null  object \n",
      " 6   SALE PRICE                      47271 non-null  int64  \n",
      "dtypes: float64(4), int64(2), object(1)\n",
      "memory usage: 2.9+ MB\n"
     ]
    }
   ],
   "source": [
    "# Data preprocessing for Model\n",
    "\n",
    "# the following columns will be used: LAND SQUARE FEET, RESIDENTIAL UNITS, YEAR BUILT, ZIP CODE, BUILDING CLASS AT TIME OF SALE, TAX CLASS AT TIME OF SALE\n",
    "# 1. drop the other columns √\n",
    "# 2. drop rows with TAX CLASS AT TIME OF SALE is 3 or 4 √\n",
    "# 3. drop rows with NULL from LAND SQUARE FEET, YEAR BUILT, ZIP CODE, BUILDING CLASS AT TIME OF SALE, TAX CLASS AT TIME OF SALE, SALE PRICE √\n",
    "# 4. drop rows with outliers from LAND SQUARE FEET, RESIDENTIAL UNITS\n",
    "# 5. drop rows with 0 from LAND SQUARE FEET\n",
    "# 5. log transformation for LAND SQUARE FEET\n",
    "# 6. create new column named AREA from ZIP CODE\n",
    "\n",
    "# all_data.dropna(subset = ['LAND SQUARE FEET', 'GROSS SQUARE FEET', 'YEAR BUILT', 'SALE PRICE'], inplace = True)\n",
    "# all_data = all_data.drop(columns = ['EASEMENT', 'COMMERCIAL UNITS', 'APARTMENT NUMBER'])\n",
    "all_data.info()\n",
    "all_data = all_data.drop(columns = ['BOROUGH', 'NEIGHBORHOOD', 'BUILDING CLASS CATEGORY', 'BLOCK', 'LOT', 'ADDRESS', 'TOTAL UNITS', 'GROSS SQUARE FEET', 'TAX CLASS AT PRESENT', 'BUILDING CLASS AT PRESENT', 'SALE DATE'])\n",
    "all_data.info()"
   ]
  },
  {
   "cell_type": "code",
   "execution_count": 17,
   "id": "8586adb2",
   "metadata": {
    "execution": {
     "iopub.execute_input": "2022-07-19T21:23:43.894493Z",
     "iopub.status.busy": "2022-07-19T21:23:43.893998Z",
     "iopub.status.idle": "2022-07-19T21:23:43.945696Z",
     "shell.execute_reply": "2022-07-19T21:23:43.944639Z"
    },
    "papermill": {
     "duration": 0.068077,
     "end_time": "2022-07-19T21:23:43.948116",
     "exception": false,
     "start_time": "2022-07-19T21:23:43.880039",
     "status": "completed"
    },
    "tags": []
   },
   "outputs": [
    {
     "data": {
      "text/html": [
       "<div>\n",
       "<style scoped>\n",
       "    .dataframe tbody tr th:only-of-type {\n",
       "        vertical-align: middle;\n",
       "    }\n",
       "\n",
       "    .dataframe tbody tr th {\n",
       "        vertical-align: top;\n",
       "    }\n",
       "\n",
       "    .dataframe thead th {\n",
       "        text-align: right;\n",
       "    }\n",
       "</style>\n",
       "<table border=\"1\" class=\"dataframe\">\n",
       "  <thead>\n",
       "    <tr style=\"text-align: right;\">\n",
       "      <th></th>\n",
       "      <th>ZIP CODE</th>\n",
       "      <th>RESIDENTIAL UNITS</th>\n",
       "      <th>LAND SQUARE FEET</th>\n",
       "      <th>YEAR BUILT</th>\n",
       "      <th>TAX CLASS AT TIME OF SALE</th>\n",
       "      <th>SALE PRICE</th>\n",
       "    </tr>\n",
       "  </thead>\n",
       "  <tbody>\n",
       "    <tr>\n",
       "      <th>count</th>\n",
       "      <td>45309.000000</td>\n",
       "      <td>45309.000000</td>\n",
       "      <td>45309.000000</td>\n",
       "      <td>45309.000000</td>\n",
       "      <td>45309.000000</td>\n",
       "      <td>4.530900e+04</td>\n",
       "    </tr>\n",
       "    <tr>\n",
       "      <th>mean</th>\n",
       "      <td>11042.665872</td>\n",
       "      <td>1.876735</td>\n",
       "      <td>7.880110</td>\n",
       "      <td>1941.323799</td>\n",
       "      <td>1.069589</td>\n",
       "      <td>6.869148e+05</td>\n",
       "    </tr>\n",
       "    <tr>\n",
       "      <th>std</th>\n",
       "      <td>446.072261</td>\n",
       "      <td>1.174899</td>\n",
       "      <td>0.423386</td>\n",
       "      <td>30.297196</td>\n",
       "      <td>0.254456</td>\n",
       "      <td>1.456516e+06</td>\n",
       "    </tr>\n",
       "    <tr>\n",
       "      <th>min</th>\n",
       "      <td>10001.000000</td>\n",
       "      <td>0.000000</td>\n",
       "      <td>4.867534</td>\n",
       "      <td>1800.000000</td>\n",
       "      <td>1.000000</td>\n",
       "      <td>0.000000e+00</td>\n",
       "    </tr>\n",
       "    <tr>\n",
       "      <th>25%</th>\n",
       "      <td>10469.000000</td>\n",
       "      <td>1.000000</td>\n",
       "      <td>7.600902</td>\n",
       "      <td>1920.000000</td>\n",
       "      <td>1.000000</td>\n",
       "      <td>0.000000e+00</td>\n",
       "    </tr>\n",
       "    <tr>\n",
       "      <th>50%</th>\n",
       "      <td>11223.000000</td>\n",
       "      <td>2.000000</td>\n",
       "      <td>7.824046</td>\n",
       "      <td>1931.000000</td>\n",
       "      <td>1.000000</td>\n",
       "      <td>5.500000e+05</td>\n",
       "    </tr>\n",
       "    <tr>\n",
       "      <th>75%</th>\n",
       "      <td>11373.000000</td>\n",
       "      <td>2.000000</td>\n",
       "      <td>8.213924</td>\n",
       "      <td>1960.000000</td>\n",
       "      <td>1.000000</td>\n",
       "      <td>9.000000e+05</td>\n",
       "    </tr>\n",
       "    <tr>\n",
       "      <th>max</th>\n",
       "      <td>11697.000000</td>\n",
       "      <td>9.000000</td>\n",
       "      <td>9.209340</td>\n",
       "      <td>2022.000000</td>\n",
       "      <td>2.000000</td>\n",
       "      <td>7.350000e+07</td>\n",
       "    </tr>\n",
       "  </tbody>\n",
       "</table>\n",
       "</div>"
      ],
      "text/plain": [
       "           ZIP CODE  RESIDENTIAL UNITS  LAND SQUARE FEET    YEAR BUILT  \\\n",
       "count  45309.000000       45309.000000      45309.000000  45309.000000   \n",
       "mean   11042.665872           1.876735          7.880110   1941.323799   \n",
       "std      446.072261           1.174899          0.423386     30.297196   \n",
       "min    10001.000000           0.000000          4.867534   1800.000000   \n",
       "25%    10469.000000           1.000000          7.600902   1920.000000   \n",
       "50%    11223.000000           2.000000          7.824046   1931.000000   \n",
       "75%    11373.000000           2.000000          8.213924   1960.000000   \n",
       "max    11697.000000           9.000000          9.209340   2022.000000   \n",
       "\n",
       "       TAX CLASS AT TIME OF SALE    SALE PRICE  \n",
       "count               45309.000000  4.530900e+04  \n",
       "mean                    1.069589  6.869148e+05  \n",
       "std                     0.254456  1.456516e+06  \n",
       "min                     1.000000  0.000000e+00  \n",
       "25%                     1.000000  0.000000e+00  \n",
       "50%                     1.000000  5.500000e+05  \n",
       "75%                     1.000000  9.000000e+05  \n",
       "max                     2.000000  7.350000e+07  "
      ]
     },
     "execution_count": 17,
     "metadata": {},
     "output_type": "execute_result"
    }
   ],
   "source": [
    "all_data.loc[(all_data['TAX CLASS AT TIME OF SALE'] == 1) | (all_data['TAX CLASS AT TIME OF SALE'] == 2)]\n",
    "all_data = all_data.loc[(all_data['LAND SQUARE FEET'] < 10000) & (all_data['RESIDENTIAL UNITS'] < 10) & (all_data['LAND SQUARE FEET'] > 0)]\n",
    "all_data['LAND SQUARE FEET'] = np.log(all_data['LAND SQUARE FEET'])\n",
    "all_data.describe()"
   ]
  },
  {
   "cell_type": "code",
   "execution_count": 18,
   "id": "d4918489",
   "metadata": {
    "execution": {
     "iopub.execute_input": "2022-07-19T21:23:43.974600Z",
     "iopub.status.busy": "2022-07-19T21:23:43.974164Z",
     "iopub.status.idle": "2022-07-19T21:23:43.979105Z",
     "shell.execute_reply": "2022-07-19T21:23:43.978220Z"
    },
    "papermill": {
     "duration": 0.021219,
     "end_time": "2022-07-19T21:23:43.981625",
     "exception": false,
     "start_time": "2022-07-19T21:23:43.960406",
     "status": "completed"
    },
    "tags": []
   },
   "outputs": [],
   "source": [
    "# drop the outlier for RESIDENTIAL UNITS and COMMERCIAL UNITS\n",
    "# training_data = training_data.loc[training_data['COMMERCIAL UNITS'] < 16]\n",
    "# df_cat = training_data[['BOROUGH', 'BLOCK', 'LOT', 'ZIP CODE', 'NEIGHBORHOOD', 'BUILDING CLASS AT TIME OF SALE', 'TAX CLASS AT TIME OF SALE', 'RESIDENTIAL UNITS', 'COMMERCIAL UNITS', 'TOTAL UNITS', 'YEAR BUILT', 'SALE PRICE']]\n",
    "\n",
    "\n",
    "# df_residential_mean = df_cat.groupby(['RESIDENTIAL UNITS']).agg({'SALE PRICE': 'mean'})\n",
    "# plt.bar(df_residential_mean.index, df_residential_mean['SALE PRICE'])\n",
    "# plt.title('RESIDENTIAL UNITS VS AVG SALE PRICE')\n",
    "# plt.show()\n",
    "\n",
    "# df_commercial_mean = df_cat.groupby(['COMMERCIAL UNITS']).agg({'SALE PRICE': 'mean'})\n",
    "# plt.bar(df_commercial_mean.index, df_commercial_mean['SALE PRICE'])\n",
    "# plt.title('COMMERCIAL UNITS VS AVG SALE PRICE')\n",
    "# plt.show()\n"
   ]
  },
  {
   "cell_type": "code",
   "execution_count": 19,
   "id": "a2ca8a09",
   "metadata": {
    "execution": {
     "iopub.execute_input": "2022-07-19T21:23:44.010983Z",
     "iopub.status.busy": "2022-07-19T21:23:44.009963Z",
     "iopub.status.idle": "2022-07-19T21:23:44.016006Z",
     "shell.execute_reply": "2022-07-19T21:23:44.015112Z"
    },
    "papermill": {
     "duration": 0.023391,
     "end_time": "2022-07-19T21:23:44.018322",
     "exception": false,
     "start_time": "2022-07-19T21:23:43.994931",
     "status": "completed"
    },
    "tags": []
   },
   "outputs": [],
   "source": [
    "# # data cleansing for three numerical variables\n",
    "# # drop rows where LAND SQUARE FEET, GROSS SQUARE FEET, YEAR BUILT or SALE PRICE is 0\n",
    "# training_data_drop_0 = training_data.loc[~((training_data['LAND SQUARE FEET'] == 0) | (training_data['GROSS SQUARE FEET'] == 0) | (training_data['YEAR BUILT'] == 0) | (training_data['SALE PRICE'] == 0))]\n",
    "# training_data_drop_0.describe()\n",
    "\n",
    "# # NEXT STEP: research about the smallest habitable space; drop outliers\n",
    "# # identifying values that are outside of the outter fence(Q3 + 3*IQ) to be outliers\n",
    "# # outter_fence_land = 2800 + 3*()\n",
    "# # lower_fence_price = 340000 - 1.5 * (730000 - 340000)\n",
    "\n",
    "# # after researching about the smallest habitable space and the smallest apartment in NYC\n",
    "# # I decided to drop rows with LAND SQUARE FEET < 60 or GROSS SQUARE FEET < 60\n",
    "# # in addition, since this dataset includes data from 2003 to 2019, I looked up the \n",
    "# training_data_clean = training_data_drop_0.loc[(training_data_drop_0['LAND SQUARE FEET'] >= 60) & (training_data_drop_0['GROSS SQUARE FEET'] >= 60)]\n",
    "# training_data_clean.describe()\n",
    "\n",
    "# training_data_clean.sort_values('SALE PRICE').head(20000)\n"
   ]
  }
 ],
 "metadata": {
  "kernelspec": {
   "display_name": "Python 3",
   "language": "python",
   "name": "python3"
  },
  "language_info": {
   "codemirror_mode": {
    "name": "ipython",
    "version": 3
   },
   "file_extension": ".py",
   "mimetype": "text/x-python",
   "name": "python",
   "nbconvert_exporter": "python",
   "pygments_lexer": "ipython3",
   "version": "3.7.12"
  },
  "papermill": {
   "default_parameters": {},
   "duration": 73.674228,
   "end_time": "2022-07-19T21:23:44.860467",
   "environment_variables": {},
   "exception": null,
   "input_path": "__notebook__.ipynb",
   "output_path": "__notebook__.ipynb",
   "parameters": {},
   "start_time": "2022-07-19T21:22:31.186239",
   "version": "2.3.4"
  }
 },
 "nbformat": 4,
 "nbformat_minor": 5
}
