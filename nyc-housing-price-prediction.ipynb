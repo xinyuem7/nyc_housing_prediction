{
 "cells": [
  {
   "cell_type": "code",
   "execution_count": 1,
   "id": "a41d3318",
   "metadata": {
    "_cell_guid": "b1076dfc-b9ad-4769-8c92-a6c4dae69d19",
    "_uuid": "8f2839f25d086af736a60e9eeb907d3b93b6e0e5",
    "execution": {
     "iopub.execute_input": "2022-07-05T21:22:29.020369Z",
     "iopub.status.busy": "2022-07-05T21:22:29.019336Z",
     "iopub.status.idle": "2022-07-05T21:22:37.136846Z",
     "shell.execute_reply": "2022-07-05T21:22:37.135628Z"
    },
    "papermill": {
     "duration": 8.125703,
     "end_time": "2022-07-05T21:22:37.139991",
     "exception": false,
     "start_time": "2022-07-05T21:22:29.014288",
     "status": "completed"
    },
    "tags": []
   },
   "outputs": [
    {
     "name": "stdout",
     "output_type": "stream",
     "text": [
      "/kaggle/input/nyc-housing-data-20032019/data.csv\n"
     ]
    }
   ],
   "source": [
    "# import Python packages\n",
    "import numpy as np\n",
    "import pandas as pd\n",
    "from sklearn.model_selection import train_test_split\n",
    "\n",
    "import os\n",
    "for dirname, _, filenames in os.walk('/kaggle/input'):\n",
    "    for filename in filenames:\n",
    "        print(os.path.join(dirname, filename))\n",
    "\n",
    "# import dataset\n",
    "all_data = pd.read_csv('../input/nyc-housing-data-20032019/data.csv')\n",
    "\n",
    "# split all_data into training and testing datasets for linear regression\n",
    "training_data, testing_data = train_test_split(all_data, test_size = 0.2, random_state = 25)"
   ]
  },
  {
   "cell_type": "code",
   "execution_count": 2,
   "id": "cc950a15",
   "metadata": {
    "execution": {
     "iopub.execute_input": "2022-07-05T21:22:37.146524Z",
     "iopub.status.busy": "2022-07-05T21:22:37.146109Z",
     "iopub.status.idle": "2022-07-05T21:22:38.245149Z",
     "shell.execute_reply": "2022-07-05T21:22:38.243879Z"
    },
    "papermill": {
     "duration": 1.10526,
     "end_time": "2022-07-05T21:22:38.247786",
     "exception": false,
     "start_time": "2022-07-05T21:22:37.142526",
     "status": "completed"
    },
    "tags": []
   },
   "outputs": [
    {
     "name": "stdout",
     "output_type": "stream",
     "text": [
      "<class 'pandas.core.frame.DataFrame'>\n",
      "Int64Index: 1280161 entries, 519590 to 29828\n",
      "Data columns (total 10 columns):\n",
      " #   Column                   Non-Null Count    Dtype  \n",
      "---  ------                   --------------    -----  \n",
      " 0   BOROUGH                  1280161 non-null  int64  \n",
      " 1   NEIGHBORHOOD             1280161 non-null  object \n",
      " 2   BUILDING CLASS CATEGORY  1280161 non-null  object \n",
      " 3   ADDRESS                  1280161 non-null  object \n",
      " 4   ZIP CODE                 1280148 non-null  float64\n",
      " 5   LAND SQUARE FEET         1266410 non-null  float64\n",
      " 6   GROSS SQUARE FEET        1266411 non-null  float64\n",
      " 7   YEAR BUILT               1275345 non-null  float64\n",
      " 8   SALE PRICE               1280161 non-null  int64  \n",
      " 9   SALE DATE                1280161 non-null  object \n",
      "dtypes: float64(4), int64(2), object(4)\n",
      "memory usage: 107.4+ MB\n"
     ]
    },
    {
     "data": {
      "text/html": [
       "<div>\n",
       "<style scoped>\n",
       "    .dataframe tbody tr th:only-of-type {\n",
       "        vertical-align: middle;\n",
       "    }\n",
       "\n",
       "    .dataframe tbody tr th {\n",
       "        vertical-align: top;\n",
       "    }\n",
       "\n",
       "    .dataframe thead th {\n",
       "        text-align: right;\n",
       "    }\n",
       "</style>\n",
       "<table border=\"1\" class=\"dataframe\">\n",
       "  <thead>\n",
       "    <tr style=\"text-align: right;\">\n",
       "      <th></th>\n",
       "      <th>BOROUGH</th>\n",
       "      <th>ZIP CODE</th>\n",
       "      <th>LAND SQUARE FEET</th>\n",
       "      <th>GROSS SQUARE FEET</th>\n",
       "      <th>YEAR BUILT</th>\n",
       "      <th>SALE PRICE</th>\n",
       "    </tr>\n",
       "  </thead>\n",
       "  <tbody>\n",
       "    <tr>\n",
       "      <th>count</th>\n",
       "      <td>1.280161e+06</td>\n",
       "      <td>1.280148e+06</td>\n",
       "      <td>1.266410e+06</td>\n",
       "      <td>1.266411e+06</td>\n",
       "      <td>1.275345e+06</td>\n",
       "      <td>1.280161e+06</td>\n",
       "    </tr>\n",
       "    <tr>\n",
       "      <th>mean</th>\n",
       "      <td>2.915336e+00</td>\n",
       "      <td>1.080989e+04</td>\n",
       "      <td>4.175749e+03</td>\n",
       "      <td>4.401854e+03</td>\n",
       "      <td>1.727672e+03</td>\n",
       "      <td>8.572525e+05</td>\n",
       "    </tr>\n",
       "    <tr>\n",
       "      <th>std</th>\n",
       "      <td>1.310385e+00</td>\n",
       "      <td>7.635331e+02</td>\n",
       "      <td>4.720753e+05</td>\n",
       "      <td>5.237566e+04</td>\n",
       "      <td>6.181824e+02</td>\n",
       "      <td>1.173265e+07</td>\n",
       "    </tr>\n",
       "    <tr>\n",
       "      <th>min</th>\n",
       "      <td>1.000000e+00</td>\n",
       "      <td>0.000000e+00</td>\n",
       "      <td>0.000000e+00</td>\n",
       "      <td>0.000000e+00</td>\n",
       "      <td>0.000000e+00</td>\n",
       "      <td>0.000000e+00</td>\n",
       "    </tr>\n",
       "    <tr>\n",
       "      <th>25%</th>\n",
       "      <td>2.000000e+00</td>\n",
       "      <td>1.030100e+04</td>\n",
       "      <td>0.000000e+00</td>\n",
       "      <td>0.000000e+00</td>\n",
       "      <td>1.916000e+03</td>\n",
       "      <td>0.000000e+00</td>\n",
       "    </tr>\n",
       "    <tr>\n",
       "      <th>50%</th>\n",
       "      <td>3.000000e+00</td>\n",
       "      <td>1.120800e+04</td>\n",
       "      <td>1.845000e+03</td>\n",
       "      <td>1.248000e+03</td>\n",
       "      <td>1.931000e+03</td>\n",
       "      <td>3.050000e+05</td>\n",
       "    </tr>\n",
       "    <tr>\n",
       "      <th>75%</th>\n",
       "      <td>4.000000e+00</td>\n",
       "      <td>1.135700e+04</td>\n",
       "      <td>2.800000e+03</td>\n",
       "      <td>2.352000e+03</td>\n",
       "      <td>1.964000e+03</td>\n",
       "      <td>6.215000e+05</td>\n",
       "    </tr>\n",
       "    <tr>\n",
       "      <th>max</th>\n",
       "      <td>5.000000e+00</td>\n",
       "      <td>3.380300e+04</td>\n",
       "      <td>2.147557e+08</td>\n",
       "      <td>1.496215e+07</td>\n",
       "      <td>2.020000e+03</td>\n",
       "      <td>4.111112e+09</td>\n",
       "    </tr>\n",
       "  </tbody>\n",
       "</table>\n",
       "</div>"
      ],
      "text/plain": [
       "            BOROUGH      ZIP CODE  LAND SQUARE FEET  GROSS SQUARE FEET  \\\n",
       "count  1.280161e+06  1.280148e+06      1.266410e+06       1.266411e+06   \n",
       "mean   2.915336e+00  1.080989e+04      4.175749e+03       4.401854e+03   \n",
       "std    1.310385e+00  7.635331e+02      4.720753e+05       5.237566e+04   \n",
       "min    1.000000e+00  0.000000e+00      0.000000e+00       0.000000e+00   \n",
       "25%    2.000000e+00  1.030100e+04      0.000000e+00       0.000000e+00   \n",
       "50%    3.000000e+00  1.120800e+04      1.845000e+03       1.248000e+03   \n",
       "75%    4.000000e+00  1.135700e+04      2.800000e+03       2.352000e+03   \n",
       "max    5.000000e+00  3.380300e+04      2.147557e+08       1.496215e+07   \n",
       "\n",
       "         YEAR BUILT    SALE PRICE  \n",
       "count  1.275345e+06  1.280161e+06  \n",
       "mean   1.727672e+03  8.572525e+05  \n",
       "std    6.181824e+02  1.173265e+07  \n",
       "min    0.000000e+00  0.000000e+00  \n",
       "25%    1.916000e+03  0.000000e+00  \n",
       "50%    1.931000e+03  3.050000e+05  \n",
       "75%    1.964000e+03  6.215000e+05  \n",
       "max    2.020000e+03  4.111112e+09  "
      ]
     },
     "execution_count": 2,
     "metadata": {},
     "output_type": "execute_result"
    }
   ],
   "source": [
    "# Step 1: understand the dataset\n",
    "\n",
    "# shape of the training dataset and teh testing dataset\n",
    "training_data #1280161 rows × 10 columns\n",
    "testing_data #320041 rows × 10 columns\n",
    "\n",
    "# understand the nature of teh training data\n",
    "training_data.info()\n",
    "training_data.describe()"
   ]
  },
  {
   "cell_type": "code",
   "execution_count": 3,
   "id": "ff267edd",
   "metadata": {
    "execution": {
     "iopub.execute_input": "2022-07-05T21:22:38.255188Z",
     "iopub.status.busy": "2022-07-05T21:22:38.254601Z",
     "iopub.status.idle": "2022-07-05T21:22:38.666906Z",
     "shell.execute_reply": "2022-07-05T21:22:38.665624Z"
    },
    "papermill": {
     "duration": 0.41923,
     "end_time": "2022-07-05T21:22:38.669840",
     "exception": false,
     "start_time": "2022-07-05T21:22:38.250610",
     "status": "completed"
    },
    "tags": []
   },
   "outputs": [],
   "source": [
    "# According to training_data.info(), the following columns have null values:\n",
    "# Land square feet has 13751 null values\n",
    "# Gross square feet has 13750 null values\n",
    "# Year built has 4816 null values\n",
    "\n",
    "# According to training_data.describe(), the following columns have values equal to 0 which they should not have:\n",
    "# Land square feet\n",
    "# Gross square feet\n",
    "# Year built\n",
    "# Sale price\n",
    "\n",
    "# The following variables may need feature engineering:\n",
    "# NEIGHBORHOOD\n",
    "# BUILDING CLASS CATEGORY\n",
    "# ADDRESS\n",
    "# ZIP CODE\n",
    "\n",
    "training_data.describe().columns\n",
    "df_num = training_data[['LAND SQUARE FEET', 'GROSS SQUARE FEET', 'YEAR BUILT']]\n",
    "df_cat = training_data[['BOROUGH', 'ZIP CODE']]\n",
    "\n",
    "\n"
   ]
  }
 ],
 "metadata": {
  "kernelspec": {
   "display_name": "Python 3",
   "language": "python",
   "name": "python3"
  },
  "language_info": {
   "codemirror_mode": {
    "name": "ipython",
    "version": 3
   },
   "file_extension": ".py",
   "mimetype": "text/x-python",
   "name": "python",
   "nbconvert_exporter": "python",
   "pygments_lexer": "ipython3",
   "version": "3.7.12"
  },
  "papermill": {
   "default_parameters": {},
   "duration": 21.15477,
   "end_time": "2022-07-05T21:22:39.495852",
   "environment_variables": {},
   "exception": null,
   "input_path": "__notebook__.ipynb",
   "output_path": "__notebook__.ipynb",
   "parameters": {},
   "start_time": "2022-07-05T21:22:18.341082",
   "version": "2.3.4"
  }
 },
 "nbformat": 4,
 "nbformat_minor": 5
}
