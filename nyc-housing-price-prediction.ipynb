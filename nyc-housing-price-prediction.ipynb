{
 "cells": [
  {
   "cell_type": "code",
   "execution_count": 1,
   "id": "4fe60c3a",
   "metadata": {
    "execution": {
     "iopub.execute_input": "2022-07-13T22:12:04.130919Z",
     "iopub.status.busy": "2022-07-13T22:12:04.130512Z",
     "iopub.status.idle": "2022-07-13T22:12:15.894992Z",
     "shell.execute_reply": "2022-07-13T22:12:15.893758Z"
    },
    "papermill": {
     "duration": 11.773541,
     "end_time": "2022-07-13T22:12:15.897567",
     "exception": false,
     "start_time": "2022-07-13T22:12:04.124026",
     "status": "completed"
    },
    "tags": []
   },
   "outputs": [
    {
     "name": "stdout",
     "output_type": "stream",
     "text": [
      "Collecting openpyxl\r\n",
      "  Downloading openpyxl-3.0.10-py2.py3-none-any.whl (242 kB)\r\n",
      "\u001b[2K     \u001b[90m━━━━━━━━━━━━━━━━━━━━━━━━━━━━━━━━━━━━━\u001b[0m \u001b[32m242.1/242.1 kB\u001b[0m \u001b[31m885.9 kB/s\u001b[0m eta \u001b[36m0:00:00\u001b[0m\r\n",
      "\u001b[?25hCollecting et-xmlfile\r\n",
      "  Downloading et_xmlfile-1.1.0-py3-none-any.whl (4.7 kB)\r\n",
      "Installing collected packages: et-xmlfile, openpyxl\r\n",
      "Successfully installed et-xmlfile-1.1.0 openpyxl-3.0.10\r\n",
      "\u001b[33mWARNING: Running pip as the 'root' user can result in broken permissions and conflicting behaviour with the system package manager. It is recommended to use a virtual environment instead: https://pip.pypa.io/warnings/venv\u001b[0m\u001b[33m\r\n",
      "\u001b[0m"
     ]
    }
   ],
   "source": [
    "!pip install openpyxl"
   ]
  },
  {
   "cell_type": "code",
   "execution_count": 2,
   "id": "3e62a8cf",
   "metadata": {
    "_cell_guid": "b1076dfc-b9ad-4769-8c92-a6c4dae69d19",
    "_uuid": "8f2839f25d086af736a60e9eeb907d3b93b6e0e5",
    "execution": {
     "iopub.execute_input": "2022-07-13T22:12:15.908456Z",
     "iopub.status.busy": "2022-07-13T22:12:15.908072Z",
     "iopub.status.idle": "2022-07-13T22:12:43.843275Z",
     "shell.execute_reply": "2022-07-13T22:12:43.842221Z"
    },
    "papermill": {
     "duration": 27.943412,
     "end_time": "2022-07-13T22:12:43.845730",
     "exception": false,
     "start_time": "2022-07-13T22:12:15.902318",
     "status": "completed"
    },
    "tags": []
   },
   "outputs": [
    {
     "name": "stdout",
     "output_type": "stream",
     "text": [
      "/kaggle/input/nyu-properties-price-june-2021-to-may-2022/rollingsales_queens.xlsx\n",
      "/kaggle/input/nyu-properties-price-june-2021-to-may-2022/rollingsales_statenisland.xlsx\n",
      "/kaggle/input/nyu-properties-price-june-2021-to-may-2022/rollingsales_bronx.xlsx\n",
      "/kaggle/input/nyu-properties-price-june-2021-to-may-2022/rollingsales_brooklyn.xlsx\n",
      "/kaggle/input/nyu-properties-price-june-2021-to-may-2022/rollingsales_manhattan.xlsx\n"
     ]
    }
   ],
   "source": [
    "# import Python packages\n",
    "import numpy as np\n",
    "import pandas as pd\n",
    "import seaborn as sns\n",
    "from sklearn.model_selection import train_test_split\n",
    "import matplotlib.pyplot as plt\n",
    "\n",
    "import os\n",
    "for dirname, _, filenames in os.walk('/kaggle/input'):\n",
    "    for filename in filenames:\n",
    "        print(os.path.join(dirname, filename))\n",
    "\n",
    "# import dataset\n",
    "queens = pd.read_excel(\"../input/nyu-properties-price-june-2021-to-may-2022/rollingsales_queens.xlsx\")\n",
    "brooklyn = pd.read_excel(\"../input/nyu-properties-price-june-2021-to-may-2022/rollingsales_brooklyn.xlsx\")\n",
    "manhattan = pd.read_excel(\"../input/nyu-properties-price-june-2021-to-may-2022/rollingsales_manhattan.xlsx\")\n",
    "bronx = pd.read_excel(\"../input/nyu-properties-price-june-2021-to-may-2022/rollingsales_bronx.xlsx\")\n",
    "statenisland = pd.read_excel(\"../input/nyu-properties-price-june-2021-to-may-2022/rollingsales_statenisland.xlsx\")\n",
    "\n",
    "all_data = pd.concat([queens, brooklyn, manhattan, bronx, statenisland])"
   ]
  },
  {
   "cell_type": "code",
   "execution_count": 3,
   "id": "95d2ae6c",
   "metadata": {
    "execution": {
     "iopub.execute_input": "2022-07-13T22:12:43.856062Z",
     "iopub.status.busy": "2022-07-13T22:12:43.855705Z",
     "iopub.status.idle": "2022-07-13T22:12:44.060981Z",
     "shell.execute_reply": "2022-07-13T22:12:44.059397Z"
    },
    "papermill": {
     "duration": 0.213129,
     "end_time": "2022-07-13T22:12:44.063397",
     "exception": false,
     "start_time": "2022-07-13T22:12:43.850268",
     "status": "completed"
    },
    "tags": []
   },
   "outputs": [
    {
     "name": "stdout",
     "output_type": "stream",
     "text": [
      "<class 'pandas.core.frame.DataFrame'>\n",
      "Int64Index: 98270 entries, 0 to 9087\n",
      "Data columns (total 21 columns):\n",
      " #   Column                          Non-Null Count  Dtype         \n",
      "---  ------                          --------------  -----         \n",
      " 0   BOROUGH                         98270 non-null  int64         \n",
      " 1   NEIGHBORHOOD                    98270 non-null  object        \n",
      " 2   BUILDING CLASS CATEGORY         98270 non-null  object        \n",
      " 3   TAX CLASS AT PRESENT            98210 non-null  object        \n",
      " 4   BLOCK                           98270 non-null  int64         \n",
      " 5   LOT                             98270 non-null  int64         \n",
      " 6   EASEMENT                        0 non-null      float64       \n",
      " 7   BUILDING CLASS AT PRESENT       98210 non-null  object        \n",
      " 8   ADDRESS                         98270 non-null  object        \n",
      " 9   APARTMENT NUMBER                25280 non-null  object        \n",
      " 10  ZIP CODE                        98268 non-null  float64       \n",
      " 11  RESIDENTIAL UNITS               74209 non-null  float64       \n",
      " 12  COMMERCIAL UNITS                55050 non-null  float64       \n",
      " 13  TOTAL UNITS                     77365 non-null  float64       \n",
      " 14  LAND SQUARE FEET                51894 non-null  float64       \n",
      " 15  GROSS SQUARE FEET               51894 non-null  float64       \n",
      " 16  YEAR BUILT                      90962 non-null  float64       \n",
      " 17  TAX CLASS AT TIME OF SALE       98270 non-null  int64         \n",
      " 18  BUILDING CLASS AT TIME OF SALE  98270 non-null  object        \n",
      " 19  SALE PRICE                      98270 non-null  int64         \n",
      " 20  SALE DATE                       98270 non-null  datetime64[ns]\n",
      "dtypes: datetime64[ns](1), float64(8), int64(5), object(7)\n",
      "memory usage: 16.5+ MB\n"
     ]
    }
   ],
   "source": [
    "# data cleaning for all_data\n",
    "all_data.head()\n",
    "all_data.info()\n",
    "all_data.describe()\n",
    "\n",
    "# According to all_data.info(), the following columns have NaN:\n",
    "# TAX CLASS AT PRESENT\n",
    "# EASEMENT (all values are missing, will not be using this column)\n",
    "# BUILDING CLASS AT PRESENT \n",
    "# APARTMENT NUMBER\n",
    "# ZIP CODE\n",
    "# RESIDENTIAL UNITS\n",
    "# COMMERCIAL UNITS\n",
    "# TOTAL UNITS\n",
    "# LAND SQUARE FEET\n",
    "# GROSS SQUARE FEET\n",
    "# YEAR BUILT\n",
    "\n",
    "# According to all_data.describe(), the following columns have values equal to 0 which they should not have:\n",
    "# Land square feet\n",
    "# Gross square feet\n",
    "# Sale price\n",
    "\n",
    "# drop column EASEMENT and rows with NaN\n",
    "# all_data.dropna(subset = ['LAND SQUARE FEET', 'GROSS SQUARE FEET', 'YEAR BUILT', 'SALE PRICE'], inplace = True)\n",
    "all_data = all_data.drop(columns = 'EASEMENT')\n",
    "all_data.head()\n",
    "\n",
    "# # drop unreasonable data\n",
    "# # drop rows with LAND SQUARE FEET, GROSS SQUARE FEET, YEAR BUILT, or SALE PRICE equals to 0\n",
    "# all_data = all_data.loc[~((all_data['LAND SQUARE FEET'] == 0) | (all_data['GROSS SQUARE FEET'] == 0) | (all_data['YEAR BUILT'] == 0) | (all_data['SALE PRICE'] == 0))]\n",
    "\n",
    "\n",
    "# split all_data into training and testing datasets for linear regression\n",
    "training_data, testing_data = train_test_split(all_data, test_size = 0.2, random_state = 25)"
   ]
  },
  {
   "cell_type": "code",
   "execution_count": 4,
   "id": "ccf43a2c",
   "metadata": {
    "execution": {
     "iopub.execute_input": "2022-07-13T22:12:44.074498Z",
     "iopub.status.busy": "2022-07-13T22:12:44.074095Z",
     "iopub.status.idle": "2022-07-13T22:12:44.168708Z",
     "shell.execute_reply": "2022-07-13T22:12:44.167659Z"
    },
    "papermill": {
     "duration": 0.103437,
     "end_time": "2022-07-13T22:12:44.171559",
     "exception": false,
     "start_time": "2022-07-13T22:12:44.068122",
     "status": "completed"
    },
    "tags": []
   },
   "outputs": [
    {
     "data": {
      "text/html": [
       "<div>\n",
       "<style scoped>\n",
       "    .dataframe tbody tr th:only-of-type {\n",
       "        vertical-align: middle;\n",
       "    }\n",
       "\n",
       "    .dataframe tbody tr th {\n",
       "        vertical-align: top;\n",
       "    }\n",
       "\n",
       "    .dataframe thead th {\n",
       "        text-align: right;\n",
       "    }\n",
       "</style>\n",
       "<table border=\"1\" class=\"dataframe\">\n",
       "  <thead>\n",
       "    <tr style=\"text-align: right;\">\n",
       "      <th></th>\n",
       "      <th>BOROUGH</th>\n",
       "      <th>BLOCK</th>\n",
       "      <th>LOT</th>\n",
       "      <th>ZIP CODE</th>\n",
       "      <th>RESIDENTIAL UNITS</th>\n",
       "      <th>COMMERCIAL UNITS</th>\n",
       "      <th>TOTAL UNITS</th>\n",
       "      <th>LAND SQUARE FEET</th>\n",
       "      <th>GROSS SQUARE FEET</th>\n",
       "      <th>YEAR BUILT</th>\n",
       "      <th>TAX CLASS AT TIME OF SALE</th>\n",
       "      <th>SALE PRICE</th>\n",
       "    </tr>\n",
       "  </thead>\n",
       "  <tbody>\n",
       "    <tr>\n",
       "      <th>count</th>\n",
       "      <td>78616.000000</td>\n",
       "      <td>78616.000000</td>\n",
       "      <td>78616.000000</td>\n",
       "      <td>78615.000000</td>\n",
       "      <td>59283.000000</td>\n",
       "      <td>43921.000000</td>\n",
       "      <td>61801.000000</td>\n",
       "      <td>4.140300e+04</td>\n",
       "      <td>4.140300e+04</td>\n",
       "      <td>72725.000000</td>\n",
       "      <td>78616.000000</td>\n",
       "      <td>7.861600e+04</td>\n",
       "    </tr>\n",
       "    <tr>\n",
       "      <th>mean</th>\n",
       "      <td>2.929086</td>\n",
       "      <td>4074.003447</td>\n",
       "      <td>408.647960</td>\n",
       "      <td>10837.452318</td>\n",
       "      <td>3.037076</td>\n",
       "      <td>0.354045</td>\n",
       "      <td>3.164949</td>\n",
       "      <td>6.114306e+03</td>\n",
       "      <td>5.915681e+03</td>\n",
       "      <td>1953.203699</td>\n",
       "      <td>1.662244</td>\n",
       "      <td>1.544340e+06</td>\n",
       "    </tr>\n",
       "    <tr>\n",
       "      <th>std</th>\n",
       "      <td>1.302123</td>\n",
       "      <td>3538.695714</td>\n",
       "      <td>677.451252</td>\n",
       "      <td>568.752950</td>\n",
       "      <td>21.753359</td>\n",
       "      <td>11.459417</td>\n",
       "      <td>23.424604</td>\n",
       "      <td>1.035243e+05</td>\n",
       "      <td>4.432646e+04</td>\n",
       "      <td>36.246795</td>\n",
       "      <td>0.784352</td>\n",
       "      <td>9.963449e+06</td>\n",
       "    </tr>\n",
       "    <tr>\n",
       "      <th>min</th>\n",
       "      <td>1.000000</td>\n",
       "      <td>1.000000</td>\n",
       "      <td>1.000000</td>\n",
       "      <td>10001.000000</td>\n",
       "      <td>0.000000</td>\n",
       "      <td>0.000000</td>\n",
       "      <td>0.000000</td>\n",
       "      <td>0.000000e+00</td>\n",
       "      <td>0.000000e+00</td>\n",
       "      <td>1800.000000</td>\n",
       "      <td>1.000000</td>\n",
       "      <td>0.000000e+00</td>\n",
       "    </tr>\n",
       "    <tr>\n",
       "      <th>25%</th>\n",
       "      <td>2.000000</td>\n",
       "      <td>1216.000000</td>\n",
       "      <td>23.000000</td>\n",
       "      <td>10303.000000</td>\n",
       "      <td>1.000000</td>\n",
       "      <td>0.000000</td>\n",
       "      <td>1.000000</td>\n",
       "      <td>2.000000e+03</td>\n",
       "      <td>1.368000e+03</td>\n",
       "      <td>1925.000000</td>\n",
       "      <td>1.000000</td>\n",
       "      <td>0.000000e+00</td>\n",
       "    </tr>\n",
       "    <tr>\n",
       "      <th>50%</th>\n",
       "      <td>3.000000</td>\n",
       "      <td>3054.000000</td>\n",
       "      <td>53.000000</td>\n",
       "      <td>11208.000000</td>\n",
       "      <td>1.000000</td>\n",
       "      <td>0.000000</td>\n",
       "      <td>1.000000</td>\n",
       "      <td>2.500000e+03</td>\n",
       "      <td>1.962000e+03</td>\n",
       "      <td>1950.000000</td>\n",
       "      <td>2.000000</td>\n",
       "      <td>6.150000e+05</td>\n",
       "    </tr>\n",
       "    <tr>\n",
       "      <th>75%</th>\n",
       "      <td>4.000000</td>\n",
       "      <td>6111.250000</td>\n",
       "      <td>1008.000000</td>\n",
       "      <td>11355.000000</td>\n",
       "      <td>2.000000</td>\n",
       "      <td>0.000000</td>\n",
       "      <td>2.000000</td>\n",
       "      <td>4.000000e+03</td>\n",
       "      <td>2.842500e+03</td>\n",
       "      <td>1980.000000</td>\n",
       "      <td>2.000000</td>\n",
       "      <td>1.110000e+06</td>\n",
       "    </tr>\n",
       "    <tr>\n",
       "      <th>max</th>\n",
       "      <td>5.000000</td>\n",
       "      <td>16350.000000</td>\n",
       "      <td>9114.000000</td>\n",
       "      <td>11697.000000</td>\n",
       "      <td>800.000000</td>\n",
       "      <td>2261.000000</td>\n",
       "      <td>2261.000000</td>\n",
       "      <td>5.799632e+06</td>\n",
       "      <td>2.400000e+06</td>\n",
       "      <td>2022.000000</td>\n",
       "      <td>4.000000</td>\n",
       "      <td>9.310000e+08</td>\n",
       "    </tr>\n",
       "  </tbody>\n",
       "</table>\n",
       "</div>"
      ],
      "text/plain": [
       "            BOROUGH         BLOCK           LOT      ZIP CODE  \\\n",
       "count  78616.000000  78616.000000  78616.000000  78615.000000   \n",
       "mean       2.929086   4074.003447    408.647960  10837.452318   \n",
       "std        1.302123   3538.695714    677.451252    568.752950   \n",
       "min        1.000000      1.000000      1.000000  10001.000000   \n",
       "25%        2.000000   1216.000000     23.000000  10303.000000   \n",
       "50%        3.000000   3054.000000     53.000000  11208.000000   \n",
       "75%        4.000000   6111.250000   1008.000000  11355.000000   \n",
       "max        5.000000  16350.000000   9114.000000  11697.000000   \n",
       "\n",
       "       RESIDENTIAL UNITS  COMMERCIAL UNITS   TOTAL UNITS  LAND SQUARE FEET  \\\n",
       "count       59283.000000      43921.000000  61801.000000      4.140300e+04   \n",
       "mean            3.037076          0.354045      3.164949      6.114306e+03   \n",
       "std            21.753359         11.459417     23.424604      1.035243e+05   \n",
       "min             0.000000          0.000000      0.000000      0.000000e+00   \n",
       "25%             1.000000          0.000000      1.000000      2.000000e+03   \n",
       "50%             1.000000          0.000000      1.000000      2.500000e+03   \n",
       "75%             2.000000          0.000000      2.000000      4.000000e+03   \n",
       "max           800.000000       2261.000000   2261.000000      5.799632e+06   \n",
       "\n",
       "       GROSS SQUARE FEET    YEAR BUILT  TAX CLASS AT TIME OF SALE  \\\n",
       "count       4.140300e+04  72725.000000               78616.000000   \n",
       "mean        5.915681e+03   1953.203699                   1.662244   \n",
       "std         4.432646e+04     36.246795                   0.784352   \n",
       "min         0.000000e+00   1800.000000                   1.000000   \n",
       "25%         1.368000e+03   1925.000000                   1.000000   \n",
       "50%         1.962000e+03   1950.000000                   2.000000   \n",
       "75%         2.842500e+03   1980.000000                   2.000000   \n",
       "max         2.400000e+06   2022.000000                   4.000000   \n",
       "\n",
       "         SALE PRICE  \n",
       "count  7.861600e+04  \n",
       "mean   1.544340e+06  \n",
       "std    9.963449e+06  \n",
       "min    0.000000e+00  \n",
       "25%    0.000000e+00  \n",
       "50%    6.150000e+05  \n",
       "75%    1.110000e+06  \n",
       "max    9.310000e+08  "
      ]
     },
     "execution_count": 4,
     "metadata": {},
     "output_type": "execute_result"
    }
   ],
   "source": [
    "# Step 1: understand the dataset\n",
    "\n",
    "# shape of the training dataset and teh testing dataset\n",
    "# training_data\n",
    "# testing_data\n",
    "\n",
    "# # understand the nature of teh training data\n",
    "# training_data.info()\n",
    "training_data.describe()"
   ]
  },
  {
   "cell_type": "code",
   "execution_count": 5,
   "id": "66923c36",
   "metadata": {
    "execution": {
     "iopub.execute_input": "2022-07-13T22:12:44.183441Z",
     "iopub.status.busy": "2022-07-13T22:12:44.182712Z",
     "iopub.status.idle": "2022-07-13T22:12:44.239522Z",
     "shell.execute_reply": "2022-07-13T22:12:44.238511Z"
    },
    "papermill": {
     "duration": 0.065586,
     "end_time": "2022-07-13T22:12:44.242192",
     "exception": false,
     "start_time": "2022-07-13T22:12:44.176606",
     "status": "completed"
    },
    "tags": []
   },
   "outputs": [],
   "source": [
    "# The following variables may need feature engineering:\n",
    "# NEIGHBORHOOD\n",
    "# BUILDING CLASS CATEGORY\n",
    "# ADDRESS\n",
    "# ZIP CODE\n",
    "\n",
    "# After reading the glossary of terms, I decided to include the following columns for now:\n",
    "# BOROUGH OR BLOCK OR LOT OR ZIP CODE OR NEIGHBORHOOD\n",
    "# BUILDING CLASS AT TIME OF SALE\n",
    "# TAX CLASS AT TIME OF SALE\n",
    "# RESIDENTIAL UNIT\n",
    "# COMMERCIAL UNIT\n",
    "# TOTAL UNIT (Maybe)\n",
    "# LAND SQUARE FEET\n",
    "# GROSS SQUARE FEET\n",
    "# YEAR BUILT (need feature engineering)\n",
    "\n",
    "# drop rows with LAND SQUARE FEET, GROSS SQUARE FEET, YEAR BUILT, or SALE PRICE equals to 0\n",
    "training_data = training_data.loc[(training_data['LAND SQUARE FEET'] > 0) & (training_data['GROSS SQUARE FEET'] > 0) & (training_data['YEAR BUILT'] > 0)]\n",
    "\n",
    "# drop rows with LAND SQUARE FEET, GROSS SQUARE FEET, YEAR BUILT\n",
    "training_data.describe()\n",
    "\n",
    "# training_data.describe().columns\n",
    "df_num = training_data[['LAND SQUARE FEET', 'GROSS SQUARE FEET']]\n",
    "# df_cat = training_data[['BOROUGH', 'BLOCK', 'LOT', 'ZIP CODE', 'NEIGHBORHOOD', 'BUILDING CLASS AT TIME OF SALE', 'TAX CLASS AT TIME OF SALE', 'RESIDENTIAL UNITS', 'COMMERCIAL UNITS', 'TOTAL UNITS', 'YEAR BUILT']]"
   ]
  },
  {
   "cell_type": "code",
   "execution_count": 6,
   "id": "2aa95041",
   "metadata": {
    "execution": {
     "iopub.execute_input": "2022-07-13T22:12:44.254691Z",
     "iopub.status.busy": "2022-07-13T22:12:44.253888Z",
     "iopub.status.idle": "2022-07-13T22:12:44.498247Z",
     "shell.execute_reply": "2022-07-13T22:12:44.497186Z"
    },
    "papermill": {
     "duration": 0.252749,
     "end_time": "2022-07-13T22:12:44.500527",
     "exception": false,
     "start_time": "2022-07-13T22:12:44.247778",
     "status": "completed"
    },
    "tags": []
   },
   "outputs": [
    {
     "name": "stdout",
     "output_type": "stream",
     "text": [
      "                   LAND SQUARE FEET  GROSS SQUARE FEET\n",
      "LAND SQUARE FEET           1.000000           0.588735\n",
      "GROSS SQUARE FEET          0.588735           1.000000\n"
     ]
    },
    {
     "data": {
      "text/plain": [
       "<AxesSubplot:>"
      ]
     },
     "execution_count": 6,
     "metadata": {},
     "output_type": "execute_result"
    },
    {
     "data": {
      "image/png": "[encoded data removed]",
      "text/plain": [
       "<Figure size 432x288 with 2 Axes>"
      ]
     },
     "metadata": {
      "needs_background": "light"
     },
     "output_type": "display_data"
    }
   ],
   "source": [
    "# use heatmap to see if LAND SQUARE FEET and GROSS SQUARE FEET are highly correlated\n",
    "print(df_num.corr())\n",
    "sns.heatmap(df_num.corr())"
   ]
  },
  {
   "cell_type": "code",
   "execution_count": 7,
   "id": "99c10deb",
   "metadata": {
    "execution": {
     "iopub.execute_input": "2022-07-13T22:12:44.512660Z",
     "iopub.status.busy": "2022-07-13T22:12:44.512278Z",
     "iopub.status.idle": "2022-07-13T22:12:44.886341Z",
     "shell.execute_reply": "2022-07-13T22:12:44.884713Z"
    },
    "papermill": {
     "duration": 0.382515,
     "end_time": "2022-07-13T22:12:44.888460",
     "exception": false,
     "start_time": "2022-07-13T22:12:44.505945",
     "status": "completed"
    },
    "tags": []
   },
   "outputs": [
    {
     "data": {
      "image/png": "[encoded data removed]",
      "text/plain": [
       "<Figure size 432x288 with 1 Axes>"
      ]
     },
     "metadata": {
      "needs_background": "light"
     },
     "output_type": "display_data"
    },
    {
     "data": {
      "image/png": "[encoded data removed]",
      "text/plain": [
       "<Figure size 432x288 with 1 Axes>"
      ]
     },
     "metadata": {
      "needs_background": "light"
     },
     "output_type": "display_data"
    }
   ],
   "source": [
    "# since there is no strong correlation between LAND SQUARE FEET and GROSS SQUARE FEET\n",
    "# I decided to include both variables into the model\n",
    "# plot the distribution of the numeric variables\n",
    "for i in df_num.columns:\n",
    "    plt.hist(df_num[i])\n",
    "    plt.title(i)\n",
    "    plt.show()"
   ]
  },
  {
   "cell_type": "code",
   "execution_count": 8,
   "id": "187e4250",
   "metadata": {
    "execution": {
     "iopub.execute_input": "2022-07-13T22:12:44.901710Z",
     "iopub.status.busy": "2022-07-13T22:12:44.901342Z",
     "iopub.status.idle": "2022-07-13T22:12:45.080505Z",
     "shell.execute_reply": "2022-07-13T22:12:45.079327Z"
    },
    "papermill": {
     "duration": 0.188362,
     "end_time": "2022-07-13T22:12:45.082891",
     "exception": false,
     "start_time": "2022-07-13T22:12:44.894529",
     "status": "completed"
    },
    "tags": []
   },
   "outputs": [
    {
     "data": {
      "text/html": [
       "<div>\n",
       "<style scoped>\n",
       "    .dataframe tbody tr th:only-of-type {\n",
       "        vertical-align: middle;\n",
       "    }\n",
       "\n",
       "    .dataframe tbody tr th {\n",
       "        vertical-align: top;\n",
       "    }\n",
       "\n",
       "    .dataframe thead th {\n",
       "        text-align: right;\n",
       "    }\n",
       "</style>\n",
       "<table border=\"1\" class=\"dataframe\">\n",
       "  <thead>\n",
       "    <tr style=\"text-align: right;\">\n",
       "      <th></th>\n",
       "      <th>BOROUGH</th>\n",
       "      <th>BLOCK</th>\n",
       "      <th>LOT</th>\n",
       "      <th>ZIP CODE</th>\n",
       "      <th>RESIDENTIAL UNITS</th>\n",
       "      <th>COMMERCIAL UNITS</th>\n",
       "      <th>TOTAL UNITS</th>\n",
       "      <th>LAND SQUARE FEET</th>\n",
       "      <th>GROSS SQUARE FEET</th>\n",
       "      <th>YEAR BUILT</th>\n",
       "      <th>TAX CLASS AT TIME OF SALE</th>\n",
       "      <th>SALE PRICE</th>\n",
       "    </tr>\n",
       "  </thead>\n",
       "  <tbody>\n",
       "    <tr>\n",
       "      <th>count</th>\n",
       "      <td>36937.000000</td>\n",
       "      <td>36937.000000</td>\n",
       "      <td>36937.000000</td>\n",
       "      <td>36937.000000</td>\n",
       "      <td>36937.000000</td>\n",
       "      <td>36937.000000</td>\n",
       "      <td>36937.000000</td>\n",
       "      <td>36937.000000</td>\n",
       "      <td>36937.000000</td>\n",
       "      <td>36937.00000</td>\n",
       "      <td>36937.000000</td>\n",
       "      <td>3.693700e+04</td>\n",
       "    </tr>\n",
       "    <tr>\n",
       "      <th>mean</th>\n",
       "      <td>3.560603</td>\n",
       "      <td>5575.729458</td>\n",
       "      <td>60.898313</td>\n",
       "      <td>11043.863849</td>\n",
       "      <td>1.832499</td>\n",
       "      <td>0.156753</td>\n",
       "      <td>1.989252</td>\n",
       "      <td>2917.686602</td>\n",
       "      <td>2195.137910</td>\n",
       "      <td>1941.16455</td>\n",
       "      <td>1.153586</td>\n",
       "      <td>7.168776e+05</td>\n",
       "    </tr>\n",
       "    <tr>\n",
       "      <th>std</th>\n",
       "      <td>0.935929</td>\n",
       "      <td>3639.293799</td>\n",
       "      <td>119.117792</td>\n",
       "      <td>445.252269</td>\n",
       "      <td>1.259087</td>\n",
       "      <td>11.771554</td>\n",
       "      <td>11.827400</td>\n",
       "      <td>1382.941821</td>\n",
       "      <td>1068.367028</td>\n",
       "      <td>30.06005</td>\n",
       "      <td>0.554573</td>\n",
       "      <td>1.848715e+06</td>\n",
       "    </tr>\n",
       "    <tr>\n",
       "      <th>min</th>\n",
       "      <td>1.000000</td>\n",
       "      <td>3.000000</td>\n",
       "      <td>1.000000</td>\n",
       "      <td>10001.000000</td>\n",
       "      <td>0.000000</td>\n",
       "      <td>0.000000</td>\n",
       "      <td>0.000000</td>\n",
       "      <td>35.000000</td>\n",
       "      <td>1.000000</td>\n",
       "      <td>1800.00000</td>\n",
       "      <td>1.000000</td>\n",
       "      <td>0.000000e+00</td>\n",
       "    </tr>\n",
       "    <tr>\n",
       "      <th>25%</th>\n",
       "      <td>3.000000</td>\n",
       "      <td>2830.000000</td>\n",
       "      <td>20.000000</td>\n",
       "      <td>10469.000000</td>\n",
       "      <td>1.000000</td>\n",
       "      <td>0.000000</td>\n",
       "      <td>1.000000</td>\n",
       "      <td>2000.000000</td>\n",
       "      <td>1408.000000</td>\n",
       "      <td>1920.00000</td>\n",
       "      <td>1.000000</td>\n",
       "      <td>0.000000e+00</td>\n",
       "    </tr>\n",
       "    <tr>\n",
       "      <th>50%</th>\n",
       "      <td>4.000000</td>\n",
       "      <td>5191.000000</td>\n",
       "      <td>39.000000</td>\n",
       "      <td>11223.000000</td>\n",
       "      <td>2.000000</td>\n",
       "      <td>0.000000</td>\n",
       "      <td>2.000000</td>\n",
       "      <td>2500.000000</td>\n",
       "      <td>1944.000000</td>\n",
       "      <td>1931.00000</td>\n",
       "      <td>1.000000</td>\n",
       "      <td>5.620000e+05</td>\n",
       "    </tr>\n",
       "    <tr>\n",
       "      <th>75%</th>\n",
       "      <td>4.000000</td>\n",
       "      <td>7729.000000</td>\n",
       "      <td>64.000000</td>\n",
       "      <td>11373.000000</td>\n",
       "      <td>2.000000</td>\n",
       "      <td>0.000000</td>\n",
       "      <td>2.000000</td>\n",
       "      <td>3742.000000</td>\n",
       "      <td>2694.000000</td>\n",
       "      <td>1960.00000</td>\n",
       "      <td>1.000000</td>\n",
       "      <td>9.200000e+05</td>\n",
       "    </tr>\n",
       "    <tr>\n",
       "      <th>max</th>\n",
       "      <td>5.000000</td>\n",
       "      <td>16322.000000</td>\n",
       "      <td>3768.000000</td>\n",
       "      <td>11697.000000</td>\n",
       "      <td>43.000000</td>\n",
       "      <td>2261.000000</td>\n",
       "      <td>2261.000000</td>\n",
       "      <td>9992.000000</td>\n",
       "      <td>7328.000000</td>\n",
       "      <td>2021.00000</td>\n",
       "      <td>4.000000</td>\n",
       "      <td>1.760000e+08</td>\n",
       "    </tr>\n",
       "  </tbody>\n",
       "</table>\n",
       "</div>"
      ],
      "text/plain": [
       "            BOROUGH         BLOCK           LOT      ZIP CODE  \\\n",
       "count  36937.000000  36937.000000  36937.000000  36937.000000   \n",
       "mean       3.560603   5575.729458     60.898313  11043.863849   \n",
       "std        0.935929   3639.293799    119.117792    445.252269   \n",
       "min        1.000000      3.000000      1.000000  10001.000000   \n",
       "25%        3.000000   2830.000000     20.000000  10469.000000   \n",
       "50%        4.000000   5191.000000     39.000000  11223.000000   \n",
       "75%        4.000000   7729.000000     64.000000  11373.000000   \n",
       "max        5.000000  16322.000000   3768.000000  11697.000000   \n",
       "\n",
       "       RESIDENTIAL UNITS  COMMERCIAL UNITS   TOTAL UNITS  LAND SQUARE FEET  \\\n",
       "count       36937.000000      36937.000000  36937.000000      36937.000000   \n",
       "mean            1.832499          0.156753      1.989252       2917.686602   \n",
       "std             1.259087         11.771554     11.827400       1382.941821   \n",
       "min             0.000000          0.000000      0.000000         35.000000   \n",
       "25%             1.000000          0.000000      1.000000       2000.000000   \n",
       "50%             2.000000          0.000000      2.000000       2500.000000   \n",
       "75%             2.000000          0.000000      2.000000       3742.000000   \n",
       "max            43.000000       2261.000000   2261.000000       9992.000000   \n",
       "\n",
       "       GROSS SQUARE FEET   YEAR BUILT  TAX CLASS AT TIME OF SALE    SALE PRICE  \n",
       "count       36937.000000  36937.00000               36937.000000  3.693700e+04  \n",
       "mean         2195.137910   1941.16455                   1.153586  7.168776e+05  \n",
       "std          1068.367028     30.06005                   0.554573  1.848715e+06  \n",
       "min             1.000000   1800.00000                   1.000000  0.000000e+00  \n",
       "25%          1408.000000   1920.00000                   1.000000  0.000000e+00  \n",
       "50%          1944.000000   1931.00000                   1.000000  5.620000e+05  \n",
       "75%          2694.000000   1960.00000                   1.000000  9.200000e+05  \n",
       "max          7328.000000   2021.00000                   4.000000  1.760000e+08  "
      ]
     },
     "execution_count": 8,
     "metadata": {},
     "output_type": "execute_result"
    }
   ],
   "source": [
    "# need to exclude outliers \n",
    "# in this case, outlier is defined as any value that is outside of the outter fence (Q3 + 3 * IQR)\n",
    "# for LAND SQUARE FEET: 4000 + (3 * 2000) = 10000\n",
    "# for GROSS SQUARE FEET: 2914 + (3 * 1474) = 7336\n",
    "training_data = training_data.loc[(training_data['LAND SQUARE FEET'] < 10000) & (training_data['GROSS SQUARE FEET'] < 7336)]\n",
    "training_data.describe()"
   ]
  },
  {
   "cell_type": "code",
   "execution_count": 9,
   "id": "906c2bba",
   "metadata": {
    "execution": {
     "iopub.execute_input": "2022-07-13T22:12:45.096807Z",
     "iopub.status.busy": "2022-07-13T22:12:45.096456Z",
     "iopub.status.idle": "2022-07-13T22:12:45.454628Z",
     "shell.execute_reply": "2022-07-13T22:12:45.453517Z"
    },
    "papermill": {
     "duration": 0.367885,
     "end_time": "2022-07-13T22:12:45.456946",
     "exception": false,
     "start_time": "2022-07-13T22:12:45.089061",
     "status": "completed"
    },
    "tags": []
   },
   "outputs": [
    {
     "data": {
      "image/png": "[encoded data removed]",
      "text/plain": [
       "<Figure size 432x288 with 1 Axes>"
      ]
     },
     "metadata": {
      "needs_background": "light"
     },
     "output_type": "display_data"
    },
    {
     "data": {
      "image/png": "[encoded data removed]",
      "text/plain": [
       "<Figure size 432x288 with 1 Axes>"
      ]
     },
     "metadata": {
      "needs_background": "light"
     },
     "output_type": "display_data"
    }
   ],
   "source": [
    "df_num = training_data[['LAND SQUARE FEET', 'GROSS SQUARE FEET']]\n",
    "# df_cat = training_data[['BOROUGH', 'BLOCK', 'LOT', 'ZIP CODE', 'NEIGHBORHOOD', 'BUILDING CLASS AT TIME OF SALE', 'TAX CLASS AT TIME OF SALE', 'RESIDENTIAL UNITS', 'COMMERCIAL UNITS', 'TOTAL UNITS', 'YEAR BUILT']]\n",
    "for i in df_num.columns:\n",
    "    plt.hist(df_num[i])\n",
    "    plt.title(i)\n",
    "    plt.show()"
   ]
  },
  {
   "cell_type": "code",
   "execution_count": 10,
   "id": "cc7c3a88",
   "metadata": {
    "execution": {
     "iopub.execute_input": "2022-07-13T22:12:45.472015Z",
     "iopub.status.busy": "2022-07-13T22:12:45.471389Z",
     "iopub.status.idle": "2022-07-13T22:12:45.479308Z",
     "shell.execute_reply": "2022-07-13T22:12:45.478291Z"
    },
    "papermill": {
     "duration": 0.017926,
     "end_time": "2022-07-13T22:12:45.481540",
     "exception": false,
     "start_time": "2022-07-13T22:12:45.463614",
     "status": "completed"
    },
    "tags": []
   },
   "outputs": [],
   "source": [
    "# both LAND SQUARE FEET and GROSS SQUARE FEET are right skewed\n",
    "# use log transformation to normalize them\n",
    "training_data['LAND SQUARE FEET'] = np.log(training_data['LAND SQUARE FEET'])\n",
    "training_data['GROSS SQUARE FEET'] = np.log(training_data['GROSS SQUARE FEET'])"
   ]
  },
  {
   "cell_type": "code",
   "execution_count": 11,
   "id": "238bb02d",
   "metadata": {
    "execution": {
     "iopub.execute_input": "2022-07-13T22:12:45.497241Z",
     "iopub.status.busy": "2022-07-13T22:12:45.496485Z",
     "iopub.status.idle": "2022-07-13T22:12:45.843848Z",
     "shell.execute_reply": "2022-07-13T22:12:45.842806Z"
    },
    "papermill": {
     "duration": 0.357349,
     "end_time": "2022-07-13T22:12:45.846077",
     "exception": false,
     "start_time": "2022-07-13T22:12:45.488728",
     "status": "completed"
    },
    "tags": []
   },
   "outputs": [
    {
     "data": {
      "image/png": "[encoded data removed]",
      "text/plain": [
       "<Figure size 432x288 with 1 Axes>"
      ]
     },
     "metadata": {
      "needs_background": "light"
     },
     "output_type": "display_data"
    },
    {
     "data": {
      "image/png": "[encoded data removed]",
      "text/plain": [
       "<Figure size 432x288 with 1 Axes>"
      ]
     },
     "metadata": {
      "needs_background": "light"
     },
     "output_type": "display_data"
    }
   ],
   "source": [
    "df_num = training_data[['LAND SQUARE FEET', 'GROSS SQUARE FEET']]\n",
    "df_cat = training_data[['BOROUGH', 'BLOCK', 'LOT', 'ZIP CODE', 'NEIGHBORHOOD', 'BUILDING CLASS AT TIME OF SALE', 'TAX CLASS AT TIME OF SALE', 'RESIDENTIAL UNITS', 'COMMERCIAL UNITS', 'TOTAL UNITS', 'YEAR BUILT']]\n",
    "for i in df_num.columns:\n",
    "    plt.hist(df_num[i])\n",
    "    plt.title(i)\n",
    "    plt.show()"
   ]
  },
  {
   "cell_type": "code",
   "execution_count": 12,
   "id": "69cfd317",
   "metadata": {
    "execution": {
     "iopub.execute_input": "2022-07-13T22:12:45.862052Z",
     "iopub.status.busy": "2022-07-13T22:12:45.861235Z",
     "iopub.status.idle": "2022-07-13T22:12:46.194571Z",
     "shell.execute_reply": "2022-07-13T22:12:46.193555Z"
    },
    "papermill": {
     "duration": 0.343787,
     "end_time": "2022-07-13T22:12:46.196939",
     "exception": false,
     "start_time": "2022-07-13T22:12:45.853152",
     "status": "completed"
    },
    "tags": []
   },
   "outputs": [
    {
     "name": "stdout",
     "output_type": "stream",
     "text": [
      "                            BOROUGH     BLOCK       LOT  ZIP CODE  \\\n",
      "BOROUGH                    1.000000  0.120764 -0.005078  0.011299   \n",
      "BLOCK                      0.120764  1.000000  0.028151  0.454364   \n",
      "LOT                       -0.005078  0.028151  1.000000 -0.104505   \n",
      "ZIP CODE                   0.011299  0.454364 -0.104505  1.000000   \n",
      "TAX CLASS AT TIME OF SALE -0.139547 -0.131215 -0.033118 -0.024133   \n",
      "RESIDENTIAL UNITS         -0.276629 -0.218228 -0.055284 -0.000950   \n",
      "COMMERCIAL UNITS          -0.001233  0.003028 -0.002000  0.004241   \n",
      "TOTAL UNITS               -0.030676 -0.020218 -0.007876  0.004120   \n",
      "YEAR BUILT                 0.334877  0.085287  0.096102 -0.242125   \n",
      "\n",
      "                           TAX CLASS AT TIME OF SALE  RESIDENTIAL UNITS  \\\n",
      "BOROUGH                                    -0.139547          -0.276629   \n",
      "BLOCK                                      -0.131215          -0.218228   \n",
      "LOT                                        -0.033118          -0.055284   \n",
      "ZIP CODE                                   -0.024133          -0.000950   \n",
      "TAX CLASS AT TIME OF SALE                   1.000000           0.125752   \n",
      "RESIDENTIAL UNITS                           0.125752           1.000000   \n",
      "COMMERCIAL UNITS                            0.050023          -0.009020   \n",
      "TOTAL UNITS                                 0.063173           0.097477   \n",
      "YEAR BUILT                                 -0.055578          -0.102224   \n",
      "\n",
      "                           COMMERCIAL UNITS  TOTAL UNITS  YEAR BUILT  \n",
      "BOROUGH                           -0.001233    -0.030676    0.334877  \n",
      "BLOCK                              0.003028    -0.020218    0.085287  \n",
      "LOT                               -0.002000    -0.007876    0.096102  \n",
      "ZIP CODE                           0.004241     0.004120   -0.242125  \n",
      "TAX CLASS AT TIME OF SALE          0.050023     0.063173   -0.055578  \n",
      "RESIDENTIAL UNITS                 -0.009020     0.097477   -0.102224  \n",
      "COMMERCIAL UNITS                   1.000000     0.994318   -0.005824  \n",
      "TOTAL UNITS                        0.994318     1.000000   -0.016679  \n",
      "YEAR BUILT                        -0.005824    -0.016679    1.000000  \n"
     ]
    },
    {
     "data": {
      "text/plain": [
       "<AxesSubplot:>"
      ]
     },
     "execution_count": 12,
     "metadata": {},
     "output_type": "execute_result"
    },
    {
     "data": {
      "image/png": "[encoded data removed]",
      "text/plain": [
       "<Figure size 432x288 with 2 Axes>"
      ]
     },
     "metadata": {
      "needs_background": "light"
     },
     "output_type": "display_data"
    }
   ],
   "source": [
    "# for categorical variable\n",
    "print(df_cat.corr())\n",
    "sns.heatmap(df_cat.corr())"
   ]
  },
  {
   "cell_type": "code",
   "execution_count": 13,
   "id": "1a619720",
   "metadata": {
    "execution": {
     "iopub.execute_input": "2022-07-13T22:12:46.215454Z",
     "iopub.status.busy": "2022-07-13T22:12:46.213354Z",
     "iopub.status.idle": "2022-07-13T22:12:46.224205Z",
     "shell.execute_reply": "2022-07-13T22:12:46.223023Z"
    },
    "papermill": {
     "duration": 0.021993,
     "end_time": "2022-07-13T22:12:46.226607",
     "exception": false,
     "start_time": "2022-07-13T22:12:46.204614",
     "status": "completed"
    },
    "tags": []
   },
   "outputs": [
    {
     "data": {
      "text/plain": [
       "array([0.000e+00, 1.000e+00, 2.000e+00, 3.000e+00, 1.000e+01, 4.000e+00,\n",
       "       5.000e+00, 7.000e+00, 6.000e+00, 2.261e+03, 1.500e+01, 8.000e+00])"
      ]
     },
     "execution_count": 13,
     "metadata": {},
     "output_type": "execute_result"
    }
   ],
   "source": [
    "# it shows that TOTAL UNITS and COMMERCIAL UNITS are highly corelated\n",
    "# so TOTAL UNITS will not be included in the model\n",
    "\n",
    "# exploration for RESIDENTIAL UNIT and COMMERCIAL UNIT\n",
    "# plt.bar(x = df_cat['COMMERCIAL UNITS'].value_counts().index, height = df_cat['COMMERCIAL UNITS'].value_counts())\n",
    "# df_cat['COMMERCIAL UNITS'].value_counts().index\n",
    "# df_cat['COMMERCIAL UNITS'].value_counts()\n",
    "df_cat['COMMERCIAL UNITS'].unique()\n",
    "# sns.barplot(df_cat['COMMERCIAL UNITS'].value_counts().index, df_cat['COMMERCIAL UNITS'].value_counts()).set_title('COMMERCIAL UNITS')"
   ]
  },
  {
   "cell_type": "code",
   "execution_count": 14,
   "id": "d01895bc",
   "metadata": {
    "execution": {
     "iopub.execute_input": "2022-07-13T22:12:46.243982Z",
     "iopub.status.busy": "2022-07-13T22:12:46.243591Z",
     "iopub.status.idle": "2022-07-13T22:12:46.251363Z",
     "shell.execute_reply": "2022-07-13T22:12:46.250557Z"
    },
    "papermill": {
     "duration": 0.018946,
     "end_time": "2022-07-13T22:12:46.253359",
     "exception": false,
     "start_time": "2022-07-13T22:12:46.234413",
     "status": "completed"
    },
    "tags": []
   },
   "outputs": [
    {
     "data": {
      "text/plain": [
       "array([ 2.,  1.,  8.,  3.,  6.,  0.,  4.,  5., 11.,  7., 12.,  9., 10.,\n",
       "       28., 14., 16., 20., 13., 18., 27., 17., 43., 15.])"
      ]
     },
     "execution_count": 14,
     "metadata": {},
     "output_type": "execute_result"
    }
   ],
   "source": [
    "df_cat['RESIDENTIAL UNITS'].unique()\n",
    "# df_cat['COMMERCIAL UNITS'].unique()"
   ]
  },
  {
   "cell_type": "code",
   "execution_count": 15,
   "id": "a6ea3c7a",
   "metadata": {
    "execution": {
     "iopub.execute_input": "2022-07-13T22:12:46.270906Z",
     "iopub.status.busy": "2022-07-13T22:12:46.270266Z",
     "iopub.status.idle": "2022-07-13T22:12:46.586831Z",
     "shell.execute_reply": "2022-07-13T22:12:46.584772Z"
    },
    "papermill": {
     "duration": 0.32812,
     "end_time": "2022-07-13T22:12:46.589208",
     "exception": false,
     "start_time": "2022-07-13T22:12:46.261088",
     "status": "completed"
    },
    "tags": []
   },
   "outputs": [
    {
     "data": {
      "image/png": "[encoded data removed]",
      "text/plain": [
       "<Figure size 432x288 with 1 Axes>"
      ]
     },
     "metadata": {
      "needs_background": "light"
     },
     "output_type": "display_data"
    },
    {
     "data": {
      "image/png": "[encoded data removed]",
      "text/plain": [
       "<Figure size 432x288 with 1 Axes>"
      ]
     },
     "metadata": {
      "needs_background": "light"
     },
     "output_type": "display_data"
    }
   ],
   "source": [
    "# drop the outlier from COMMERCIAL UNITS\n",
    "training_data = training_data.loc[training_data['COMMERCIAL UNITS'] < 16]\n",
    "df_cat = training_data[['BOROUGH', 'BLOCK', 'LOT', 'ZIP CODE', 'NEIGHBORHOOD', 'BUILDING CLASS AT TIME OF SALE', 'TAX CLASS AT TIME OF SALE', 'RESIDENTIAL UNITS', 'COMMERCIAL UNITS', 'TOTAL UNITS', 'YEAR BUILT', 'SALE PRICE']]\n",
    "\n",
    "\n",
    "df_residential_mean = df_cat.groupby(['RESIDENTIAL UNITS']).agg({'SALE PRICE': 'mean'})\n",
    "plt.bar(df_residential_mean.index, df_residential_mean['SALE PRICE'])\n",
    "plt.title('RESIDENTIAL UNITS VS AVG SALE PRICE')\n",
    "plt.show()\n",
    "\n",
    "df_commercial_mean = df_cat.groupby(['COMMERCIAL UNITS']).agg({'SALE PRICE': 'mean'})\n",
    "plt.bar(df_commercial_mean.index, df_commercial_mean['SALE PRICE'])\n",
    "plt.title('COMMERCIAL UNITS VS AVG SALE PRICE')\n",
    "plt.show()\n"
   ]
  },
  {
   "cell_type": "code",
   "execution_count": 16,
   "id": "0b1d4eed",
   "metadata": {
    "execution": {
     "iopub.execute_input": "2022-07-13T22:12:46.608132Z",
     "iopub.status.busy": "2022-07-13T22:12:46.607023Z",
     "iopub.status.idle": "2022-07-13T22:12:46.612398Z",
     "shell.execute_reply": "2022-07-13T22:12:46.611671Z"
    },
    "papermill": {
     "duration": 0.016997,
     "end_time": "2022-07-13T22:12:46.614439",
     "exception": false,
     "start_time": "2022-07-13T22:12:46.597442",
     "status": "completed"
    },
    "tags": []
   },
   "outputs": [],
   "source": [
    "# # data cleansing for three numerical variables\n",
    "# # drop rows where LAND SQUARE FEET, GROSS SQUARE FEET, YEAR BUILT or SALE PRICE is 0\n",
    "# training_data_drop_0 = training_data.loc[~((training_data['LAND SQUARE FEET'] == 0) | (training_data['GROSS SQUARE FEET'] == 0) | (training_data['YEAR BUILT'] == 0) | (training_data['SALE PRICE'] == 0))]\n",
    "# training_data_drop_0.describe()\n",
    "\n",
    "# # NEXT STEP: research about the smallest habitable space; drop outliers\n",
    "# # identifying values that are outside of the outter fence(Q3 + 3*IQ) to be outliers\n",
    "# # outter_fence_land = 2800 + 3*()\n",
    "# # lower_fence_price = 340000 - 1.5 * (730000 - 340000)\n",
    "\n",
    "# # after researching about the smallest habitable space and the smallest apartment in NYC\n",
    "# # I decided to drop rows with LAND SQUARE FEET < 60 or GROSS SQUARE FEET < 60\n",
    "# # in addition, since this dataset includes data from 2003 to 2019, I looked up the \n",
    "# training_data_clean = training_data_drop_0.loc[(training_data_drop_0['LAND SQUARE FEET'] >= 60) & (training_data_drop_0['GROSS SQUARE FEET'] >= 60)]\n",
    "# training_data_clean.describe()\n",
    "\n",
    "# training_data_clean.sort_values('SALE PRICE').head(20000)\n"
   ]
  }
 ],
 "metadata": {
  "kernelspec": {
   "display_name": "Python 3",
   "language": "python",
   "name": "python3"
  },
  "language_info": {
   "codemirror_mode": {
    "name": "ipython",
    "version": 3
   },
   "file_extension": ".py",
   "mimetype": "text/x-python",
   "name": "python",
   "nbconvert_exporter": "python",
   "pygments_lexer": "ipython3",
   "version": "3.7.12"
  },
  "papermill": {
   "default_parameters": {},
   "duration": 51.823134,
   "end_time": "2022-07-13T22:12:47.342448",
   "environment_variables": {},
   "exception": null,
   "input_path": "__notebook__.ipynb",
   "output_path": "__notebook__.ipynb",
   "parameters": {},
   "start_time": "2022-07-13T22:11:55.519314",
   "version": "2.3.4"
  }
 },
 "nbformat": 4,
 "nbformat_minor": 5
}
