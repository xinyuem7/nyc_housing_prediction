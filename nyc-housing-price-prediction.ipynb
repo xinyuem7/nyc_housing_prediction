{
 "cells": [
  {
   "cell_type": "code",
   "execution_count": 1,
   "id": "c6ef17c2",
   "metadata": {
    "_cell_guid": "b1076dfc-b9ad-4769-8c92-a6c4dae69d19",
    "_uuid": "8f2839f25d086af736a60e9eeb907d3b93b6e0e5",
    "execution": {
     "iopub.execute_input": "2022-07-06T04:02:51.125162Z",
     "iopub.status.busy": "2022-07-06T04:02:51.124584Z",
     "iopub.status.idle": "2022-07-06T04:02:59.896546Z",
     "shell.execute_reply": "2022-07-06T04:02:59.895333Z"
    },
    "papermill": {
     "duration": 8.781448,
     "end_time": "2022-07-06T04:02:59.899521",
     "exception": false,
     "start_time": "2022-07-06T04:02:51.118073",
     "status": "completed"
    },
    "tags": []
   },
   "outputs": [
    {
     "name": "stdout",
     "output_type": "stream",
     "text": [
      "/kaggle/input/nyc-housing-data-20032019/data.csv\n"
     ]
    }
   ],
   "source": [
    "# import Python packages\n",
    "import numpy as np\n",
    "import pandas as pd\n",
    "from sklearn.model_selection import train_test_split\n",
    "import matplotlib.pyplot as plt\n",
    "\n",
    "import os\n",
    "for dirname, _, filenames in os.walk('/kaggle/input'):\n",
    "    for filename in filenames:\n",
    "        print(os.path.join(dirname, filename))\n",
    "\n",
    "# import dataset\n",
    "all_data = pd.read_csv('../input/nyc-housing-data-20032019/data.csv')\n",
    "\n",
    "# drop rows with NaN\n",
    "all_data.dropna(subset = ['LAND SQUARE FEET', 'GROSS SQUARE FEET', 'YEAR BUILT'], inplace = True)\n",
    "\n",
    "# split all_data into training and testing datasets for linear regression\n",
    "training_data, testing_data = train_test_split(all_data, test_size = 0.2, random_state = 25)"
   ]
  },
  {
   "cell_type": "code",
   "execution_count": 2,
   "id": "07870b7f",
   "metadata": {
    "execution": {
     "iopub.execute_input": "2022-07-06T04:02:59.907100Z",
     "iopub.status.busy": "2022-07-06T04:02:59.906139Z",
     "iopub.status.idle": "2022-07-06T04:03:00.921856Z",
     "shell.execute_reply": "2022-07-06T04:03:00.920538Z"
    },
    "papermill": {
     "duration": 1.021724,
     "end_time": "2022-07-06T04:03:00.924133",
     "exception": false,
     "start_time": "2022-07-06T04:02:59.902409",
     "status": "completed"
    },
    "tags": []
   },
   "outputs": [
    {
     "name": "stdout",
     "output_type": "stream",
     "text": [
      "<class 'pandas.core.frame.DataFrame'>\n",
      "Int64Index: 1261860 entries, 1506369 to 29828\n",
      "Data columns (total 10 columns):\n",
      " #   Column                   Non-Null Count    Dtype  \n",
      "---  ------                   --------------    -----  \n",
      " 0   BOROUGH                  1261860 non-null  int64  \n",
      " 1   NEIGHBORHOOD             1261860 non-null  object \n",
      " 2   BUILDING CLASS CATEGORY  1261860 non-null  object \n",
      " 3   ADDRESS                  1261860 non-null  object \n",
      " 4   ZIP CODE                 1261859 non-null  float64\n",
      " 5   LAND SQUARE FEET         1261860 non-null  float64\n",
      " 6   GROSS SQUARE FEET        1261860 non-null  float64\n",
      " 7   YEAR BUILT               1261860 non-null  float64\n",
      " 8   SALE PRICE               1261860 non-null  int64  \n",
      " 9   SALE DATE                1261860 non-null  object \n",
      "dtypes: float64(4), int64(2), object(4)\n",
      "memory usage: 105.9+ MB\n"
     ]
    },
    {
     "data": {
      "text/html": [
       "<div>\n",
       "<style scoped>\n",
       "    .dataframe tbody tr th:only-of-type {\n",
       "        vertical-align: middle;\n",
       "    }\n",
       "\n",
       "    .dataframe tbody tr th {\n",
       "        vertical-align: top;\n",
       "    }\n",
       "\n",
       "    .dataframe thead th {\n",
       "        text-align: right;\n",
       "    }\n",
       "</style>\n",
       "<table border=\"1\" class=\"dataframe\">\n",
       "  <thead>\n",
       "    <tr style=\"text-align: right;\">\n",
       "      <th></th>\n",
       "      <th>BOROUGH</th>\n",
       "      <th>ZIP CODE</th>\n",
       "      <th>LAND SQUARE FEET</th>\n",
       "      <th>GROSS SQUARE FEET</th>\n",
       "      <th>YEAR BUILT</th>\n",
       "      <th>SALE PRICE</th>\n",
       "    </tr>\n",
       "  </thead>\n",
       "  <tbody>\n",
       "    <tr>\n",
       "      <th>count</th>\n",
       "      <td>1.261860e+06</td>\n",
       "      <td>1.261859e+06</td>\n",
       "      <td>1.261860e+06</td>\n",
       "      <td>1.261860e+06</td>\n",
       "      <td>1.261860e+06</td>\n",
       "      <td>1.261860e+06</td>\n",
       "    </tr>\n",
       "    <tr>\n",
       "      <th>mean</th>\n",
       "      <td>2.922713e+00</td>\n",
       "      <td>1.081210e+04</td>\n",
       "      <td>4.214479e+03</td>\n",
       "      <td>4.398764e+03</td>\n",
       "      <td>1.725669e+03</td>\n",
       "      <td>8.427846e+05</td>\n",
       "    </tr>\n",
       "    <tr>\n",
       "      <th>std</th>\n",
       "      <td>1.308358e+00</td>\n",
       "      <td>7.669381e+02</td>\n",
       "      <td>4.729340e+05</td>\n",
       "      <td>5.180499e+04</td>\n",
       "      <td>6.206019e+02</td>\n",
       "      <td>1.147850e+07</td>\n",
       "    </tr>\n",
       "    <tr>\n",
       "      <th>min</th>\n",
       "      <td>1.000000e+00</td>\n",
       "      <td>0.000000e+00</td>\n",
       "      <td>0.000000e+00</td>\n",
       "      <td>0.000000e+00</td>\n",
       "      <td>0.000000e+00</td>\n",
       "      <td>0.000000e+00</td>\n",
       "    </tr>\n",
       "    <tr>\n",
       "      <th>25%</th>\n",
       "      <td>2.000000e+00</td>\n",
       "      <td>1.030200e+04</td>\n",
       "      <td>0.000000e+00</td>\n",
       "      <td>0.000000e+00</td>\n",
       "      <td>1.915000e+03</td>\n",
       "      <td>0.000000e+00</td>\n",
       "    </tr>\n",
       "    <tr>\n",
       "      <th>50%</th>\n",
       "      <td>3.000000e+00</td>\n",
       "      <td>1.120800e+04</td>\n",
       "      <td>1.850000e+03</td>\n",
       "      <td>1.254000e+03</td>\n",
       "      <td>1.931000e+03</td>\n",
       "      <td>3.020000e+05</td>\n",
       "    </tr>\n",
       "    <tr>\n",
       "      <th>75%</th>\n",
       "      <td>4.000000e+00</td>\n",
       "      <td>1.135700e+04</td>\n",
       "      <td>2.800000e+03</td>\n",
       "      <td>2.360000e+03</td>\n",
       "      <td>1.964000e+03</td>\n",
       "      <td>6.200000e+05</td>\n",
       "    </tr>\n",
       "    <tr>\n",
       "      <th>max</th>\n",
       "      <td>5.000000e+00</td>\n",
       "      <td>3.380300e+04</td>\n",
       "      <td>2.147557e+08</td>\n",
       "      <td>1.496215e+07</td>\n",
       "      <td>2.020000e+03</td>\n",
       "      <td>4.111112e+09</td>\n",
       "    </tr>\n",
       "  </tbody>\n",
       "</table>\n",
       "</div>"
      ],
      "text/plain": [
       "            BOROUGH      ZIP CODE  LAND SQUARE FEET  GROSS SQUARE FEET  \\\n",
       "count  1.261860e+06  1.261859e+06      1.261860e+06       1.261860e+06   \n",
       "mean   2.922713e+00  1.081210e+04      4.214479e+03       4.398764e+03   \n",
       "std    1.308358e+00  7.669381e+02      4.729340e+05       5.180499e+04   \n",
       "min    1.000000e+00  0.000000e+00      0.000000e+00       0.000000e+00   \n",
       "25%    2.000000e+00  1.030200e+04      0.000000e+00       0.000000e+00   \n",
       "50%    3.000000e+00  1.120800e+04      1.850000e+03       1.254000e+03   \n",
       "75%    4.000000e+00  1.135700e+04      2.800000e+03       2.360000e+03   \n",
       "max    5.000000e+00  3.380300e+04      2.147557e+08       1.496215e+07   \n",
       "\n",
       "         YEAR BUILT    SALE PRICE  \n",
       "count  1.261860e+06  1.261860e+06  \n",
       "mean   1.725669e+03  8.427846e+05  \n",
       "std    6.206019e+02  1.147850e+07  \n",
       "min    0.000000e+00  0.000000e+00  \n",
       "25%    1.915000e+03  0.000000e+00  \n",
       "50%    1.931000e+03  3.020000e+05  \n",
       "75%    1.964000e+03  6.200000e+05  \n",
       "max    2.020000e+03  4.111112e+09  "
      ]
     },
     "execution_count": 2,
     "metadata": {},
     "output_type": "execute_result"
    }
   ],
   "source": [
    "# Step 1: understand the dataset\n",
    "\n",
    "# shape of the training dataset and teh testing dataset\n",
    "training_data #1280161 rows × 10 columns\n",
    "testing_data #320041 rows × 10 columns\n",
    "\n",
    "# understand the nature of teh training data\n",
    "training_data.info()\n",
    "training_data.describe()"
   ]
  },
  {
   "cell_type": "code",
   "execution_count": 3,
   "id": "b379eae6",
   "metadata": {
    "execution": {
     "iopub.execute_input": "2022-07-06T04:03:00.931650Z",
     "iopub.status.busy": "2022-07-06T04:03:00.931269Z",
     "iopub.status.idle": "2022-07-06T04:03:01.282831Z",
     "shell.execute_reply": "2022-07-06T04:03:01.281666Z"
    },
    "papermill": {
     "duration": 0.358296,
     "end_time": "2022-07-06T04:03:01.285500",
     "exception": false,
     "start_time": "2022-07-06T04:03:00.927204",
     "status": "completed"
    },
    "tags": []
   },
   "outputs": [],
   "source": [
    "# According to training_data.info(), the following columns have NaN:\n",
    "# Land square feet has 13751 null values\n",
    "# Gross square feet has 13750 null values\n",
    "# Year built has 4816 null values\n",
    "\n",
    "# According to training_data.describe(), the following columns have values equal to 0 which they should not have:\n",
    "# Land square feet\n",
    "# Gross square feet\n",
    "# Year built\n",
    "# Sale price\n",
    "\n",
    "# The following variables may need feature engineering:\n",
    "# NEIGHBORHOOD\n",
    "# BUILDING CLASS CATEGORY\n",
    "# ADDRESS\n",
    "# ZIP CODE\n",
    "\n",
    "training_data.describe().columns\n",
    "df_num = training_data[['LAND SQUARE FEET', 'GROSS SQUARE FEET', 'YEAR BUILT']]\n",
    "df_cat = training_data[['BOROUGH', 'ZIP CODE']]"
   ]
  },
  {
   "cell_type": "code",
   "execution_count": 4,
   "id": "bc21d8f1",
   "metadata": {
    "execution": {
     "iopub.execute_input": "2022-07-06T04:03:01.293025Z",
     "iopub.status.busy": "2022-07-06T04:03:01.292660Z",
     "iopub.status.idle": "2022-07-06T04:03:01.985029Z",
     "shell.execute_reply": "2022-07-06T04:03:01.983954Z"
    },
    "papermill": {
     "duration": 0.698939,
     "end_time": "2022-07-06T04:03:01.987451",
     "exception": false,
     "start_time": "2022-07-06T04:03:01.288512",
     "status": "completed"
    },
    "tags": []
   },
   "outputs": [
    {
     "data": {
      "image/png": "[encoded data removed]",
      "text/plain": [
       "<Figure size 432x288 with 1 Axes>"
      ]
     },
     "metadata": {
      "needs_background": "light"
     },
     "output_type": "display_data"
    },
    {
     "data": {
      "image/png": "[encoded data removed]",
      "text/plain": [
       "<Figure size 432x288 with 1 Axes>"
      ]
     },
     "metadata": {
      "needs_background": "light"
     },
     "output_type": "display_data"
    },
    {
     "data": {
      "image/png": "[encoded data removed]",
      "text/plain": [
       "<Figure size 432x288 with 1 Axes>"
      ]
     },
     "metadata": {
      "needs_background": "light"
     },
     "output_type": "display_data"
    }
   ],
   "source": [
    "# plot the distribution of the numeric variables\n",
    "for i in df_num.columns:\n",
    "    plt.hist(df_num[i])\n",
    "    plt.title(i)\n",
    "    plt.show()"
   ]
  },
  {
   "cell_type": "code",
   "execution_count": 5,
   "id": "3743e4bd",
   "metadata": {
    "execution": {
     "iopub.execute_input": "2022-07-06T04:03:01.996833Z",
     "iopub.status.busy": "2022-07-06T04:03:01.996448Z",
     "iopub.status.idle": "2022-07-06T04:03:02.327166Z",
     "shell.execute_reply": "2022-07-06T04:03:02.325978Z"
    },
    "papermill": {
     "duration": 0.338368,
     "end_time": "2022-07-06T04:03:02.329637",
     "exception": false,
     "start_time": "2022-07-06T04:03:01.991269",
     "status": "completed"
    },
    "tags": []
   },
   "outputs": [
    {
     "data": {
      "text/html": [
       "<div>\n",
       "<style scoped>\n",
       "    .dataframe tbody tr th:only-of-type {\n",
       "        vertical-align: middle;\n",
       "    }\n",
       "\n",
       "    .dataframe tbody tr th {\n",
       "        vertical-align: top;\n",
       "    }\n",
       "\n",
       "    .dataframe thead th {\n",
       "        text-align: right;\n",
       "    }\n",
       "</style>\n",
       "<table border=\"1\" class=\"dataframe\">\n",
       "  <thead>\n",
       "    <tr style=\"text-align: right;\">\n",
       "      <th></th>\n",
       "      <th>BOROUGH</th>\n",
       "      <th>ZIP CODE</th>\n",
       "      <th>LAND SQUARE FEET</th>\n",
       "      <th>GROSS SQUARE FEET</th>\n",
       "      <th>YEAR BUILT</th>\n",
       "      <th>SALE PRICE</th>\n",
       "    </tr>\n",
       "  </thead>\n",
       "  <tbody>\n",
       "    <tr>\n",
       "      <th>count</th>\n",
       "      <td>718899.00000</td>\n",
       "      <td>718898.000000</td>\n",
       "      <td>7.188990e+05</td>\n",
       "      <td>7.188990e+05</td>\n",
       "      <td>718899.000000</td>\n",
       "      <td>7.188990e+05</td>\n",
       "    </tr>\n",
       "    <tr>\n",
       "      <th>mean</th>\n",
       "      <td>3.42067</td>\n",
       "      <td>11007.786525</td>\n",
       "      <td>6.818932e+03</td>\n",
       "      <td>7.677281e+03</td>\n",
       "      <td>1942.042953</td>\n",
       "      <td>8.440001e+05</td>\n",
       "    </tr>\n",
       "    <tr>\n",
       "      <th>std</th>\n",
       "      <td>1.04368</td>\n",
       "      <td>494.460212</td>\n",
       "      <td>6.259193e+05</td>\n",
       "      <td>6.840763e+04</td>\n",
       "      <td>32.091210</td>\n",
       "      <td>1.344613e+07</td>\n",
       "    </tr>\n",
       "    <tr>\n",
       "      <th>min</th>\n",
       "      <td>1.00000</td>\n",
       "      <td>0.000000</td>\n",
       "      <td>1.000000e+00</td>\n",
       "      <td>1.000000e+00</td>\n",
       "      <td>1018.000000</td>\n",
       "      <td>0.000000e+00</td>\n",
       "    </tr>\n",
       "    <tr>\n",
       "      <th>25%</th>\n",
       "      <td>3.00000</td>\n",
       "      <td>10465.000000</td>\n",
       "      <td>2.000000e+03</td>\n",
       "      <td>1.540000e+03</td>\n",
       "      <td>1920.000000</td>\n",
       "      <td>0.000000e+00</td>\n",
       "    </tr>\n",
       "    <tr>\n",
       "      <th>50%</th>\n",
       "      <td>4.00000</td>\n",
       "      <td>11221.000000</td>\n",
       "      <td>2.500000e+03</td>\n",
       "      <td>2.160000e+03</td>\n",
       "      <td>1930.000000</td>\n",
       "      <td>3.000000e+05</td>\n",
       "    </tr>\n",
       "    <tr>\n",
       "      <th>75%</th>\n",
       "      <td>4.00000</td>\n",
       "      <td>11372.000000</td>\n",
       "      <td>4.000000e+03</td>\n",
       "      <td>3.200000e+03</td>\n",
       "      <td>1960.000000</td>\n",
       "      <td>5.720000e+05</td>\n",
       "    </tr>\n",
       "    <tr>\n",
       "      <th>max</th>\n",
       "      <td>5.00000</td>\n",
       "      <td>11697.000000</td>\n",
       "      <td>2.147557e+08</td>\n",
       "      <td>1.496215e+07</td>\n",
       "      <td>2019.000000</td>\n",
       "      <td>4.111112e+09</td>\n",
       "    </tr>\n",
       "  </tbody>\n",
       "</table>\n",
       "</div>"
      ],
      "text/plain": [
       "            BOROUGH       ZIP CODE  LAND SQUARE FEET  GROSS SQUARE FEET  \\\n",
       "count  718899.00000  718898.000000      7.188990e+05       7.188990e+05   \n",
       "mean        3.42067   11007.786525      6.818932e+03       7.677281e+03   \n",
       "std         1.04368     494.460212      6.259193e+05       6.840763e+04   \n",
       "min         1.00000       0.000000      1.000000e+00       1.000000e+00   \n",
       "25%         3.00000   10465.000000      2.000000e+03       1.540000e+03   \n",
       "50%         4.00000   11221.000000      2.500000e+03       2.160000e+03   \n",
       "75%         4.00000   11372.000000      4.000000e+03       3.200000e+03   \n",
       "max         5.00000   11697.000000      2.147557e+08       1.496215e+07   \n",
       "\n",
       "          YEAR BUILT    SALE PRICE  \n",
       "count  718899.000000  7.188990e+05  \n",
       "mean     1942.042953  8.440001e+05  \n",
       "std        32.091210  1.344613e+07  \n",
       "min      1018.000000  0.000000e+00  \n",
       "25%      1920.000000  0.000000e+00  \n",
       "50%      1930.000000  3.000000e+05  \n",
       "75%      1960.000000  5.720000e+05  \n",
       "max      2019.000000  4.111112e+09  "
      ]
     },
     "execution_count": 5,
     "metadata": {},
     "output_type": "execute_result"
    }
   ],
   "source": [
    "# data cleansing for three numerical variables\n",
    "# drop rows where LAND SQUARE FEET, GROSS SQUARE FEET, YEAR BUILT or Sale price is 0\n",
    "training_data_drop_0 = training_data.loc[~((training_data['LAND SQUARE FEET'] == 0) | (training_data['GROSS SQUARE FEET'] == 0) | (training_data['YEAR BUILT'] == 0))]\n",
    "training_data_drop_0.describe()\n",
    "\n",
    "# NEXT STEP: research about the smallest habitable space; drop outliers\n",
    "# identifying values that are outside of the outter fence(Q3 + 3*IQ) to be outliers\n",
    "# outter_fence_land = 2800 + 3*()"
   ]
  }
 ],
 "metadata": {
  "kernelspec": {
   "display_name": "Python 3",
   "language": "python",
   "name": "python3"
  },
  "language_info": {
   "codemirror_mode": {
    "name": "ipython",
    "version": 3
   },
   "file_extension": ".py",
   "mimetype": "text/x-python",
   "name": "python",
   "nbconvert_exporter": "python",
   "pygments_lexer": "ipython3",
   "version": "3.7.12"
  },
  "papermill": {
   "default_parameters": {},
   "duration": 21.437201,
   "end_time": "2022-07-06T04:03:03.155392",
   "environment_variables": {},
   "exception": null,
   "input_path": "__notebook__.ipynb",
   "output_path": "__notebook__.ipynb",
   "parameters": {},
   "start_time": "2022-07-06T04:02:41.718191",
   "version": "2.3.4"
  }
 },
 "nbformat": 4,
 "nbformat_minor": 5
}
