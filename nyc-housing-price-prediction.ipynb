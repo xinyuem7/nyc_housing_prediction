{
 "cells": [
  {
   "cell_type": "code",
   "execution_count": 1,
   "id": "9494988a",
   "metadata": {
    "execution": {
     "iopub.execute_input": "2022-07-14T20:03:38.351844Z",
     "iopub.status.busy": "2022-07-14T20:03:38.350742Z",
     "iopub.status.idle": "2022-07-14T20:03:52.448119Z",
     "shell.execute_reply": "2022-07-14T20:03:52.446792Z"
    },
    "papermill": {
     "duration": 14.109459,
     "end_time": "2022-07-14T20:03:52.451811",
     "exception": false,
     "start_time": "2022-07-14T20:03:38.342352",
     "status": "completed"
    },
    "tags": []
   },
   "outputs": [
    {
     "name": "stdout",
     "output_type": "stream",
     "text": [
      "Collecting openpyxl\r\n",
      "  Downloading openpyxl-3.0.10-py2.py3-none-any.whl (242 kB)\r\n",
      "\u001b[2K     \u001b[90m━━━━━━━━━━━━━━━━━━━━━━━━━━━━━━━━━━━━━━━\u001b[0m \u001b[32m242.1/242.1 kB\u001b[0m \u001b[31m1.5 MB/s\u001b[0m eta \u001b[36m0:00:00\u001b[0m\r\n",
      "\u001b[?25hCollecting et-xmlfile\r\n",
      "  Downloading et_xmlfile-1.1.0-py3-none-any.whl (4.7 kB)\r\n",
      "Installing collected packages: et-xmlfile, openpyxl\r\n",
      "Successfully installed et-xmlfile-1.1.0 openpyxl-3.0.10\r\n",
      "\u001b[33mWARNING: Running pip as the 'root' user can result in broken permissions and conflicting behaviour with the system package manager. It is recommended to use a virtual environment instead: https://pip.pypa.io/warnings/venv\u001b[0m\u001b[33m\r\n",
      "\u001b[0m"
     ]
    }
   ],
   "source": [
    "!pip install openpyxl"
   ]
  },
  {
   "cell_type": "code",
   "execution_count": 2,
   "id": "d2b45922",
   "metadata": {
    "_cell_guid": "b1076dfc-b9ad-4769-8c92-a6c4dae69d19",
    "_uuid": "8f2839f25d086af736a60e9eeb907d3b93b6e0e5",
    "execution": {
     "iopub.execute_input": "2022-07-14T20:03:52.468094Z",
     "iopub.status.busy": "2022-07-14T20:03:52.467645Z",
     "iopub.status.idle": "2022-07-14T20:04:36.941401Z",
     "shell.execute_reply": "2022-07-14T20:04:36.939731Z"
    },
    "papermill": {
     "duration": 44.491383,
     "end_time": "2022-07-14T20:04:36.950720",
     "exception": false,
     "start_time": "2022-07-14T20:03:52.459337",
     "status": "completed"
    },
    "tags": []
   },
   "outputs": [
    {
     "name": "stdout",
     "output_type": "stream",
     "text": [
      "/kaggle/input/nyu-properties-price-june-2021-to-may-2022/rollingsales_queens.xlsx\n",
      "/kaggle/input/nyu-properties-price-june-2021-to-may-2022/rollingsales_statenisland.xlsx\n",
      "/kaggle/input/nyu-properties-price-june-2021-to-may-2022/rollingsales_bronx.xlsx\n",
      "/kaggle/input/nyu-properties-price-june-2021-to-may-2022/rollingsales_brooklyn.xlsx\n",
      "/kaggle/input/nyu-properties-price-june-2021-to-may-2022/rollingsales_manhattan.xlsx\n"
     ]
    },
    {
     "data": {
      "text/html": [
       "<div>\n",
       "<style scoped>\n",
       "    .dataframe tbody tr th:only-of-type {\n",
       "        vertical-align: middle;\n",
       "    }\n",
       "\n",
       "    .dataframe tbody tr th {\n",
       "        vertical-align: top;\n",
       "    }\n",
       "\n",
       "    .dataframe thead th {\n",
       "        text-align: right;\n",
       "    }\n",
       "</style>\n",
       "<table border=\"1\" class=\"dataframe\">\n",
       "  <thead>\n",
       "    <tr style=\"text-align: right;\">\n",
       "      <th></th>\n",
       "      <th>BOROUGH</th>\n",
       "      <th>BLOCK</th>\n",
       "      <th>LOT</th>\n",
       "      <th>EASEMENT</th>\n",
       "      <th>ZIP CODE</th>\n",
       "      <th>RESIDENTIAL UNITS</th>\n",
       "      <th>COMMERCIAL UNITS</th>\n",
       "      <th>TOTAL UNITS</th>\n",
       "      <th>LAND SQUARE FEET</th>\n",
       "      <th>GROSS SQUARE FEET</th>\n",
       "      <th>YEAR BUILT</th>\n",
       "      <th>TAX CLASS AT TIME OF SALE</th>\n",
       "      <th>SALE PRICE</th>\n",
       "    </tr>\n",
       "  </thead>\n",
       "  <tbody>\n",
       "    <tr>\n",
       "      <th>count</th>\n",
       "      <td>98270.000000</td>\n",
       "      <td>98270.000000</td>\n",
       "      <td>98270.000000</td>\n",
       "      <td>0.0</td>\n",
       "      <td>98268.000000</td>\n",
       "      <td>74209.000000</td>\n",
       "      <td>55050.000000</td>\n",
       "      <td>77365.000000</td>\n",
       "      <td>5.189400e+04</td>\n",
       "      <td>5.189400e+04</td>\n",
       "      <td>90962.000000</td>\n",
       "      <td>98270.00000</td>\n",
       "      <td>9.827000e+04</td>\n",
       "    </tr>\n",
       "    <tr>\n",
       "      <th>mean</th>\n",
       "      <td>2.931668</td>\n",
       "      <td>4074.654116</td>\n",
       "      <td>407.336837</td>\n",
       "      <td>NaN</td>\n",
       "      <td>10838.035800</td>\n",
       "      <td>3.034605</td>\n",
       "      <td>0.342343</td>\n",
       "      <td>3.154411</td>\n",
       "      <td>6.000338e+03</td>\n",
       "      <td>5.901244e+03</td>\n",
       "      <td>1953.229810</td>\n",
       "      <td>1.66130</td>\n",
       "      <td>1.573321e+06</td>\n",
       "    </tr>\n",
       "    <tr>\n",
       "      <th>std</th>\n",
       "      <td>1.301492</td>\n",
       "      <td>3536.717583</td>\n",
       "      <td>671.622219</td>\n",
       "      <td>NaN</td>\n",
       "      <td>568.321101</td>\n",
       "      <td>21.624886</td>\n",
       "      <td>10.410163</td>\n",
       "      <td>22.955828</td>\n",
       "      <td>9.983351e+04</td>\n",
       "      <td>4.415590e+04</td>\n",
       "      <td>36.261037</td>\n",
       "      <td>0.78476</td>\n",
       "      <td>1.133458e+07</td>\n",
       "    </tr>\n",
       "    <tr>\n",
       "      <th>min</th>\n",
       "      <td>1.000000</td>\n",
       "      <td>1.000000</td>\n",
       "      <td>1.000000</td>\n",
       "      <td>NaN</td>\n",
       "      <td>10001.000000</td>\n",
       "      <td>0.000000</td>\n",
       "      <td>0.000000</td>\n",
       "      <td>0.000000</td>\n",
       "      <td>0.000000e+00</td>\n",
       "      <td>0.000000e+00</td>\n",
       "      <td>1800.000000</td>\n",
       "      <td>1.00000</td>\n",
       "      <td>0.000000e+00</td>\n",
       "    </tr>\n",
       "    <tr>\n",
       "      <th>25%</th>\n",
       "      <td>2.000000</td>\n",
       "      <td>1216.250000</td>\n",
       "      <td>23.000000</td>\n",
       "      <td>NaN</td>\n",
       "      <td>10303.000000</td>\n",
       "      <td>1.000000</td>\n",
       "      <td>0.000000</td>\n",
       "      <td>1.000000</td>\n",
       "      <td>2.000000e+03</td>\n",
       "      <td>1.368000e+03</td>\n",
       "      <td>1925.000000</td>\n",
       "      <td>1.00000</td>\n",
       "      <td>0.000000e+00</td>\n",
       "    </tr>\n",
       "    <tr>\n",
       "      <th>50%</th>\n",
       "      <td>3.000000</td>\n",
       "      <td>3060.000000</td>\n",
       "      <td>53.000000</td>\n",
       "      <td>NaN</td>\n",
       "      <td>11208.000000</td>\n",
       "      <td>1.000000</td>\n",
       "      <td>0.000000</td>\n",
       "      <td>1.000000</td>\n",
       "      <td>2.500000e+03</td>\n",
       "      <td>1.962500e+03</td>\n",
       "      <td>1950.000000</td>\n",
       "      <td>2.00000</td>\n",
       "      <td>6.109500e+05</td>\n",
       "    </tr>\n",
       "    <tr>\n",
       "      <th>75%</th>\n",
       "      <td>4.000000</td>\n",
       "      <td>6099.000000</td>\n",
       "      <td>1007.000000</td>\n",
       "      <td>NaN</td>\n",
       "      <td>11355.000000</td>\n",
       "      <td>2.000000</td>\n",
       "      <td>0.000000</td>\n",
       "      <td>2.000000</td>\n",
       "      <td>4.000000e+03</td>\n",
       "      <td>2.851750e+03</td>\n",
       "      <td>1980.000000</td>\n",
       "      <td>2.00000</td>\n",
       "      <td>1.100000e+06</td>\n",
       "    </tr>\n",
       "    <tr>\n",
       "      <th>max</th>\n",
       "      <td>5.000000</td>\n",
       "      <td>16350.000000</td>\n",
       "      <td>9114.000000</td>\n",
       "      <td>NaN</td>\n",
       "      <td>11697.000000</td>\n",
       "      <td>800.000000</td>\n",
       "      <td>2261.000000</td>\n",
       "      <td>2261.000000</td>\n",
       "      <td>5.799632e+06</td>\n",
       "      <td>2.400000e+06</td>\n",
       "      <td>2022.000000</td>\n",
       "      <td>4.00000</td>\n",
       "      <td>1.033000e+09</td>\n",
       "    </tr>\n",
       "  </tbody>\n",
       "</table>\n",
       "</div>"
      ],
      "text/plain": [
       "            BOROUGH         BLOCK           LOT  EASEMENT      ZIP CODE  \\\n",
       "count  98270.000000  98270.000000  98270.000000       0.0  98268.000000   \n",
       "mean       2.931668   4074.654116    407.336837       NaN  10838.035800   \n",
       "std        1.301492   3536.717583    671.622219       NaN    568.321101   \n",
       "min        1.000000      1.000000      1.000000       NaN  10001.000000   \n",
       "25%        2.000000   1216.250000     23.000000       NaN  10303.000000   \n",
       "50%        3.000000   3060.000000     53.000000       NaN  11208.000000   \n",
       "75%        4.000000   6099.000000   1007.000000       NaN  11355.000000   \n",
       "max        5.000000  16350.000000   9114.000000       NaN  11697.000000   \n",
       "\n",
       "       RESIDENTIAL UNITS  COMMERCIAL UNITS   TOTAL UNITS  LAND SQUARE FEET  \\\n",
       "count       74209.000000      55050.000000  77365.000000      5.189400e+04   \n",
       "mean            3.034605          0.342343      3.154411      6.000338e+03   \n",
       "std            21.624886         10.410163     22.955828      9.983351e+04   \n",
       "min             0.000000          0.000000      0.000000      0.000000e+00   \n",
       "25%             1.000000          0.000000      1.000000      2.000000e+03   \n",
       "50%             1.000000          0.000000      1.000000      2.500000e+03   \n",
       "75%             2.000000          0.000000      2.000000      4.000000e+03   \n",
       "max           800.000000       2261.000000   2261.000000      5.799632e+06   \n",
       "\n",
       "       GROSS SQUARE FEET    YEAR BUILT  TAX CLASS AT TIME OF SALE  \\\n",
       "count       5.189400e+04  90962.000000                98270.00000   \n",
       "mean        5.901244e+03   1953.229810                    1.66130   \n",
       "std         4.415590e+04     36.261037                    0.78476   \n",
       "min         0.000000e+00   1800.000000                    1.00000   \n",
       "25%         1.368000e+03   1925.000000                    1.00000   \n",
       "50%         1.962500e+03   1950.000000                    2.00000   \n",
       "75%         2.851750e+03   1980.000000                    2.00000   \n",
       "max         2.400000e+06   2022.000000                    4.00000   \n",
       "\n",
       "         SALE PRICE  \n",
       "count  9.827000e+04  \n",
       "mean   1.573321e+06  \n",
       "std    1.133458e+07  \n",
       "min    0.000000e+00  \n",
       "25%    0.000000e+00  \n",
       "50%    6.109500e+05  \n",
       "75%    1.100000e+06  \n",
       "max    1.033000e+09  "
      ]
     },
     "execution_count": 2,
     "metadata": {},
     "output_type": "execute_result"
    }
   ],
   "source": [
    "# import Python packages\n",
    "import numpy as np\n",
    "import pandas as pd\n",
    "import seaborn as sns\n",
    "from sklearn.model_selection import train_test_split\n",
    "import matplotlib.pyplot as plt\n",
    "\n",
    "import os\n",
    "for dirname, _, filenames in os.walk('/kaggle/input'):\n",
    "    for filename in filenames:\n",
    "        print(os.path.join(dirname, filename))\n",
    "\n",
    "# import dataset\n",
    "queens = pd.read_excel(\"../input/nyu-properties-price-june-2021-to-may-2022/rollingsales_queens.xlsx\")\n",
    "brooklyn = pd.read_excel(\"../input/nyu-properties-price-june-2021-to-may-2022/rollingsales_brooklyn.xlsx\")\n",
    "manhattan = pd.read_excel(\"../input/nyu-properties-price-june-2021-to-may-2022/rollingsales_manhattan.xlsx\")\n",
    "bronx = pd.read_excel(\"../input/nyu-properties-price-june-2021-to-may-2022/rollingsales_bronx.xlsx\")\n",
    "statenisland = pd.read_excel(\"../input/nyu-properties-price-june-2021-to-may-2022/rollingsales_statenisland.xlsx\")\n",
    "\n",
    "all_data = pd.concat([queens, brooklyn, manhattan, bronx, statenisland])\n",
    "all_data.describe()"
   ]
  },
  {
   "cell_type": "code",
   "execution_count": 3,
   "id": "1ed91112",
   "metadata": {
    "execution": {
     "iopub.execute_input": "2022-07-14T20:04:36.966697Z",
     "iopub.status.busy": "2022-07-14T20:04:36.966257Z",
     "iopub.status.idle": "2022-07-14T20:04:37.216456Z",
     "shell.execute_reply": "2022-07-14T20:04:37.214786Z"
    },
    "papermill": {
     "duration": 0.262712,
     "end_time": "2022-07-14T20:04:37.220320",
     "exception": false,
     "start_time": "2022-07-14T20:04:36.957608",
     "status": "completed"
    },
    "tags": []
   },
   "outputs": [
    {
     "name": "stdout",
     "output_type": "stream",
     "text": [
      "<class 'pandas.core.frame.DataFrame'>\n",
      "Int64Index: 98270 entries, 0 to 9087\n",
      "Data columns (total 21 columns):\n",
      " #   Column                          Non-Null Count  Dtype         \n",
      "---  ------                          --------------  -----         \n",
      " 0   BOROUGH                         98270 non-null  int64         \n",
      " 1   NEIGHBORHOOD                    98270 non-null  object        \n",
      " 2   BUILDING CLASS CATEGORY         98270 non-null  object        \n",
      " 3   TAX CLASS AT PRESENT            98210 non-null  object        \n",
      " 4   BLOCK                           98270 non-null  int64         \n",
      " 5   LOT                             98270 non-null  int64         \n",
      " 6   EASEMENT                        0 non-null      float64       \n",
      " 7   BUILDING CLASS AT PRESENT       98210 non-null  object        \n",
      " 8   ADDRESS                         98270 non-null  object        \n",
      " 9   APARTMENT NUMBER                25280 non-null  object        \n",
      " 10  ZIP CODE                        98268 non-null  float64       \n",
      " 11  RESIDENTIAL UNITS               74209 non-null  float64       \n",
      " 12  COMMERCIAL UNITS                55050 non-null  float64       \n",
      " 13  TOTAL UNITS                     77365 non-null  float64       \n",
      " 14  LAND SQUARE FEET                51894 non-null  float64       \n",
      " 15  GROSS SQUARE FEET               51894 non-null  float64       \n",
      " 16  YEAR BUILT                      90962 non-null  float64       \n",
      " 17  TAX CLASS AT TIME OF SALE       98270 non-null  int64         \n",
      " 18  BUILDING CLASS AT TIME OF SALE  98270 non-null  object        \n",
      " 19  SALE PRICE                      98270 non-null  int64         \n",
      " 20  SALE DATE                       98270 non-null  datetime64[ns]\n",
      "dtypes: datetime64[ns](1), float64(8), int64(5), object(7)\n",
      "memory usage: 16.5+ MB\n"
     ]
    }
   ],
   "source": [
    "# data cleaning for all_data\n",
    "all_data.head()\n",
    "all_data.info()\n",
    "all_data.describe()\n",
    "\n",
    "# According to all_data.info(), the following columns have NaN:\n",
    "# TAX CLASS AT PRESENT\n",
    "# EASEMENT (all values are missing, will not be using this column)\n",
    "# BUILDING CLASS AT PRESENT \n",
    "# APARTMENT NUMBER\n",
    "# ZIP CODE\n",
    "# RESIDENTIAL UNITS\n",
    "# COMMERCIAL UNITS\n",
    "# TOTAL UNITS\n",
    "# LAND SQUARE FEET\n",
    "# GROSS SQUARE FEET\n",
    "# YEAR BUILT\n",
    "\n",
    "# According to all_data.describe(), the following columns have values equal to 0 which they should not have:\n",
    "# Land square feet\n",
    "# Gross square feet\n",
    "# Sale price\n",
    "\n",
    "# drop column EASEMENT and rows with NaN\n",
    "# too many NULL value for APARTMENT NUMBER, dropping this column\n",
    "all_data.dropna(subset = ['LAND SQUARE FEET', 'GROSS SQUARE FEET', 'YEAR BUILT', 'SALE PRICE'], inplace = True)\n",
    "all_data = all_data.drop(columns = ['EASEMENT', 'COMMERCIAL UNITS', 'APARTMENT NUMBER'])\n",
    "\n",
    "# in this case, the target property is residential properties\n",
    "# thus, according to the glossary for TAX CLASS AT TIME OF SALE\n",
    "# dropping rows with TAX CLASS AT TIME OF SALE = 3 or 4\n",
    "# dropping column COMMERCIAL UNITS\n",
    "all_data = all_data.loc[(all_data['TAX CLASS AT TIME OF SALE'] == 1) | (all_data['TAX CLASS AT TIME OF SALE'] == 2)]\n",
    "all_data.head()\n",
    "\n",
    "# # drop unreasonable data\n",
    "# # drop rows with LAND SQUARE FEET, GROSS SQUARE FEET, YEAR BUILT, or SALE PRICE equals to 0\n",
    "# all_data = all_data.loc[~((all_data['LAND SQUARE FEET'] == 0) | (all_data['GROSS SQUARE FEET'] == 0) | (all_data['YEAR BUILT'] == 0) | (all_data['SALE PRICE'] == 0))]\n",
    "\n",
    "all_data.describe()\n",
    "\n",
    "# split all_data into training and testing datasets for linear regression\n",
    "training_data, testing_data = train_test_split(all_data, test_size = 0.2, random_state = 25)"
   ]
  },
  {
   "cell_type": "code",
   "execution_count": 4,
   "id": "dfe313e5",
   "metadata": {
    "execution": {
     "iopub.execute_input": "2022-07-14T20:04:37.236358Z",
     "iopub.status.busy": "2022-07-14T20:04:37.235930Z",
     "iopub.status.idle": "2022-07-14T20:04:37.278972Z",
     "shell.execute_reply": "2022-07-14T20:04:37.276897Z"
    },
    "papermill": {
     "duration": 0.055404,
     "end_time": "2022-07-14T20:04:37.282962",
     "exception": false,
     "start_time": "2022-07-14T20:04:37.227558",
     "status": "completed"
    },
    "tags": []
   },
   "outputs": [
    {
     "name": "stdout",
     "output_type": "stream",
     "text": [
      "<class 'pandas.core.frame.DataFrame'>\n",
      "Int64Index: 37816 entries, 17931 to 20964\n",
      "Data columns (total 18 columns):\n",
      " #   Column                          Non-Null Count  Dtype         \n",
      "---  ------                          --------------  -----         \n",
      " 0   BOROUGH                         37816 non-null  int64         \n",
      " 1   NEIGHBORHOOD                    37816 non-null  object        \n",
      " 2   BUILDING CLASS CATEGORY         37816 non-null  object        \n",
      " 3   TAX CLASS AT PRESENT            37816 non-null  object        \n",
      " 4   BLOCK                           37816 non-null  int64         \n",
      " 5   LOT                             37816 non-null  int64         \n",
      " 6   BUILDING CLASS AT PRESENT       37816 non-null  object        \n",
      " 7   ADDRESS                         37816 non-null  object        \n",
      " 8   ZIP CODE                        37816 non-null  float64       \n",
      " 9   RESIDENTIAL UNITS               37816 non-null  float64       \n",
      " 10  TOTAL UNITS                     37816 non-null  float64       \n",
      " 11  LAND SQUARE FEET                37816 non-null  float64       \n",
      " 12  GROSS SQUARE FEET               37816 non-null  float64       \n",
      " 13  YEAR BUILT                      37816 non-null  float64       \n",
      " 14  TAX CLASS AT TIME OF SALE       37816 non-null  int64         \n",
      " 15  BUILDING CLASS AT TIME OF SALE  37816 non-null  object        \n",
      " 16  SALE PRICE                      37816 non-null  int64         \n",
      " 17  SALE DATE                       37816 non-null  datetime64[ns]\n",
      "dtypes: datetime64[ns](1), float64(6), int64(5), object(6)\n",
      "memory usage: 5.5+ MB\n"
     ]
    }
   ],
   "source": [
    "# Step 1: understand the dataset\n",
    "\n",
    "# shape of the training dataset and teh testing dataset\n",
    "# training_data\n",
    "# testing_data\n",
    "\n",
    "# # understand the nature of teh training data\n",
    "# training_data.info()\n",
    "training_data.info()"
   ]
  },
  {
   "cell_type": "code",
   "execution_count": 5,
   "id": "84f3c0ed",
   "metadata": {
    "execution": {
     "iopub.execute_input": "2022-07-14T20:04:37.299412Z",
     "iopub.status.busy": "2022-07-14T20:04:37.298984Z",
     "iopub.status.idle": "2022-07-14T20:04:37.363218Z",
     "shell.execute_reply": "2022-07-14T20:04:37.361881Z"
    },
    "papermill": {
     "duration": 0.076142,
     "end_time": "2022-07-14T20:04:37.366329",
     "exception": false,
     "start_time": "2022-07-14T20:04:37.290187",
     "status": "completed"
    },
    "tags": []
   },
   "outputs": [],
   "source": [
    "# The following variables may need feature engineering:\n",
    "# NEIGHBORHOOD\n",
    "# BUILDING CLASS CATEGORY\n",
    "# ADDRESS\n",
    "# ZIP CODE\n",
    "\n",
    "# After reading the glossary of terms, I decided to include the following columns for now:\n",
    "# BOROUGH OR BLOCK OR LOT OR ZIP CODE OR NEIGHBORHOOD\n",
    "# BUILDING CLASS AT TIME OF SALE\n",
    "# TAX CLASS AT TIME OF SALE\n",
    "# RESIDENTIAL UNITS\n",
    "# COMMERCIAL UNITS\n",
    "# TOTAL UNITS (Maybe)\n",
    "# LAND SQUARE FEET\n",
    "# GROSS SQUARE FEET\n",
    "# YEAR BUILT (need feature engineering)\n",
    "\n",
    "# drop rows with LAND SQUARE FEET, GROSS SQUARE FEET, YEAR BUILT, or SALE PRICE equals to 0\n",
    "training_data = training_data.loc[(training_data['LAND SQUARE FEET'] > 0) & (training_data['GROSS SQUARE FEET'] > 0) & (training_data['YEAR BUILT'] > 0)]\n",
    "\n",
    "# drop rows with LAND SQUARE FEET, GROSS SQUARE FEET, YEAR BUILT\n",
    "training_data.describe()\n",
    "\n",
    "# training_data.describe().columns\n",
    "df_num = training_data[['LAND SQUARE FEET', 'GROSS SQUARE FEET', 'RESIDENTIAL UNITS', 'TOTAL UNITS']]\n",
    "df_cat = training_data[['BOROUGH', 'BLOCK', 'LOT', 'ZIP CODE', 'NEIGHBORHOOD', 'BUILDING CLASS AT TIME OF SALE', 'TAX CLASS AT TIME OF SALE', 'TOTAL UNITS', 'YEAR BUILT']]"
   ]
  },
  {
   "cell_type": "code",
   "execution_count": 6,
   "id": "de006fbc",
   "metadata": {
    "execution": {
     "iopub.execute_input": "2022-07-14T20:04:37.382474Z",
     "iopub.status.busy": "2022-07-14T20:04:37.381999Z",
     "iopub.status.idle": "2022-07-14T20:04:37.696477Z",
     "shell.execute_reply": "2022-07-14T20:04:37.695531Z"
    },
    "papermill": {
     "duration": 0.325405,
     "end_time": "2022-07-14T20:04:37.698798",
     "exception": false,
     "start_time": "2022-07-14T20:04:37.373393",
     "status": "completed"
    },
    "tags": []
   },
   "outputs": [
    {
     "name": "stdout",
     "output_type": "stream",
     "text": [
      "                   LAND SQUARE FEET  GROSS SQUARE FEET  RESIDENTIAL UNITS  \\\n",
      "LAND SQUARE FEET           1.000000           0.434825           0.430717   \n",
      "GROSS SQUARE FEET          0.434825           1.000000           0.977459   \n",
      "RESIDENTIAL UNITS          0.430717           0.977459           1.000000   \n",
      "TOTAL UNITS                0.431599           0.978102           0.999885   \n",
      "\n",
      "                   TOTAL UNITS  \n",
      "LAND SQUARE FEET      0.431599  \n",
      "GROSS SQUARE FEET     0.978102  \n",
      "RESIDENTIAL UNITS     0.999885  \n",
      "TOTAL UNITS           1.000000  \n"
     ]
    },
    {
     "data": {
      "text/plain": [
       "<AxesSubplot:>"
      ]
     },
     "execution_count": 6,
     "metadata": {},
     "output_type": "execute_result"
    },
    {
     "data": {
      "image/png": "[encoded data removed]",
      "text/plain": [
       "<Figure size 432x288 with 2 Axes>"
      ]
     },
     "metadata": {
      "needs_background": "light"
     },
     "output_type": "display_data"
    }
   ],
   "source": [
    "# use heatmap to see if any numerical variables are highly correlated\n",
    "print(df_num.corr())\n",
    "sns.heatmap(df_num.corr())"
   ]
  },
  {
   "cell_type": "code",
   "execution_count": 7,
   "id": "1594296e",
   "metadata": {
    "execution": {
     "iopub.execute_input": "2022-07-14T20:04:37.716807Z",
     "iopub.status.busy": "2022-07-14T20:04:37.715371Z",
     "iopub.status.idle": "2022-07-14T20:04:37.723070Z",
     "shell.execute_reply": "2022-07-14T20:04:37.721801Z"
    },
    "papermill": {
     "duration": 0.019365,
     "end_time": "2022-07-14T20:04:37.725654",
     "exception": false,
     "start_time": "2022-07-14T20:04:37.706289",
     "status": "completed"
    },
    "tags": []
   },
   "outputs": [],
   "source": [
    "# it shows that TOTAL UNITS, RESIDENTIAL UNITS, GROSS SQUARE FEET are highly corelated\n",
    "# so TOTAL UNITS and GROSS SQUARE FEET will not be included in the model\n",
    "df_num = df_num.drop(columns = ['TOTAL UNITS', 'GROSS SQUARE FEET'])"
   ]
  },
  {
   "cell_type": "code",
   "execution_count": 8,
   "id": "37ea16cc",
   "metadata": {
    "execution": {
     "iopub.execute_input": "2022-07-14T20:04:37.742785Z",
     "iopub.status.busy": "2022-07-14T20:04:37.742310Z",
     "iopub.status.idle": "2022-07-14T20:04:38.057723Z",
     "shell.execute_reply": "2022-07-14T20:04:38.056196Z"
    },
    "papermill": {
     "duration": 0.328215,
     "end_time": "2022-07-14T20:04:38.061291",
     "exception": false,
     "start_time": "2022-07-14T20:04:37.733076",
     "status": "completed"
    },
    "tags": []
   },
   "outputs": [
    {
     "data": {
      "image/png": "[encoded data removed]",
      "text/plain": [
       "<Figure size 432x288 with 1 Axes>"
      ]
     },
     "metadata": {
      "needs_background": "light"
     },
     "output_type": "display_data"
    },
    {
     "data": {
      "image/png": "[encoded data removed]",
      "text/plain": [
       "<Figure size 432x288 with 1 Axes>"
      ]
     },
     "metadata": {
      "needs_background": "light"
     },
     "output_type": "display_data"
    }
   ],
   "source": [
    "# plot the distribution of the numeric variables\n",
    "for i in df_num.columns:\n",
    "    plt.hist(df_num[i])\n",
    "    plt.title(i)\n",
    "    plt.show()"
   ]
  },
  {
   "cell_type": "code",
   "execution_count": 9,
   "id": "ab9fc573",
   "metadata": {
    "execution": {
     "iopub.execute_input": "2022-07-14T20:04:38.080515Z",
     "iopub.status.busy": "2022-07-14T20:04:38.079603Z",
     "iopub.status.idle": "2022-07-14T20:04:38.100786Z",
     "shell.execute_reply": "2022-07-14T20:04:38.099372Z"
    },
    "papermill": {
     "duration": 0.03361,
     "end_time": "2022-07-14T20:04:38.103338",
     "exception": false,
     "start_time": "2022-07-14T20:04:38.069728",
     "status": "completed"
    },
    "tags": []
   },
   "outputs": [
    {
     "data": {
      "text/plain": [
       "array([3., 1., 2., 4., 6., 9., 5., 8., 7.])"
      ]
     },
     "execution_count": 9,
     "metadata": {},
     "output_type": "execute_result"
    }
   ],
   "source": [
    "# need to exclude outliers \n",
    "# in this case, outlier is defined as any value that is outside of the outter fence (Q3 + 3 * IQR)\n",
    "# for LAND SQUARE FEET: 4000 + (3 * 2000) = 10000\n",
    "# for GROSS SQUARE FEET: 2914 + (3 * 1474) = 7336\n",
    "# for RESIDENTIAL UNITS: < 10\n",
    "# for COMMERCIAL UNITS: < 8\n",
    "training_data = training_data.loc[(training_data['LAND SQUARE FEET'] < 10000) & (training_data['RESIDENTIAL UNITS'] < 10)]\n",
    "training_data['RESIDENTIAL UNITS'].unique()"
   ]
  },
  {
   "cell_type": "code",
   "execution_count": 10,
   "id": "3853890e",
   "metadata": {
    "execution": {
     "iopub.execute_input": "2022-07-14T20:04:38.121931Z",
     "iopub.status.busy": "2022-07-14T20:04:38.121537Z",
     "iopub.status.idle": "2022-07-14T20:04:38.583393Z",
     "shell.execute_reply": "2022-07-14T20:04:38.582269Z"
    },
    "papermill": {
     "duration": 0.474074,
     "end_time": "2022-07-14T20:04:38.585728",
     "exception": false,
     "start_time": "2022-07-14T20:04:38.111654",
     "status": "completed"
    },
    "tags": []
   },
   "outputs": [
    {
     "data": {
      "image/png": "[encoded data removed]",
      "text/plain": [
       "<Figure size 432x288 with 1 Axes>"
      ]
     },
     "metadata": {
      "needs_background": "light"
     },
     "output_type": "display_data"
    },
    {
     "data": {
      "image/png": "[encoded data removed]",
      "text/plain": [
       "<Figure size 432x288 with 1 Axes>"
      ]
     },
     "metadata": {
      "needs_background": "light"
     },
     "output_type": "display_data"
    }
   ],
   "source": [
    "df_num = training_data[['LAND SQUARE FEET', 'RESIDENTIAL UNITS']]\n",
    "# df_cat = training_data[['BOROUGH', 'BLOCK', 'LOT', 'ZIP CODE', 'NEIGHBORHOOD', 'BUILDING CLASS AT TIME OF SALE', 'TAX CLASS AT TIME OF SALE', 'RESIDENTIAL UNITS', 'COMMERCIAL UNITS', 'TOTAL UNITS', 'YEAR BUILT']]\n",
    "for i in df_num.columns:\n",
    "    plt.hist(df_num[i])\n",
    "    plt.title(i)\n",
    "    plt.show()"
   ]
  },
  {
   "cell_type": "code",
   "execution_count": 11,
   "id": "7e682623",
   "metadata": {
    "execution": {
     "iopub.execute_input": "2022-07-14T20:04:38.604726Z",
     "iopub.status.busy": "2022-07-14T20:04:38.604334Z",
     "iopub.status.idle": "2022-07-14T20:04:38.612922Z",
     "shell.execute_reply": "2022-07-14T20:04:38.611776Z"
    },
    "papermill": {
     "duration": 0.021332,
     "end_time": "2022-07-14T20:04:38.615516",
     "exception": false,
     "start_time": "2022-07-14T20:04:38.594184",
     "status": "completed"
    },
    "tags": []
   },
   "outputs": [],
   "source": [
    "# LAND SQUARE FEET, GROSS SQUARE FEET, RESIDENTIAL UNITS, COMMERCIAL UNITS are right skewed\n",
    "# use log transformation to normalize them\n",
    "training_data['LAND SQUARE FEET'] = np.log(training_data['LAND SQUARE FEET'])\n",
    "# training_data['GROSS SQUARE FEET'] = np.log(training_data['GROSS SQUARE FEET'])\n",
    "training_data['RESIDENTIAL UNITS'] = np.log(training_data['RESIDENTIAL UNITS'].add(1))\n",
    "# training_data['COMMERCIAL UNITS'] = np.log(training_data['COMMERCIAL UNITS'].add(1))"
   ]
  },
  {
   "cell_type": "code",
   "execution_count": 12,
   "id": "26a708c9",
   "metadata": {
    "execution": {
     "iopub.execute_input": "2022-07-14T20:04:38.635128Z",
     "iopub.status.busy": "2022-07-14T20:04:38.634755Z",
     "iopub.status.idle": "2022-07-14T20:04:39.072794Z",
     "shell.execute_reply": "2022-07-14T20:04:39.071405Z"
    },
    "papermill": {
     "duration": 0.450913,
     "end_time": "2022-07-14T20:04:39.075210",
     "exception": false,
     "start_time": "2022-07-14T20:04:38.624297",
     "status": "completed"
    },
    "tags": []
   },
   "outputs": [
    {
     "data": {
      "image/png": "[encoded data removed]",
      "text/plain": [
       "<Figure size 432x288 with 1 Axes>"
      ]
     },
     "metadata": {
      "needs_background": "light"
     },
     "output_type": "display_data"
    },
    {
     "data": {
      "image/png": "[encoded data removed]",
      "text/plain": [
       "<Figure size 432x288 with 1 Axes>"
      ]
     },
     "metadata": {
      "needs_background": "light"
     },
     "output_type": "display_data"
    },
    {
     "data": {
      "text/html": [
       "<div>\n",
       "<style scoped>\n",
       "    .dataframe tbody tr th:only-of-type {\n",
       "        vertical-align: middle;\n",
       "    }\n",
       "\n",
       "    .dataframe tbody tr th {\n",
       "        vertical-align: top;\n",
       "    }\n",
       "\n",
       "    .dataframe thead th {\n",
       "        text-align: right;\n",
       "    }\n",
       "</style>\n",
       "<table border=\"1\" class=\"dataframe\">\n",
       "  <thead>\n",
       "    <tr style=\"text-align: right;\">\n",
       "      <th></th>\n",
       "      <th>BOROUGH</th>\n",
       "      <th>NEIGHBORHOOD</th>\n",
       "      <th>BUILDING CLASS CATEGORY</th>\n",
       "      <th>TAX CLASS AT PRESENT</th>\n",
       "      <th>BLOCK</th>\n",
       "      <th>LOT</th>\n",
       "      <th>BUILDING CLASS AT PRESENT</th>\n",
       "      <th>ADDRESS</th>\n",
       "      <th>ZIP CODE</th>\n",
       "      <th>RESIDENTIAL UNITS</th>\n",
       "      <th>TOTAL UNITS</th>\n",
       "      <th>LAND SQUARE FEET</th>\n",
       "      <th>GROSS SQUARE FEET</th>\n",
       "      <th>YEAR BUILT</th>\n",
       "      <th>TAX CLASS AT TIME OF SALE</th>\n",
       "      <th>BUILDING CLASS AT TIME OF SALE</th>\n",
       "      <th>SALE PRICE</th>\n",
       "      <th>SALE DATE</th>\n",
       "    </tr>\n",
       "  </thead>\n",
       "  <tbody>\n",
       "    <tr>\n",
       "      <th>17931</th>\n",
       "      <td>4</td>\n",
       "      <td>LONG ISLAND CITY</td>\n",
       "      <td>03 THREE FAMILY DWELLINGS</td>\n",
       "      <td>1</td>\n",
       "      <td>606</td>\n",
       "      <td>117</td>\n",
       "      <td>C0</td>\n",
       "      <td>35-17 33 STREET</td>\n",
       "      <td>11106.0</td>\n",
       "      <td>1.386294</td>\n",
       "      <td>3.0</td>\n",
       "      <td>7.573531</td>\n",
       "      <td>2813.0</td>\n",
       "      <td>2001.0</td>\n",
       "      <td>1</td>\n",
       "      <td>C0</td>\n",
       "      <td>0</td>\n",
       "      <td>2021-07-30</td>\n",
       "    </tr>\n",
       "    <tr>\n",
       "      <th>20010</th>\n",
       "      <td>3</td>\n",
       "      <td>MARINE PARK</td>\n",
       "      <td>01 ONE FAMILY DWELLINGS</td>\n",
       "      <td>1</td>\n",
       "      <td>8557</td>\n",
       "      <td>56</td>\n",
       "      <td>A1</td>\n",
       "      <td>2226 COLEMAN STREET</td>\n",
       "      <td>11234.0</td>\n",
       "      <td>0.693147</td>\n",
       "      <td>1.0</td>\n",
       "      <td>7.638680</td>\n",
       "      <td>924.0</td>\n",
       "      <td>1920.0</td>\n",
       "      <td>1</td>\n",
       "      <td>A1</td>\n",
       "      <td>800000</td>\n",
       "      <td>2021-08-05</td>\n",
       "    </tr>\n",
       "    <tr>\n",
       "      <th>19425</th>\n",
       "      <td>4</td>\n",
       "      <td>MASPETH</td>\n",
       "      <td>02 TWO FAMILY DWELLINGS</td>\n",
       "      <td>1</td>\n",
       "      <td>2762</td>\n",
       "      <td>98</td>\n",
       "      <td>B1</td>\n",
       "      <td>6301 ELIOT AVE</td>\n",
       "      <td>11379.0</td>\n",
       "      <td>1.098612</td>\n",
       "      <td>2.0</td>\n",
       "      <td>7.600902</td>\n",
       "      <td>2080.0</td>\n",
       "      <td>1930.0</td>\n",
       "      <td>1</td>\n",
       "      <td>B1</td>\n",
       "      <td>0</td>\n",
       "      <td>2021-11-06</td>\n",
       "    </tr>\n",
       "    <tr>\n",
       "      <th>25210</th>\n",
       "      <td>4</td>\n",
       "      <td>SO. JAMAICA-BAISLEY PARK</td>\n",
       "      <td>01 ONE FAMILY DWELLINGS</td>\n",
       "      <td>1</td>\n",
       "      <td>12208</td>\n",
       "      <td>50</td>\n",
       "      <td>A9</td>\n",
       "      <td>118-30 154TH STREET</td>\n",
       "      <td>11434.0</td>\n",
       "      <td>0.693147</td>\n",
       "      <td>1.0</td>\n",
       "      <td>7.207860</td>\n",
       "      <td>786.0</td>\n",
       "      <td>1925.0</td>\n",
       "      <td>1</td>\n",
       "      <td>A9</td>\n",
       "      <td>500000</td>\n",
       "      <td>2021-07-09</td>\n",
       "    </tr>\n",
       "    <tr>\n",
       "      <th>5413</th>\n",
       "      <td>4</td>\n",
       "      <td>EAST ELMHURST</td>\n",
       "      <td>01 ONE FAMILY DWELLINGS</td>\n",
       "      <td>1</td>\n",
       "      <td>1637</td>\n",
       "      <td>49</td>\n",
       "      <td>A5</td>\n",
       "      <td>23-41 100TH STREET</td>\n",
       "      <td>11369.0</td>\n",
       "      <td>0.693147</td>\n",
       "      <td>1.0</td>\n",
       "      <td>7.840706</td>\n",
       "      <td>1104.0</td>\n",
       "      <td>1950.0</td>\n",
       "      <td>1</td>\n",
       "      <td>A5</td>\n",
       "      <td>530000</td>\n",
       "      <td>2021-10-04</td>\n",
       "    </tr>\n",
       "  </tbody>\n",
       "</table>\n",
       "</div>"
      ],
      "text/plain": [
       "       BOROUGH              NEIGHBORHOOD    BUILDING CLASS CATEGORY  \\\n",
       "17931        4          LONG ISLAND CITY  03 THREE FAMILY DWELLINGS   \n",
       "20010        3               MARINE PARK    01 ONE FAMILY DWELLINGS   \n",
       "19425        4                   MASPETH    02 TWO FAMILY DWELLINGS   \n",
       "25210        4  SO. JAMAICA-BAISLEY PARK    01 ONE FAMILY DWELLINGS   \n",
       "5413         4             EAST ELMHURST    01 ONE FAMILY DWELLINGS   \n",
       "\n",
       "      TAX CLASS AT PRESENT  BLOCK  LOT BUILDING CLASS AT PRESENT  \\\n",
       "17931                    1    606  117                        C0   \n",
       "20010                    1   8557   56                        A1   \n",
       "19425                    1   2762   98                        B1   \n",
       "25210                    1  12208   50                        A9   \n",
       "5413                     1   1637   49                        A5   \n",
       "\n",
       "                   ADDRESS  ZIP CODE  RESIDENTIAL UNITS  TOTAL UNITS  \\\n",
       "17931      35-17 33 STREET   11106.0           1.386294          3.0   \n",
       "20010  2226 COLEMAN STREET   11234.0           0.693147          1.0   \n",
       "19425       6301 ELIOT AVE   11379.0           1.098612          2.0   \n",
       "25210  118-30 154TH STREET   11434.0           0.693147          1.0   \n",
       "5413    23-41 100TH STREET   11369.0           0.693147          1.0   \n",
       "\n",
       "       LAND SQUARE FEET  GROSS SQUARE FEET  YEAR BUILT  \\\n",
       "17931          7.573531             2813.0      2001.0   \n",
       "20010          7.638680              924.0      1920.0   \n",
       "19425          7.600902             2080.0      1930.0   \n",
       "25210          7.207860              786.0      1925.0   \n",
       "5413           7.840706             1104.0      1950.0   \n",
       "\n",
       "       TAX CLASS AT TIME OF SALE BUILDING CLASS AT TIME OF SALE  SALE PRICE  \\\n",
       "17931                          1                             C0           0   \n",
       "20010                          1                             A1      800000   \n",
       "19425                          1                             B1           0   \n",
       "25210                          1                             A9      500000   \n",
       "5413                           1                             A5      530000   \n",
       "\n",
       "       SALE DATE  \n",
       "17931 2021-07-30  \n",
       "20010 2021-08-05  \n",
       "19425 2021-11-06  \n",
       "25210 2021-07-09  \n",
       "5413  2021-10-04  "
      ]
     },
     "execution_count": 12,
     "metadata": {},
     "output_type": "execute_result"
    }
   ],
   "source": [
    "df_num = training_data[['LAND SQUARE FEET', 'RESIDENTIAL UNITS']]\n",
    "df_cat = training_data[['BOROUGH', 'BLOCK', 'LOT', 'ZIP CODE', 'NEIGHBORHOOD', 'BUILDING CLASS AT TIME OF SALE', 'TAX CLASS AT TIME OF SALE', 'YEAR BUILT']]\n",
    "for i in df_num.columns:\n",
    "    plt.hist(df_num[i])\n",
    "    plt.title(i)\n",
    "    plt.show()\n",
    "training_data.head()"
   ]
  },
  {
   "cell_type": "code",
   "execution_count": 13,
   "id": "b5aa643c",
   "metadata": {
    "execution": {
     "iopub.execute_input": "2022-07-14T20:04:39.096186Z",
     "iopub.status.busy": "2022-07-14T20:04:39.095311Z",
     "iopub.status.idle": "2022-07-14T20:04:39.397606Z",
     "shell.execute_reply": "2022-07-14T20:04:39.395982Z"
    },
    "papermill": {
     "duration": 0.315485,
     "end_time": "2022-07-14T20:04:39.400047",
     "exception": false,
     "start_time": "2022-07-14T20:04:39.084562",
     "status": "completed"
    },
    "tags": []
   },
   "outputs": [
    {
     "name": "stdout",
     "output_type": "stream",
     "text": [
      "                            BOROUGH     BLOCK       LOT  ZIP CODE  \\\n",
      "BOROUGH                    1.000000  0.119429 -0.000418  0.004428   \n",
      "BLOCK                      0.119429  1.000000  0.027659  0.452184   \n",
      "LOT                       -0.000418  0.027659  1.000000 -0.104607   \n",
      "ZIP CODE                   0.004428  0.452184 -0.104607  1.000000   \n",
      "TAX CLASS AT TIME OF SALE -0.192983 -0.191304 -0.043803 -0.022566   \n",
      "YEAR BUILT                 0.335580  0.088693  0.100825 -0.250581   \n",
      "\n",
      "                           TAX CLASS AT TIME OF SALE  YEAR BUILT  \n",
      "BOROUGH                                    -0.192983    0.335580  \n",
      "BLOCK                                      -0.191304    0.088693  \n",
      "LOT                                        -0.043803    0.100825  \n",
      "ZIP CODE                                   -0.022566   -0.250581  \n",
      "TAX CLASS AT TIME OF SALE                   1.000000   -0.109861  \n",
      "YEAR BUILT                                 -0.109861    1.000000  \n"
     ]
    },
    {
     "data": {
      "text/plain": [
       "<AxesSubplot:>"
      ]
     },
     "execution_count": 13,
     "metadata": {},
     "output_type": "execute_result"
    },
    {
     "data": {
      "image/png": "[encoded data removed]",
      "text/plain": [
       "<Figure size 432x288 with 2 Axes>"
      ]
     },
     "metadata": {
      "needs_background": "light"
     },
     "output_type": "display_data"
    }
   ],
   "source": [
    "# for categorical variable\n",
    "print(df_cat.corr())\n",
    "sns.heatmap(df_cat.corr())"
   ]
  },
  {
   "cell_type": "code",
   "execution_count": 14,
   "id": "d6eed8c7",
   "metadata": {
    "execution": {
     "iopub.execute_input": "2022-07-14T20:04:39.423260Z",
     "iopub.status.busy": "2022-07-14T20:04:39.422570Z",
     "iopub.status.idle": "2022-07-14T20:04:39.437694Z",
     "shell.execute_reply": "2022-07-14T20:04:39.436381Z"
    },
    "papermill": {
     "duration": 0.029701,
     "end_time": "2022-07-14T20:04:39.440112",
     "exception": false,
     "start_time": "2022-07-14T20:04:39.410411",
     "status": "completed"
    },
    "tags": []
   },
   "outputs": [
    {
     "data": {
      "text/plain": [
       "172"
      ]
     },
     "execution_count": 14,
     "metadata": {},
     "output_type": "execute_result"
    }
   ],
   "source": [
    "# choosing variables to include: BOROUGH, NEIGHBORHOOD, BLOCK, LOT, ZIP CODE\n",
    "len(df_cat['NEIGHBORHOOD'].unique()) # 240\n",
    "len(df_cat['BLOCK'].unique()) # 10632\n",
    "len(df_cat['LOT'].unique()) # 716\n",
    "len(df_cat['ZIP CODE'].unique()) # 172"
   ]
  },
  {
   "cell_type": "code",
   "execution_count": 15,
   "id": "11686cef",
   "metadata": {
    "execution": {
     "iopub.execute_input": "2022-07-14T20:04:39.463395Z",
     "iopub.status.busy": "2022-07-14T20:04:39.462551Z",
     "iopub.status.idle": "2022-07-14T20:04:39.468113Z",
     "shell.execute_reply": "2022-07-14T20:04:39.467280Z"
    },
    "papermill": {
     "duration": 0.019711,
     "end_time": "2022-07-14T20:04:39.470380",
     "exception": false,
     "start_time": "2022-07-14T20:04:39.450669",
     "status": "completed"
    },
    "tags": []
   },
   "outputs": [],
   "source": [
    "# drop the outlier for RESIDENTIAL UNITS and COMMERCIAL UNITS\n",
    "# training_data = training_data.loc[training_data['COMMERCIAL UNITS'] < 16]\n",
    "# df_cat = training_data[['BOROUGH', 'BLOCK', 'LOT', 'ZIP CODE', 'NEIGHBORHOOD', 'BUILDING CLASS AT TIME OF SALE', 'TAX CLASS AT TIME OF SALE', 'RESIDENTIAL UNITS', 'COMMERCIAL UNITS', 'TOTAL UNITS', 'YEAR BUILT', 'SALE PRICE']]\n",
    "\n",
    "\n",
    "# df_residential_mean = df_cat.groupby(['RESIDENTIAL UNITS']).agg({'SALE PRICE': 'mean'})\n",
    "# plt.bar(df_residential_mean.index, df_residential_mean['SALE PRICE'])\n",
    "# plt.title('RESIDENTIAL UNITS VS AVG SALE PRICE')\n",
    "# plt.show()\n",
    "\n",
    "# df_commercial_mean = df_cat.groupby(['COMMERCIAL UNITS']).agg({'SALE PRICE': 'mean'})\n",
    "# plt.bar(df_commercial_mean.index, df_commercial_mean['SALE PRICE'])\n",
    "# plt.title('COMMERCIAL UNITS VS AVG SALE PRICE')\n",
    "# plt.show()\n"
   ]
  },
  {
   "cell_type": "code",
   "execution_count": 16,
   "id": "8aa49fa1",
   "metadata": {
    "execution": {
     "iopub.execute_input": "2022-07-14T20:04:39.493450Z",
     "iopub.status.busy": "2022-07-14T20:04:39.492551Z",
     "iopub.status.idle": "2022-07-14T20:04:39.498497Z",
     "shell.execute_reply": "2022-07-14T20:04:39.497630Z"
    },
    "papermill": {
     "duration": 0.020355,
     "end_time": "2022-07-14T20:04:39.500868",
     "exception": false,
     "start_time": "2022-07-14T20:04:39.480513",
     "status": "completed"
    },
    "tags": []
   },
   "outputs": [],
   "source": [
    "# # data cleansing for three numerical variables\n",
    "# # drop rows where LAND SQUARE FEET, GROSS SQUARE FEET, YEAR BUILT or SALE PRICE is 0\n",
    "# training_data_drop_0 = training_data.loc[~((training_data['LAND SQUARE FEET'] == 0) | (training_data['GROSS SQUARE FEET'] == 0) | (training_data['YEAR BUILT'] == 0) | (training_data['SALE PRICE'] == 0))]\n",
    "# training_data_drop_0.describe()\n",
    "\n",
    "# # NEXT STEP: research about the smallest habitable space; drop outliers\n",
    "# # identifying values that are outside of the outter fence(Q3 + 3*IQ) to be outliers\n",
    "# # outter_fence_land = 2800 + 3*()\n",
    "# # lower_fence_price = 340000 - 1.5 * (730000 - 340000)\n",
    "\n",
    "# # after researching about the smallest habitable space and the smallest apartment in NYC\n",
    "# # I decided to drop rows with LAND SQUARE FEET < 60 or GROSS SQUARE FEET < 60\n",
    "# # in addition, since this dataset includes data from 2003 to 2019, I looked up the \n",
    "# training_data_clean = training_data_drop_0.loc[(training_data_drop_0['LAND SQUARE FEET'] >= 60) & (training_data_drop_0['GROSS SQUARE FEET'] >= 60)]\n",
    "# training_data_clean.describe()\n",
    "\n",
    "# training_data_clean.sort_values('SALE PRICE').head(20000)\n"
   ]
  }
 ],
 "metadata": {
  "kernelspec": {
   "display_name": "Python 3",
   "language": "python",
   "name": "python3"
  },
  "language_info": {
   "codemirror_mode": {
    "name": "ipython",
    "version": 3
   },
   "file_extension": ".py",
   "mimetype": "text/x-python",
   "name": "python",
   "nbconvert_exporter": "python",
   "pygments_lexer": "ipython3",
   "version": "3.7.12"
  },
  "papermill": {
   "default_parameters": {},
   "duration": 73.175872,
   "end_time": "2022-07-14T20:04:40.637065",
   "environment_variables": {},
   "exception": null,
   "input_path": "__notebook__.ipynb",
   "output_path": "__notebook__.ipynb",
   "parameters": {},
   "start_time": "2022-07-14T20:03:27.461193",
   "version": "2.3.4"
  }
 },
 "nbformat": 4,
 "nbformat_minor": 5
}
